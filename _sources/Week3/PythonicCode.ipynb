{
 "cells": [
  {
   "cell_type": "markdown",
   "id": "bd3a853e",
   "metadata": {},
   "source": [
    "# Pythonic code\n",
    "\n",
    "There are four sections in the notebook.  The first three sections introduce list comprehension, f-strings, and lambda functions.  Comfort with these topics is one sign of an experienced Python programmer, and code that makes use of these sorts of Python-specific techniques is said to be *Pythonic*.\n",
    "\n",
    "The fourth section in this notebook is a fun (and more advanced) example of using lambda functions and f-strings to change the way NumPy formats arrays."
   ]
  },
  {
   "cell_type": "markdown",
   "id": "b22ad576",
   "metadata": {},
   "source": [
    "(list-comp)=\n",
    "## List comprehension\n",
    "\n",
    "<iframe width=\"560\" height=\"315\" src=\"https://www.youtube.com/embed/pttbHdy4RGs\" title=\"YouTube video player\" frameborder=\"0\" allow=\"accelerometer; autoplay; clipboard-write; encrypted-media; gyroscope; picture-in-picture\" allowfullscreen></iframe>\n",
    "\n",
    "List comprehension has already been mentioned a few times, because some lists we were making were most naturally built using list comprehension.  (Once you're comfortable with list comprehension, it feels very strange to make a list using a for-loop if list comprehension would also work.)\n",
    "\n",
    "In this section, we will go more systematically through examples of list comprehension.  If any of these examples don't make sense, I recommend trying to make the same list using for loops, and then comparing your for loop code with our list comprehension code.  I think you will find in each case that there is a lot of overlap between the for loop approach and the list comprehension approach."
   ]
  },
  {
   "cell_type": "markdown",
   "id": "3f71f274",
   "metadata": {},
   "source": [
    "* Make a length 8 list of all 6s using list comprehension.\n",
    "\n",
    "Here is the general structure of a list comprehension.  Square brackets, in the form \n",
    "\n",
    "```\n",
    "[A for B in C]\n",
    "```\n",
    "where\n",
    "* A is what you want to go in the list;\n",
    "* B is a variable name;\n",
    "* C is the object you are iterating over.\n",
    "\n",
    "In this particular case,\n",
    "* A is the number 6.\n",
    "* B is `i`. (Any variable name would work and in this case it never gets used.  Underscore `_` would be another common choice.)\n",
    "* C is `range(8)`.  In this case, the only important thing is that it has length 8."
   ]
  },
  {
   "cell_type": "code",
   "execution_count": 1,
   "id": "a5115c12",
   "metadata": {},
   "outputs": [
    {
     "data": {
      "text/plain": [
       "[6, 6, 6, 6, 6, 6, 6, 6]"
      ]
     },
     "execution_count": 1,
     "metadata": {},
     "output_type": "execute_result"
    }
   ],
   "source": [
    "[6 for i in range(8)]"
   ]
  },
  {
   "cell_type": "markdown",
   "id": "cf9fb75c-3756-4c83-b430-167704ec0d16",
   "metadata": {},
   "source": [
    "Here is a more representative example, where different elements appear in the final list (as opposed to the previous list, where all the elements were equal to 6)."
   ]
  },
  {
   "cell_type": "markdown",
   "id": "d84cff4d",
   "metadata": {},
   "source": [
    "* Let `mylist = [3,1,-2,10,-5,3,6,2,8]`.  Square each element in `mylist`."
   ]
  },
  {
   "cell_type": "code",
   "execution_count": 2,
   "id": "42f403bb",
   "metadata": {},
   "outputs": [],
   "source": [
    "mylist = [3,1,-2,10,-5,3,6,2,8]"
   ]
  },
  {
   "cell_type": "markdown",
   "id": "3e440758-6cb3-4e18-9175-1cd86f5f10f3",
   "metadata": {},
   "source": [
    "In this case, the element that should go in the list is `x**2`, where `x` runs through the elements in `mylist`.  (We could just as well as used any other variable name.  I often use `i` if it's an index and use `x` if it's an element in a list.)"
   ]
  },
  {
   "cell_type": "code",
   "execution_count": 4,
   "id": "122c9dcf",
   "metadata": {},
   "outputs": [
    {
     "data": {
      "text/plain": [
       "[9, 1, 4, 100, 25, 9, 36, 4, 64]"
      ]
     },
     "execution_count": 4,
     "metadata": {},
     "output_type": "execute_result"
    }
   ],
   "source": [
    "[x**2 for x in mylist]"
   ]
  },
  {
   "cell_type": "markdown",
   "id": "c01f827f-eaf4-45ca-b92a-33594b07c2c5",
   "metadata": {},
   "source": [
    "Here is an example where we do not use every element from `mylist`.  In this case, we restrict the elements we take from `mylist` using `if`.  In this case we use `x%2 == 0` to ask if the integer `x` is even."
   ]
  },
  {
   "cell_type": "markdown",
   "id": "9b11794d",
   "metadata": {},
   "source": [
    "* Get the sublist of `mylist` containing only the even numbers."
   ]
  },
  {
   "cell_type": "code",
   "execution_count": 6,
   "id": "678129e9",
   "metadata": {},
   "outputs": [
    {
     "data": {
      "text/plain": [
       "[-2, 10, 6, 2, 8]"
      ]
     },
     "execution_count": 6,
     "metadata": {},
     "output_type": "execute_result"
    }
   ],
   "source": [
    "[x for x in mylist if x%2 == 0]"
   ]
  },
  {
   "cell_type": "markdown",
   "id": "269c8ded-79fc-4d6b-8559-2b05d485511e",
   "metadata": {},
   "source": [
    "The next example is similar, but we will use an `if`-`else` condition instead of just using `if`.  There is more difference than that, however.  In this case, we have to move the `if`-`else` condition to the front of the list comprehension.  You should memorize these examples."
   ]
  },
  {
   "cell_type": "markdown",
   "id": "096fb897",
   "metadata": {},
   "source": [
    "* Replace each negative number in `mylist` with 0."
   ]
  },
  {
   "cell_type": "code",
   "execution_count": 7,
   "id": "11b73730",
   "metadata": {},
   "outputs": [
    {
     "data": {
      "text/plain": [
       "[3, 1, 0, 10, 0, 3, 6, 2, 8]"
      ]
     },
     "execution_count": 7,
     "metadata": {},
     "output_type": "execute_result"
    }
   ],
   "source": [
    "[x if x >= 0 else 0 for x in mylist]"
   ]
  },
  {
   "cell_type": "markdown",
   "id": "08d1e652-d167-417e-aedd-a1cbed713a6c",
   "metadata": {},
   "source": [
    "Here is another way to phrase it."
   ]
  },
  {
   "cell_type": "code",
   "execution_count": 8,
   "id": "890b15a4",
   "metadata": {},
   "outputs": [
    {
     "data": {
      "text/plain": [
       "[3, 1, 0, 10, 0, 3, 6, 2, 8]"
      ]
     },
     "execution_count": 8,
     "metadata": {},
     "output_type": "execute_result"
    }
   ],
   "source": [
    "[0 if x < 0 else x for x in mylist]"
   ]
  },
  {
   "cell_type": "markdown",
   "id": "0f625139-66f2-4eb2-840b-df5d9709625c",
   "metadata": {},
   "source": [
    "The following is maybe easier than it looks; it is very similar to our constant 6 list from the beginning.  In this case, the constant portion is the list `[0,1,2]`."
   ]
  },
  {
   "cell_type": "markdown",
   "id": "318d5fc0",
   "metadata": {},
   "source": [
    "* Make the length-8 list of lists `[[0,1,2], [0,1,2], ..., [0,1,2]]`."
   ]
  },
  {
   "cell_type": "code",
   "execution_count": 9,
   "id": "e78aa94c",
   "metadata": {},
   "outputs": [
    {
     "data": {
      "text/plain": [
       "[[0, 1, 2],\n",
       " [0, 1, 2],\n",
       " [0, 1, 2],\n",
       " [0, 1, 2],\n",
       " [0, 1, 2],\n",
       " [0, 1, 2],\n",
       " [0, 1, 2],\n",
       " [0, 1, 2]]"
      ]
     },
     "execution_count": 9,
     "metadata": {},
     "output_type": "execute_result"
    }
   ],
   "source": [
    "[[0,1,2] for _ in range(8)]"
   ]
  },
  {
   "cell_type": "markdown",
   "id": "761029bb-e2f5-4503-8a01-2207c0485572",
   "metadata": {},
   "source": [
    "This really is length-8, not for example length-24."
   ]
  },
  {
   "cell_type": "code",
   "execution_count": 10,
   "id": "d5918296",
   "metadata": {},
   "outputs": [
    {
     "data": {
      "text/plain": [
       "8"
      ]
     },
     "execution_count": 10,
     "metadata": {},
     "output_type": "execute_result"
    }
   ],
   "source": [
    "len([[0,1,2] for _ in range(8)])"
   ]
  },
  {
   "cell_type": "markdown",
   "id": "7e2dcf8f",
   "metadata": {},
   "source": [
    "* Make the length-24 list `[0,1,2,0,1,2,...,0,1,2]`."
   ]
  },
  {
   "cell_type": "markdown",
   "id": "65e91ae2-e7ec-4e92-8310-179fd691ccb3",
   "metadata": {},
   "source": [
    "I think this is the hardest example, so let's first see the for-loop version."
   ]
  },
  {
   "cell_type": "code",
   "execution_count": 12,
   "id": "46e33104",
   "metadata": {},
   "outputs": [],
   "source": [
    "newlist = []\n",
    "for j in range(8):\n",
    "    for i in range(3):\n",
    "        newlist.append(i)"
   ]
  },
  {
   "cell_type": "code",
   "execution_count": 13,
   "id": "b8527972",
   "metadata": {},
   "outputs": [
    {
     "data": {
      "text/plain": [
       "[0, 1, 2, 0, 1, 2, 0, 1, 2, 0, 1, 2, 0, 1, 2, 0, 1, 2, 0, 1, 2, 0, 1, 2]"
      ]
     },
     "execution_count": 13,
     "metadata": {},
     "output_type": "execute_result"
    }
   ],
   "source": [
    "newlist"
   ]
  },
  {
   "cell_type": "markdown",
   "id": "f456d00c-0971-4fec-86ea-d0534e94445f",
   "metadata": {},
   "source": [
    "Notice how similar the list comprehension version is.  (For example, the order of the two `for` portions is the same.) "
   ]
  },
  {
   "cell_type": "code",
   "execution_count": 11,
   "id": "1ff7d443",
   "metadata": {},
   "outputs": [
    {
     "data": {
      "text/plain": [
       "[0, 1, 2, 0, 1, 2, 0, 1, 2, 0, 1, 2, 0, 1, 2, 0, 1, 2, 0, 1, 2, 0, 1, 2]"
      ]
     },
     "execution_count": 11,
     "metadata": {},
     "output_type": "execute_result"
    }
   ],
   "source": [
    "[i for j in range(8) for i in range(3)]"
   ]
  },
  {
   "cell_type": "markdown",
   "id": "dfb32f63-b3d3-4160-a37b-dff1c0f7c222",
   "metadata": {},
   "source": [
    "Here is an example where we work with a list of strings instead of a list of numbers."
   ]
  },
  {
   "cell_type": "markdown",
   "id": "f2c21620",
   "metadata": {},
   "source": [
    "* Capitalize each word in the catalogue description of Math 9.\n",
    "\n",
    "> Introduction to computers and programming using Matlab and Python. Representation of numbers and precision, input/output, functions, custom data types, testing/debugging, reading exceptions, plotting data, numerical differentiation, basics of algorithms. Analysis of random processes using computer simulations."
   ]
  },
  {
   "cell_type": "markdown",
   "id": "d3566c66-3fc0-41db-b96c-bfe5d55a62db",
   "metadata": {},
   "source": [
    "If your string has line breaks, you should use triple apostrophes to surround it, like in the following."
   ]
  },
  {
   "cell_type": "code",
   "execution_count": 15,
   "id": "818bc64e",
   "metadata": {},
   "outputs": [],
   "source": [
    "s = '''Introduction to computers and programming using Matlab and Python.\n",
    "Representation of numbers and precision, input/output, functions, custom data types,\n",
    "testing/debugging, reading exceptions, plotting data, numerical differentiation,\n",
    "basics of algorithms. Analysis of random processes using computer simulations.'''"
   ]
  },
  {
   "cell_type": "code",
   "execution_count": 16,
   "id": "1ef4698f",
   "metadata": {},
   "outputs": [
    {
     "data": {
      "text/plain": [
       "str"
      ]
     },
     "execution_count": 16,
     "metadata": {},
     "output_type": "execute_result"
    }
   ],
   "source": [
    "type(s)"
   ]
  },
  {
   "cell_type": "markdown",
   "id": "fe57f9a7-ad07-4b19-bc0c-a30dea0dbea5",
   "metadata": {},
   "source": [
    "If we try to directly iterate over the string, we will be iterating over the letters."
   ]
  },
  {
   "cell_type": "code",
   "execution_count": 17,
   "id": "8ae0c3a8",
   "metadata": {
    "tags": [
     "output_scroll"
    ]
   },
   "outputs": [
    {
     "data": {
      "text/plain": [
       "['I',\n",
       " 'n',\n",
       " 't',\n",
       " 'r',\n",
       " 'o',\n",
       " 'd',\n",
       " 'u',\n",
       " 'c',\n",
       " 't',\n",
       " 'i',\n",
       " 'o',\n",
       " 'n',\n",
       " ' ',\n",
       " 't',\n",
       " 'o',\n",
       " ' ',\n",
       " 'c',\n",
       " 'o',\n",
       " 'm',\n",
       " 'p',\n",
       " 'u',\n",
       " 't',\n",
       " 'e',\n",
       " 'r',\n",
       " 's',\n",
       " ' ',\n",
       " 'a',\n",
       " 'n',\n",
       " 'd',\n",
       " ' ',\n",
       " 'p',\n",
       " 'r',\n",
       " 'o',\n",
       " 'g',\n",
       " 'r',\n",
       " 'a',\n",
       " 'm',\n",
       " 'm',\n",
       " 'i',\n",
       " 'n',\n",
       " 'g',\n",
       " ' ',\n",
       " 'u',\n",
       " 's',\n",
       " 'i',\n",
       " 'n',\n",
       " 'g',\n",
       " ' ',\n",
       " 'M',\n",
       " 'a',\n",
       " 't',\n",
       " 'l',\n",
       " 'a',\n",
       " 'b',\n",
       " ' ',\n",
       " 'a',\n",
       " 'n',\n",
       " 'd',\n",
       " ' ',\n",
       " 'P',\n",
       " 'y',\n",
       " 't',\n",
       " 'h',\n",
       " 'o',\n",
       " 'n',\n",
       " '.',\n",
       " '\\n',\n",
       " 'R',\n",
       " 'e',\n",
       " 'p',\n",
       " 'r',\n",
       " 'e',\n",
       " 's',\n",
       " 'e',\n",
       " 'n',\n",
       " 't',\n",
       " 'a',\n",
       " 't',\n",
       " 'i',\n",
       " 'o',\n",
       " 'n',\n",
       " ' ',\n",
       " 'o',\n",
       " 'f',\n",
       " ' ',\n",
       " 'n',\n",
       " 'u',\n",
       " 'm',\n",
       " 'b',\n",
       " 'e',\n",
       " 'r',\n",
       " 's',\n",
       " ' ',\n",
       " 'a',\n",
       " 'n',\n",
       " 'd',\n",
       " ' ',\n",
       " 'p',\n",
       " 'r',\n",
       " 'e',\n",
       " 'c',\n",
       " 'i',\n",
       " 's',\n",
       " 'i',\n",
       " 'o',\n",
       " 'n',\n",
       " ',',\n",
       " ' ',\n",
       " 'i',\n",
       " 'n',\n",
       " 'p',\n",
       " 'u',\n",
       " 't',\n",
       " '/',\n",
       " 'o',\n",
       " 'u',\n",
       " 't',\n",
       " 'p',\n",
       " 'u',\n",
       " 't',\n",
       " ',',\n",
       " ' ',\n",
       " 'f',\n",
       " 'u',\n",
       " 'n',\n",
       " 'c',\n",
       " 't',\n",
       " 'i',\n",
       " 'o',\n",
       " 'n',\n",
       " 's',\n",
       " ',',\n",
       " ' ',\n",
       " 'c',\n",
       " 'u',\n",
       " 's',\n",
       " 't',\n",
       " 'o',\n",
       " 'm',\n",
       " ' ',\n",
       " 'd',\n",
       " 'a',\n",
       " 't',\n",
       " 'a',\n",
       " ' ',\n",
       " 't',\n",
       " 'y',\n",
       " 'p',\n",
       " 'e',\n",
       " 's',\n",
       " ',',\n",
       " '\\n',\n",
       " 't',\n",
       " 'e',\n",
       " 's',\n",
       " 't',\n",
       " 'i',\n",
       " 'n',\n",
       " 'g',\n",
       " '/',\n",
       " 'd',\n",
       " 'e',\n",
       " 'b',\n",
       " 'u',\n",
       " 'g',\n",
       " 'g',\n",
       " 'i',\n",
       " 'n',\n",
       " 'g',\n",
       " ',',\n",
       " ' ',\n",
       " 'r',\n",
       " 'e',\n",
       " 'a',\n",
       " 'd',\n",
       " 'i',\n",
       " 'n',\n",
       " 'g',\n",
       " ' ',\n",
       " 'e',\n",
       " 'x',\n",
       " 'c',\n",
       " 'e',\n",
       " 'p',\n",
       " 't',\n",
       " 'i',\n",
       " 'o',\n",
       " 'n',\n",
       " 's',\n",
       " ',',\n",
       " ' ',\n",
       " 'p',\n",
       " 'l',\n",
       " 'o',\n",
       " 't',\n",
       " 't',\n",
       " 'i',\n",
       " 'n',\n",
       " 'g',\n",
       " ' ',\n",
       " 'd',\n",
       " 'a',\n",
       " 't',\n",
       " 'a',\n",
       " ',',\n",
       " ' ',\n",
       " 'n',\n",
       " 'u',\n",
       " 'm',\n",
       " 'e',\n",
       " 'r',\n",
       " 'i',\n",
       " 'c',\n",
       " 'a',\n",
       " 'l',\n",
       " ' ',\n",
       " 'd',\n",
       " 'i',\n",
       " 'f',\n",
       " 'f',\n",
       " 'e',\n",
       " 'r',\n",
       " 'e',\n",
       " 'n',\n",
       " 't',\n",
       " 'i',\n",
       " 'a',\n",
       " 't',\n",
       " 'i',\n",
       " 'o',\n",
       " 'n',\n",
       " ',',\n",
       " '\\n',\n",
       " 'b',\n",
       " 'a',\n",
       " 's',\n",
       " 'i',\n",
       " 'c',\n",
       " 's',\n",
       " ' ',\n",
       " 'o',\n",
       " 'f',\n",
       " ' ',\n",
       " 'a',\n",
       " 'l',\n",
       " 'g',\n",
       " 'o',\n",
       " 'r',\n",
       " 'i',\n",
       " 't',\n",
       " 'h',\n",
       " 'm',\n",
       " 's',\n",
       " '.',\n",
       " ' ',\n",
       " 'A',\n",
       " 'n',\n",
       " 'a',\n",
       " 'l',\n",
       " 'y',\n",
       " 's',\n",
       " 'i',\n",
       " 's',\n",
       " ' ',\n",
       " 'o',\n",
       " 'f',\n",
       " ' ',\n",
       " 'r',\n",
       " 'a',\n",
       " 'n',\n",
       " 'd',\n",
       " 'o',\n",
       " 'm',\n",
       " ' ',\n",
       " 'p',\n",
       " 'r',\n",
       " 'o',\n",
       " 'c',\n",
       " 'e',\n",
       " 's',\n",
       " 's',\n",
       " 'e',\n",
       " 's',\n",
       " ' ',\n",
       " 'u',\n",
       " 's',\n",
       " 'i',\n",
       " 'n',\n",
       " 'g',\n",
       " ' ',\n",
       " 'c',\n",
       " 'o',\n",
       " 'm',\n",
       " 'p',\n",
       " 'u',\n",
       " 't',\n",
       " 'e',\n",
       " 'r',\n",
       " ' ',\n",
       " 's',\n",
       " 'i',\n",
       " 'm',\n",
       " 'u',\n",
       " 'l',\n",
       " 'a',\n",
       " 't',\n",
       " 'i',\n",
       " 'o',\n",
       " 'n',\n",
       " 's',\n",
       " '.']"
      ]
     },
     "execution_count": 17,
     "metadata": {},
     "output_type": "execute_result"
    }
   ],
   "source": [
    "[c for c in s]"
   ]
  },
  {
   "cell_type": "markdown",
   "id": "049d556a-b7d0-41f1-aef5-e1b4915d729e",
   "metadata": {},
   "source": [
    "Here is an easy way to turn a string into a list of words.  (It separates the string at all white-space.)"
   ]
  },
  {
   "cell_type": "code",
   "execution_count": 19,
   "id": "034b5714",
   "metadata": {},
   "outputs": [],
   "source": [
    "wordlist = s.split()"
   ]
  },
  {
   "cell_type": "code",
   "execution_count": 21,
   "id": "75683c94",
   "metadata": {},
   "outputs": [
    {
     "data": {
      "text/plain": [
       "'computers'"
      ]
     },
     "execution_count": 21,
     "metadata": {},
     "output_type": "execute_result"
    }
   ],
   "source": [
    "wordlist[2]"
   ]
  },
  {
   "cell_type": "markdown",
   "id": "565b7e8c-0235-43d0-858e-0a0958c81f72",
   "metadata": {},
   "source": [
    "We eventually want to capitalize every word.  Strings in Python have a `capitalize` method."
   ]
  },
  {
   "cell_type": "code",
   "execution_count": 22,
   "id": "3615cde6",
   "metadata": {},
   "outputs": [
    {
     "data": {
      "text/plain": [
       "'Computers'"
      ]
     },
     "execution_count": 22,
     "metadata": {},
     "output_type": "execute_result"
    }
   ],
   "source": [
    "wordlist[2].capitalize()"
   ]
  },
  {
   "cell_type": "markdown",
   "id": "9de4250c-2798-4787-ac2c-48df3a3edddb",
   "metadata": {},
   "source": [
    "The following will make a list that has each word capitalized."
   ]
  },
  {
   "cell_type": "code",
   "execution_count": 24,
   "id": "06e0e513",
   "metadata": {},
   "outputs": [],
   "source": [
    "caplist = [x.capitalize() for x in wordlist]"
   ]
  },
  {
   "cell_type": "markdown",
   "id": "e40fd3cf-3263-498c-8dac-48d2165f3dbb",
   "metadata": {},
   "source": [
    "We used the following method once before to concatenate a list of strings together into one long string.  That's not quite what we want to do in this case, because we want spaces between the words."
   ]
  },
  {
   "cell_type": "code",
   "execution_count": 25,
   "id": "e3ee70e8",
   "metadata": {},
   "outputs": [
    {
     "data": {
      "text/plain": [
       "'IntroductionToComputersAndProgrammingUsingMatlabAndPython.RepresentationOfNumbersAndPrecision,Input/output,Functions,CustomDataTypes,Testing/debugging,ReadingExceptions,PlottingData,NumericalDifferentiation,BasicsOfAlgorithms.AnalysisOfRandomProcessesUsingComputerSimulations.'"
      ]
     },
     "execution_count": 25,
     "metadata": {},
     "output_type": "execute_result"
    }
   ],
   "source": [
    "''.join(caplist)"
   ]
  },
  {
   "cell_type": "markdown",
   "id": "77a85fe6-de8a-4272-8796-be0846a5b66c",
   "metadata": {},
   "source": [
    "It's an easy change to get what we want.  Instead of starting with an empty string (length 0), we start with a length-1 string that contains a single space.  Then Python puts that space between all the words in our list."
   ]
  },
  {
   "cell_type": "code",
   "execution_count": 26,
   "id": "28678ced",
   "metadata": {},
   "outputs": [
    {
     "data": {
      "text/plain": [
       "'Introduction To Computers And Programming Using Matlab And Python. Representation Of Numbers And Precision, Input/output, Functions, Custom Data Types, Testing/debugging, Reading Exceptions, Plotting Data, Numerical Differentiation, Basics Of Algorithms. Analysis Of Random Processes Using Computer Simulations.'"
      ]
     },
     "execution_count": 26,
     "metadata": {},
     "output_type": "execute_result"
    }
   ],
   "source": [
    "' '.join(caplist)"
   ]
  },
  {
   "cell_type": "markdown",
   "id": "393e823f",
   "metadata": {},
   "source": [
    "## f-strings\n",
    "\n",
    "<iframe width=\"560\" height=\"315\" src=\"https://www.youtube.com/embed/m-WiKLCIEkc\" title=\"YouTube video player\" frameborder=\"0\" allow=\"accelerometer; autoplay; clipboard-write; encrypted-media; gyroscope; picture-in-picture\" allowfullscreen></iframe>\n",
    "\n",
    "We often want to combine a fixed string with the value of some variable.  I believe the most elegant way to do this is to use f-strings, which are a relatively recent addition to Python.  (As of Summer 2022, I am using Python 3.10, and f-strings were added in Python 3.6.)  Because f-strings are relatively new, you will often see older methods of doing the same thing, so it's important to be aware of the alternatives."
   ]
  },
  {
   "cell_type": "code",
   "execution_count": 1,
   "id": "1e072769",
   "metadata": {},
   "outputs": [],
   "source": [
    "name = \"Chris\"\n",
    "n = 10"
   ]
  },
  {
   "cell_type": "markdown",
   "id": "ba3dea7f-a263-4312-8224-6d20c6e31d5d",
   "metadata": {},
   "source": [
    "Of course the following will not substitute the values for `name` or `n`.  (How would Python even know which `n`s to substitute?)"
   ]
  },
  {
   "cell_type": "code",
   "execution_count": 2,
   "id": "621770ff",
   "metadata": {},
   "outputs": [
    {
     "name": "stdout",
     "output_type": "stream",
     "text": [
      "Hello, name, nice to meet you n times\n"
     ]
    }
   ],
   "source": [
    "print(\"Hello, name, nice to meet you n times\")"
   ]
  },
  {
   "cell_type": "markdown",
   "id": "9a74588b-b57e-4cf2-992b-4d444accb6a4",
   "metadata": {},
   "source": [
    "Here is one method that at least gets everything printed.  (Notice the extra space after \"Chris\".)"
   ]
  },
  {
   "cell_type": "code",
   "execution_count": 4,
   "id": "691ad76e",
   "metadata": {},
   "outputs": [
    {
     "name": "stdout",
     "output_type": "stream",
     "text": [
      "Hello, Chris , nice to meet you 10 times\n"
     ]
    }
   ],
   "source": [
    "print(\"Hello,\", name, \", nice to meet you\", n, \"times\")"
   ]
  },
  {
   "cell_type": "markdown",
   "id": "a33ae2a8-d18f-43b6-8982-c05fd73784f3",
   "metadata": {},
   "source": [
    "In very simple cases, using `+` to concatenate two strings is often the simplest method.  (But make sure the things you're combining really are strings.)"
   ]
  },
  {
   "cell_type": "code",
   "execution_count": 5,
   "id": "8dd54554",
   "metadata": {},
   "outputs": [
    {
     "ename": "TypeError",
     "evalue": "can only concatenate str (not \"int\") to str",
     "output_type": "error",
     "traceback": [
      "\u001b[0;31m---------------------------------------------------------------------------\u001b[0m",
      "\u001b[0;31mTypeError\u001b[0m                                 Traceback (most recent call last)",
      "Input \u001b[0;32mIn [5]\u001b[0m, in \u001b[0;36m<cell line: 1>\u001b[0;34m()\u001b[0m\n\u001b[0;32m----> 1\u001b[0m \u001b[38;5;28mprint\u001b[39m(\u001b[38;5;124;43m\"\u001b[39;49m\u001b[38;5;124;43mHello,\u001b[39;49m\u001b[38;5;124;43m\"\u001b[39;49m\u001b[43m \u001b[49m\u001b[38;5;241;43m+\u001b[39;49m\u001b[43m \u001b[49m\u001b[43mname\u001b[49m\u001b[43m \u001b[49m\u001b[38;5;241;43m+\u001b[39;49m\u001b[43m \u001b[49m\u001b[38;5;124;43m\"\u001b[39;49m\u001b[38;5;124;43m, nice to meet you\u001b[39;49m\u001b[38;5;124;43m\"\u001b[39;49m\u001b[43m \u001b[49m\u001b[38;5;241;43m+\u001b[39;49m\u001b[43m \u001b[49m\u001b[43mn\u001b[49m \u001b[38;5;241m+\u001b[39m \u001b[38;5;124m\"\u001b[39m\u001b[38;5;124mtimes\u001b[39m\u001b[38;5;124m\"\u001b[39m)\n",
      "\u001b[0;31mTypeError\u001b[0m: can only concatenate str (not \"int\") to str"
     ]
    }
   ],
   "source": [
    "print(\"Hello,\" + name + \", nice to meet you\" + n + \"times\")"
   ]
  },
  {
   "cell_type": "markdown",
   "id": "b77ba413-2ce3-49c8-9a63-49717c62d1eb",
   "metadata": {},
   "source": [
    "The `+` version does work if we make sure to convert `n` to a string, using `str(n)`."
   ]
  },
  {
   "cell_type": "code",
   "execution_count": 7,
   "id": "9d027128",
   "metadata": {},
   "outputs": [
    {
     "name": "stdout",
     "output_type": "stream",
     "text": [
      "Hello, Chris, nice to meet you 10 times\n"
     ]
    }
   ],
   "source": [
    "print(\"Hello, \" + name + \", nice to meet you \" + str(n) + \" times\")"
   ]
  },
  {
   "cell_type": "markdown",
   "id": "0dd127b1-5e62-4de4-bb2d-e50b30c5ef32",
   "metadata": {},
   "source": [
    "In more advanced cases, you will often see the `format` method being used; I think this was the preferred way before f-strings showed up.  Empty curly brackets `{}` are used where a variable value should be substituted.  The least nice part of the `format` approach is that you need to keep track of the order of the variables that you want to include."
   ]
  },
  {
   "cell_type": "code",
   "execution_count": 8,
   "id": "61bb396f",
   "metadata": {},
   "outputs": [
    {
     "data": {
      "text/plain": [
       "'Hello, Chris, nice to meet you 10 times'"
      ]
     },
     "execution_count": 8,
     "metadata": {},
     "output_type": "execute_result"
    }
   ],
   "source": [
    "\"Hello, {}, nice to meet you {} times\".format(name, n)"
   ]
  },
  {
   "cell_type": "markdown",
   "id": "85ce2fa8-d4c5-4319-b582-61ffe44c44b4",
   "metadata": {},
   "source": [
    "Here is finally the f-string approach.  Again curly brackets `{}` are used to indicate the portions Python should treat as an expression rather than as a string.  The f-string approach is much more readable than the earlier approaches.  Notice how we put an `f` before the quotation marks."
   ]
  },
  {
   "cell_type": "code",
   "execution_count": 9,
   "id": "b4866bc2",
   "metadata": {},
   "outputs": [
    {
     "data": {
      "text/plain": [
       "'Hello, Chris, nice to meet you 10 times'"
      ]
     },
     "execution_count": 9,
     "metadata": {},
     "output_type": "execute_result"
    }
   ],
   "source": [
    "f\"Hello, {name}, nice to meet you {n} times\""
   ]
  },
  {
   "cell_type": "markdown",
   "id": "4f53c105-4916-493e-b024-1c68bd14fb01",
   "metadata": {},
   "source": [
    "There are [lots](https://docs.python.org/3.4/library/string.html#format-specification-mini-language) of formatting options that can be used with f-strings.  (Don't bother trying to memorize these.  Even reading that linked documentation I find very difficult.  Instead you should memorize the above example of using f-strings, but the specific formatting parameters don't need to be memorized.)"
   ]
  },
  {
   "cell_type": "code",
   "execution_count": 10,
   "id": "e7c79b74",
   "metadata": {},
   "outputs": [],
   "source": [
    "m = 3**20"
   ]
  },
  {
   "cell_type": "code",
   "execution_count": 11,
   "id": "ed59e780",
   "metadata": {},
   "outputs": [
    {
     "data": {
      "text/plain": [
       "3486784401"
      ]
     },
     "execution_count": 11,
     "metadata": {},
     "output_type": "execute_result"
    }
   ],
   "source": [
    "m"
   ]
  },
  {
   "cell_type": "code",
   "execution_count": 12,
   "id": "1fd7d48f",
   "metadata": {},
   "outputs": [
    {
     "data": {
      "text/plain": [
       "'3486784401'"
      ]
     },
     "execution_count": 12,
     "metadata": {},
     "output_type": "execute_result"
    }
   ],
   "source": [
    "f\"{m}\""
   ]
  },
  {
   "cell_type": "markdown",
   "id": "d74d1543-54c1-4a64-bd15-e7479e2a8a3b",
   "metadata": {},
   "source": [
    "If we would rather use the exponential notation (as we have seen in some NumPy outputs), we can use `:e`."
   ]
  },
  {
   "cell_type": "code",
   "execution_count": 13,
   "id": "5bbe6e22",
   "metadata": {},
   "outputs": [
    {
     "data": {
      "text/plain": [
       "'3.486784e+09'"
      ]
     },
     "execution_count": 13,
     "metadata": {},
     "output_type": "execute_result"
    }
   ],
   "source": [
    "f\"{m:e}\""
   ]
  },
  {
   "cell_type": "markdown",
   "id": "878b71b4-543a-43e6-966b-5bf887301b98",
   "metadata": {},
   "source": [
    "If you want to see 4 places after the decimal point, you can use `:.4f`.  The `f` is saying to treat this number as a floating point number."
   ]
  },
  {
   "cell_type": "code",
   "execution_count": 14,
   "id": "ac856ad4",
   "metadata": {},
   "outputs": [
    {
     "data": {
      "text/plain": [
       "'3486784401.0000'"
      ]
     },
     "execution_count": 14,
     "metadata": {},
     "output_type": "execute_result"
    }
   ],
   "source": [
    "f\"{m:.4f}\""
   ]
  },
  {
   "cell_type": "code",
   "execution_count": 15,
   "id": "915a8951",
   "metadata": {},
   "outputs": [
    {
     "data": {
      "text/plain": [
       "'0.0000'"
      ]
     },
     "execution_count": 15,
     "metadata": {},
     "output_type": "execute_result"
    }
   ],
   "source": [
    "f\"{1/m:.4f}\""
   ]
  },
  {
   "cell_type": "markdown",
   "id": "384c841a-52fe-49b4-b2c3-1322b775f065",
   "metadata": {},
   "source": [
    "Here we specify 15 decimal places."
   ]
  },
  {
   "cell_type": "code",
   "execution_count": 16,
   "id": "5ae409ed",
   "metadata": {},
   "outputs": [
    {
     "data": {
      "text/plain": [
       "'0.000000000286797'"
      ]
     },
     "execution_count": 16,
     "metadata": {},
     "output_type": "execute_result"
    }
   ],
   "source": [
    "f\"{1/m:.15f}\""
   ]
  },
  {
   "cell_type": "markdown",
   "id": "f6a45f8d-ea92-446b-9200-1f3f2a5d8336",
   "metadata": {},
   "source": [
    "Notice that by default, Python displays `1/m` in exponential notation."
   ]
  },
  {
   "cell_type": "code",
   "execution_count": 17,
   "id": "ef99389d",
   "metadata": {},
   "outputs": [
    {
     "data": {
      "text/plain": [
       "2.8679719907924413e-10"
      ]
     },
     "execution_count": 17,
     "metadata": {},
     "output_type": "execute_result"
    }
   ],
   "source": [
    "1/m"
   ]
  },
  {
   "cell_type": "markdown",
   "id": "b6d37d33-e331-4c7f-aff5-ebed87491705",
   "metadata": {},
   "source": [
    "Here are some more formatting examples.  The following `:b` says to display the integer in binary.  For example, $17 = 1 \\cdot 2^4 + 1 \\cdot 2^0$, which is $10001$ when written in binary (also called \"base 2\")."
   ]
  },
  {
   "cell_type": "code",
   "execution_count": 18,
   "id": "780958cd",
   "metadata": {
    "tags": []
   },
   "outputs": [],
   "source": [
    "z = 17"
   ]
  },
  {
   "cell_type": "code",
   "execution_count": 19,
   "id": "01480b75",
   "metadata": {},
   "outputs": [
    {
     "data": {
      "text/plain": [
       "'10001'"
      ]
     },
     "execution_count": 19,
     "metadata": {},
     "output_type": "execute_result"
    }
   ],
   "source": [
    "f\"{z:b}\""
   ]
  },
  {
   "cell_type": "markdown",
   "id": "ff52f3c6-d42a-4edb-a377-1c55a6fcd65c",
   "metadata": {},
   "source": [
    "Here is the above number $3^{20}$ written in binary."
   ]
  },
  {
   "cell_type": "code",
   "execution_count": 20,
   "id": "debb06df",
   "metadata": {},
   "outputs": [
    {
     "data": {
      "text/plain": [
       "'11001111110101000001101110010001'"
      ]
     },
     "execution_count": 20,
     "metadata": {},
     "output_type": "execute_result"
    }
   ],
   "source": [
    "f\"{m:b}\""
   ]
  },
  {
   "cell_type": "markdown",
   "id": "00f990b9",
   "metadata": {},
   "source": [
    "## lambda functions\n",
    "\n",
    "<iframe width=\"560\" height=\"315\" src=\"https://www.youtube.com/embed/x5SDQIVWfOk\" title=\"YouTube video player\" frameborder=\"0\" allow=\"accelerometer; autoplay; clipboard-write; encrypted-media; gyroscope; picture-in-picture\" allowfullscreen></iframe>\n",
    "\n",
    "In this section we will introduce lambda functions, which are a concise way to define functions in Python.  They are very similar to function handles or anonymous functions in Matlab."
   ]
  },
  {
   "cell_type": "markdown",
   "id": "42972e5e",
   "metadata": {},
   "source": [
    "* Write a function `cap` that takes as input a string `s` and as output returns the same string `s` capitalized."
   ]
  },
  {
   "cell_type": "markdown",
   "id": "50b5df27-718f-4773-85d2-0ad7380d8412",
   "metadata": {},
   "source": [
    "Our \"usual\" way of defining a function like `cap` uses the following syntax, but this syntax is overkill for such a simple function."
   ]
  },
  {
   "cell_type": "code",
   "execution_count": 1,
   "id": "44ec25fd",
   "metadata": {},
   "outputs": [],
   "source": [
    "def cap(s):\n",
    "    return s.capitalize()"
   ]
  },
  {
   "cell_type": "code",
   "execution_count": 2,
   "id": "06ade2f5",
   "metadata": {},
   "outputs": [
    {
     "data": {
      "text/plain": [
       "'Hello there'"
      ]
     },
     "execution_count": 2,
     "metadata": {},
     "output_type": "execute_result"
    }
   ],
   "source": [
    "cap(\"hello there\")"
   ]
  },
  {
   "cell_type": "markdown",
   "id": "bf4156a8-57ad-42e8-acd6-0117b6efe1de",
   "metadata": {},
   "source": [
    "Here is the lambda function approach.  We tell Python that we are about to define a function by using `lambda`.  The part that comes between `lambda` and the colon `:` specifies the variables for our function.  The part that comes after the colon is what the function will return.  The whole piece `lambda s: s.capitalize()` is defining the function, and we are saving that function with the name `cap`."
   ]
  },
  {
   "cell_type": "code",
   "execution_count": 3,
   "id": "9206a90d",
   "metadata": {},
   "outputs": [],
   "source": [
    "cap = lambda s: s.capitalize()"
   ]
  },
  {
   "cell_type": "code",
   "execution_count": 4,
   "id": "bdac728d",
   "metadata": {},
   "outputs": [
    {
     "data": {
      "text/plain": [
       "'Hello there'"
      ]
     },
     "execution_count": 4,
     "metadata": {},
     "output_type": "execute_result"
    }
   ],
   "source": [
    "cap(\"hello there\")"
   ]
  },
  {
   "cell_type": "markdown",
   "id": "fd521a02",
   "metadata": {},
   "source": [
    "Here is an example that needs two inputs.\n",
    "\n",
    "* Write a function `plus` that takes two inputs and adds them together."
   ]
  },
  {
   "cell_type": "code",
   "execution_count": 5,
   "id": "38648995",
   "metadata": {},
   "outputs": [],
   "source": [
    "plus = lambda x,y: x+y"
   ]
  },
  {
   "cell_type": "code",
   "execution_count": 6,
   "id": "d9e2398e",
   "metadata": {},
   "outputs": [
    {
     "data": {
      "text/plain": [
       "8"
      ]
     },
     "execution_count": 6,
     "metadata": {},
     "output_type": "execute_result"
    }
   ],
   "source": [
    "plus(3,5)"
   ]
  },
  {
   "cell_type": "markdown",
   "id": "a7bd5dd0-0d6f-430a-89d3-4446e2f2e0bb",
   "metadata": {},
   "source": [
    "Even though we had numbers in mind when we wrote this function, it will also work with any inputs for which `x+y` makes sense in Python, like strings."
   ]
  },
  {
   "cell_type": "code",
   "execution_count": 7,
   "id": "fe9d03f7",
   "metadata": {},
   "outputs": [
    {
     "data": {
      "text/plain": [
       "'hithere'"
      ]
     },
     "execution_count": 7,
     "metadata": {},
     "output_type": "execute_result"
    }
   ],
   "source": [
    "plus(\"hi\", \"there\")"
   ]
  },
  {
   "cell_type": "markdown",
   "id": "be4fc1a3-f280-4772-b962-02e3c8c71568",
   "metadata": {},
   "source": [
    "Here is a more interesting example and a more realistic instance where we would want to use a lambda function."
   ]
  },
  {
   "cell_type": "markdown",
   "id": "d7804cd0",
   "metadata": {},
   "source": [
    "* Make a 20-by-3 NumPy array of random letters, then concatenate each row of three letters into a single length-3 string using `np.apply_along_axis`."
   ]
  },
  {
   "cell_type": "code",
   "execution_count": 8,
   "id": "a4489fd7",
   "metadata": {},
   "outputs": [],
   "source": [
    "import numpy as np\n",
    "rng = np.random.default_rng()"
   ]
  },
  {
   "cell_type": "markdown",
   "id": "197a54af-3974-4eef-be2c-a2d8ad09549d",
   "metadata": {},
   "source": [
    "Just as an aside, here is a way to get the 26 lower-case and 26 upper-case letters in English."
   ]
  },
  {
   "cell_type": "code",
   "execution_count": 9,
   "id": "d60b412b",
   "metadata": {},
   "outputs": [],
   "source": [
    "import string"
   ]
  },
  {
   "cell_type": "markdown",
   "id": "a3b06d61-8ea2-4e99-8f04-c99f5833cdf5",
   "metadata": {},
   "source": [
    "If we just want to see what is defined by this module `string`, we can use the `dir` function.  In the case of this module `string`, there aren't too many."
   ]
  },
  {
   "cell_type": "code",
   "execution_count": 10,
   "id": "0c3a421a",
   "metadata": {
    "tags": [
     "output_scroll"
    ]
   },
   "outputs": [
    {
     "data": {
      "text/plain": [
       "['Formatter',\n",
       " 'Template',\n",
       " '_ChainMap',\n",
       " '__all__',\n",
       " '__builtins__',\n",
       " '__cached__',\n",
       " '__doc__',\n",
       " '__file__',\n",
       " '__loader__',\n",
       " '__name__',\n",
       " '__package__',\n",
       " '__spec__',\n",
       " '_re',\n",
       " '_sentinel_dict',\n",
       " '_string',\n",
       " 'ascii_letters',\n",
       " 'ascii_lowercase',\n",
       " 'ascii_uppercase',\n",
       " 'capwords',\n",
       " 'digits',\n",
       " 'hexdigits',\n",
       " 'octdigits',\n",
       " 'printable',\n",
       " 'punctuation',\n",
       " 'whitespace']"
      ]
     },
     "execution_count": 10,
     "metadata": {},
     "output_type": "execute_result"
    }
   ],
   "source": [
    "dir(string)"
   ]
  },
  {
   "cell_type": "markdown",
   "id": "efb22e42-6333-4a5e-aac3-82e50d2fb7d8",
   "metadata": {},
   "source": [
    "On the other hand, if we check `dir(np)`, we will see many more options."
   ]
  },
  {
   "cell_type": "code",
   "execution_count": 11,
   "id": "f6ad6de4",
   "metadata": {
    "tags": [
     "output_scroll"
    ]
   },
   "outputs": [
    {
     "data": {
      "text/plain": [
       "['ALLOW_THREADS',\n",
       " 'AxisError',\n",
       " 'BUFSIZE',\n",
       " 'CLIP',\n",
       " 'ComplexWarning',\n",
       " 'DataSource',\n",
       " 'ERR_CALL',\n",
       " 'ERR_DEFAULT',\n",
       " 'ERR_IGNORE',\n",
       " 'ERR_LOG',\n",
       " 'ERR_PRINT',\n",
       " 'ERR_RAISE',\n",
       " 'ERR_WARN',\n",
       " 'FLOATING_POINT_SUPPORT',\n",
       " 'FPE_DIVIDEBYZERO',\n",
       " 'FPE_INVALID',\n",
       " 'FPE_OVERFLOW',\n",
       " 'FPE_UNDERFLOW',\n",
       " 'False_',\n",
       " 'Inf',\n",
       " 'Infinity',\n",
       " 'MAXDIMS',\n",
       " 'MAY_SHARE_BOUNDS',\n",
       " 'MAY_SHARE_EXACT',\n",
       " 'ModuleDeprecationWarning',\n",
       " 'NAN',\n",
       " 'NINF',\n",
       " 'NZERO',\n",
       " 'NaN',\n",
       " 'PINF',\n",
       " 'PZERO',\n",
       " 'RAISE',\n",
       " 'RankWarning',\n",
       " 'SHIFT_DIVIDEBYZERO',\n",
       " 'SHIFT_INVALID',\n",
       " 'SHIFT_OVERFLOW',\n",
       " 'SHIFT_UNDERFLOW',\n",
       " 'ScalarType',\n",
       " 'Tester',\n",
       " 'TooHardError',\n",
       " 'True_',\n",
       " 'UFUNC_BUFSIZE_DEFAULT',\n",
       " 'UFUNC_PYVALS_NAME',\n",
       " 'VisibleDeprecationWarning',\n",
       " 'WRAP',\n",
       " '_CopyMode',\n",
       " '_NoValue',\n",
       " '_UFUNC_API',\n",
       " '__NUMPY_SETUP__',\n",
       " '__all__',\n",
       " '__builtins__',\n",
       " '__cached__',\n",
       " '__config__',\n",
       " '__deprecated_attrs__',\n",
       " '__dir__',\n",
       " '__doc__',\n",
       " '__expired_functions__',\n",
       " '__file__',\n",
       " '__getattr__',\n",
       " '__git_version__',\n",
       " '__loader__',\n",
       " '__name__',\n",
       " '__package__',\n",
       " '__path__',\n",
       " '__spec__',\n",
       " '__version__',\n",
       " '_add_newdoc_ufunc',\n",
       " '_distributor_init',\n",
       " '_financial_names',\n",
       " '_globals',\n",
       " '_mat',\n",
       " '_pyinstaller_hooks_dir',\n",
       " '_pytesttester',\n",
       " '_version',\n",
       " 'abs',\n",
       " 'absolute',\n",
       " 'add',\n",
       " 'add_docstring',\n",
       " 'add_newdoc',\n",
       " 'add_newdoc_ufunc',\n",
       " 'all',\n",
       " 'allclose',\n",
       " 'alltrue',\n",
       " 'amax',\n",
       " 'amin',\n",
       " 'angle',\n",
       " 'any',\n",
       " 'append',\n",
       " 'apply_along_axis',\n",
       " 'apply_over_axes',\n",
       " 'arange',\n",
       " 'arccos',\n",
       " 'arccosh',\n",
       " 'arcsin',\n",
       " 'arcsinh',\n",
       " 'arctan',\n",
       " 'arctan2',\n",
       " 'arctanh',\n",
       " 'argmax',\n",
       " 'argmin',\n",
       " 'argpartition',\n",
       " 'argsort',\n",
       " 'argwhere',\n",
       " 'around',\n",
       " 'array',\n",
       " 'array2string',\n",
       " 'array_equal',\n",
       " 'array_equiv',\n",
       " 'array_repr',\n",
       " 'array_split',\n",
       " 'array_str',\n",
       " 'asanyarray',\n",
       " 'asarray',\n",
       " 'asarray_chkfinite',\n",
       " 'ascontiguousarray',\n",
       " 'asfarray',\n",
       " 'asfortranarray',\n",
       " 'asmatrix',\n",
       " 'atleast_1d',\n",
       " 'atleast_2d',\n",
       " 'atleast_3d',\n",
       " 'average',\n",
       " 'bartlett',\n",
       " 'base_repr',\n",
       " 'binary_repr',\n",
       " 'bincount',\n",
       " 'bitwise_and',\n",
       " 'bitwise_not',\n",
       " 'bitwise_or',\n",
       " 'bitwise_xor',\n",
       " 'blackman',\n",
       " 'block',\n",
       " 'bmat',\n",
       " 'bool8',\n",
       " 'bool_',\n",
       " 'broadcast',\n",
       " 'broadcast_arrays',\n",
       " 'broadcast_shapes',\n",
       " 'broadcast_to',\n",
       " 'busday_count',\n",
       " 'busday_offset',\n",
       " 'busdaycalendar',\n",
       " 'byte',\n",
       " 'byte_bounds',\n",
       " 'bytes0',\n",
       " 'bytes_',\n",
       " 'c_',\n",
       " 'can_cast',\n",
       " 'cast',\n",
       " 'cbrt',\n",
       " 'cdouble',\n",
       " 'ceil',\n",
       " 'cfloat',\n",
       " 'char',\n",
       " 'character',\n",
       " 'chararray',\n",
       " 'choose',\n",
       " 'clip',\n",
       " 'clongdouble',\n",
       " 'clongfloat',\n",
       " 'column_stack',\n",
       " 'common_type',\n",
       " 'compare_chararrays',\n",
       " 'compat',\n",
       " 'complex128',\n",
       " 'complex256',\n",
       " 'complex64',\n",
       " 'complex_',\n",
       " 'complexfloating',\n",
       " 'compress',\n",
       " 'concatenate',\n",
       " 'conj',\n",
       " 'conjugate',\n",
       " 'convolve',\n",
       " 'copy',\n",
       " 'copysign',\n",
       " 'copyto',\n",
       " 'core',\n",
       " 'corrcoef',\n",
       " 'correlate',\n",
       " 'cos',\n",
       " 'cosh',\n",
       " 'count_nonzero',\n",
       " 'cov',\n",
       " 'cross',\n",
       " 'csingle',\n",
       " 'ctypeslib',\n",
       " 'cumprod',\n",
       " 'cumproduct',\n",
       " 'cumsum',\n",
       " 'datetime64',\n",
       " 'datetime_as_string',\n",
       " 'datetime_data',\n",
       " 'deg2rad',\n",
       " 'degrees',\n",
       " 'delete',\n",
       " 'deprecate',\n",
       " 'deprecate_with_doc',\n",
       " 'diag',\n",
       " 'diag_indices',\n",
       " 'diag_indices_from',\n",
       " 'diagflat',\n",
       " 'diagonal',\n",
       " 'diff',\n",
       " 'digitize',\n",
       " 'disp',\n",
       " 'divide',\n",
       " 'divmod',\n",
       " 'dot',\n",
       " 'double',\n",
       " 'dsplit',\n",
       " 'dstack',\n",
       " 'dtype',\n",
       " 'e',\n",
       " 'ediff1d',\n",
       " 'einsum',\n",
       " 'einsum_path',\n",
       " 'emath',\n",
       " 'empty',\n",
       " 'empty_like',\n",
       " 'equal',\n",
       " 'error_message',\n",
       " 'errstate',\n",
       " 'euler_gamma',\n",
       " 'exp',\n",
       " 'exp2',\n",
       " 'expand_dims',\n",
       " 'expm1',\n",
       " 'extract',\n",
       " 'eye',\n",
       " 'fabs',\n",
       " 'fastCopyAndTranspose',\n",
       " 'fft',\n",
       " 'fill_diagonal',\n",
       " 'find_common_type',\n",
       " 'finfo',\n",
       " 'fix',\n",
       " 'flatiter',\n",
       " 'flatnonzero',\n",
       " 'flexible',\n",
       " 'flip',\n",
       " 'fliplr',\n",
       " 'flipud',\n",
       " 'float128',\n",
       " 'float16',\n",
       " 'float32',\n",
       " 'float64',\n",
       " 'float_',\n",
       " 'float_power',\n",
       " 'floating',\n",
       " 'floor',\n",
       " 'floor_divide',\n",
       " 'fmax',\n",
       " 'fmin',\n",
       " 'fmod',\n",
       " 'format_float_positional',\n",
       " 'format_float_scientific',\n",
       " 'format_parser',\n",
       " 'frexp',\n",
       " 'from_dlpack',\n",
       " 'frombuffer',\n",
       " 'fromfile',\n",
       " 'fromfunction',\n",
       " 'fromiter',\n",
       " 'frompyfunc',\n",
       " 'fromregex',\n",
       " 'fromstring',\n",
       " 'full',\n",
       " 'full_like',\n",
       " 'gcd',\n",
       " 'generic',\n",
       " 'genfromtxt',\n",
       " 'geomspace',\n",
       " 'get_array_wrap',\n",
       " 'get_include',\n",
       " 'get_printoptions',\n",
       " 'getbufsize',\n",
       " 'geterr',\n",
       " 'geterrcall',\n",
       " 'geterrobj',\n",
       " 'gradient',\n",
       " 'greater',\n",
       " 'greater_equal',\n",
       " 'half',\n",
       " 'hamming',\n",
       " 'hanning',\n",
       " 'heaviside',\n",
       " 'histogram',\n",
       " 'histogram2d',\n",
       " 'histogram_bin_edges',\n",
       " 'histogramdd',\n",
       " 'hsplit',\n",
       " 'hstack',\n",
       " 'hypot',\n",
       " 'i0',\n",
       " 'identity',\n",
       " 'iinfo',\n",
       " 'imag',\n",
       " 'in1d',\n",
       " 'index_exp',\n",
       " 'indices',\n",
       " 'inexact',\n",
       " 'inf',\n",
       " 'info',\n",
       " 'infty',\n",
       " 'inner',\n",
       " 'insert',\n",
       " 'int0',\n",
       " 'int16',\n",
       " 'int32',\n",
       " 'int64',\n",
       " 'int8',\n",
       " 'int_',\n",
       " 'intc',\n",
       " 'integer',\n",
       " 'interp',\n",
       " 'intersect1d',\n",
       " 'intp',\n",
       " 'invert',\n",
       " 'is_busday',\n",
       " 'isclose',\n",
       " 'iscomplex',\n",
       " 'iscomplexobj',\n",
       " 'isfinite',\n",
       " 'isfortran',\n",
       " 'isin',\n",
       " 'isinf',\n",
       " 'isnan',\n",
       " 'isnat',\n",
       " 'isneginf',\n",
       " 'isposinf',\n",
       " 'isreal',\n",
       " 'isrealobj',\n",
       " 'isscalar',\n",
       " 'issctype',\n",
       " 'issubclass_',\n",
       " 'issubdtype',\n",
       " 'issubsctype',\n",
       " 'iterable',\n",
       " 'ix_',\n",
       " 'kaiser',\n",
       " 'kron',\n",
       " 'lcm',\n",
       " 'ldexp',\n",
       " 'left_shift',\n",
       " 'less',\n",
       " 'less_equal',\n",
       " 'lexsort',\n",
       " 'lib',\n",
       " 'linalg',\n",
       " 'linspace',\n",
       " 'little_endian',\n",
       " 'load',\n",
       " 'loadtxt',\n",
       " 'log',\n",
       " 'log10',\n",
       " 'log1p',\n",
       " 'log2',\n",
       " 'logaddexp',\n",
       " 'logaddexp2',\n",
       " 'logical_and',\n",
       " 'logical_not',\n",
       " 'logical_or',\n",
       " 'logical_xor',\n",
       " 'logspace',\n",
       " 'longcomplex',\n",
       " 'longdouble',\n",
       " 'longfloat',\n",
       " 'longlong',\n",
       " 'lookfor',\n",
       " 'ma',\n",
       " 'mask_indices',\n",
       " 'mat',\n",
       " 'math',\n",
       " 'matmul',\n",
       " 'matrix',\n",
       " 'matrixlib',\n",
       " 'max',\n",
       " 'maximum',\n",
       " 'maximum_sctype',\n",
       " 'may_share_memory',\n",
       " 'mean',\n",
       " 'median',\n",
       " 'memmap',\n",
       " 'meshgrid',\n",
       " 'mgrid',\n",
       " 'min',\n",
       " 'min_scalar_type',\n",
       " 'minimum',\n",
       " 'mintypecode',\n",
       " 'mod',\n",
       " 'modf',\n",
       " 'moveaxis',\n",
       " 'msort',\n",
       " 'multiply',\n",
       " 'nan',\n",
       " 'nan_to_num',\n",
       " 'nanargmax',\n",
       " 'nanargmin',\n",
       " 'nancumprod',\n",
       " 'nancumsum',\n",
       " 'nanmax',\n",
       " 'nanmean',\n",
       " 'nanmedian',\n",
       " 'nanmin',\n",
       " 'nanpercentile',\n",
       " 'nanprod',\n",
       " 'nanquantile',\n",
       " 'nanstd',\n",
       " 'nansum',\n",
       " 'nanvar',\n",
       " 'nbytes',\n",
       " 'ndarray',\n",
       " 'ndenumerate',\n",
       " 'ndim',\n",
       " 'ndindex',\n",
       " 'nditer',\n",
       " 'negative',\n",
       " 'nested_iters',\n",
       " 'newaxis',\n",
       " 'nextafter',\n",
       " 'nonzero',\n",
       " 'not_equal',\n",
       " 'numarray',\n",
       " 'number',\n",
       " 'obj2sctype',\n",
       " 'object0',\n",
       " 'object_',\n",
       " 'ogrid',\n",
       " 'oldnumeric',\n",
       " 'ones',\n",
       " 'ones_like',\n",
       " 'os',\n",
       " 'outer',\n",
       " 'packbits',\n",
       " 'pad',\n",
       " 'partition',\n",
       " 'percentile',\n",
       " 'pi',\n",
       " 'piecewise',\n",
       " 'place',\n",
       " 'poly',\n",
       " 'poly1d',\n",
       " 'polyadd',\n",
       " 'polyder',\n",
       " 'polydiv',\n",
       " 'polyfit',\n",
       " 'polyint',\n",
       " 'polymul',\n",
       " 'polynomial',\n",
       " 'polysub',\n",
       " 'polyval',\n",
       " 'positive',\n",
       " 'power',\n",
       " 'printoptions',\n",
       " 'prod',\n",
       " 'product',\n",
       " 'promote_types',\n",
       " 'ptp',\n",
       " 'put',\n",
       " 'put_along_axis',\n",
       " 'putmask',\n",
       " 'quantile',\n",
       " 'r_',\n",
       " 'rad2deg',\n",
       " 'radians',\n",
       " 'random',\n",
       " 'ravel',\n",
       " 'ravel_multi_index',\n",
       " 'real',\n",
       " 'real_if_close',\n",
       " 'rec',\n",
       " 'recarray',\n",
       " 'recfromcsv',\n",
       " 'recfromtxt',\n",
       " 'reciprocal',\n",
       " 'record',\n",
       " 'remainder',\n",
       " 'repeat',\n",
       " 'require',\n",
       " 'reshape',\n",
       " 'resize',\n",
       " 'result_type',\n",
       " 'right_shift',\n",
       " 'rint',\n",
       " 'roll',\n",
       " 'rollaxis',\n",
       " 'roots',\n",
       " 'rot90',\n",
       " 'round',\n",
       " 'round_',\n",
       " 'row_stack',\n",
       " 's_',\n",
       " 'safe_eval',\n",
       " 'save',\n",
       " 'savetxt',\n",
       " 'savez',\n",
       " 'savez_compressed',\n",
       " 'sctype2char',\n",
       " 'sctypeDict',\n",
       " 'sctypes',\n",
       " 'searchsorted',\n",
       " 'select',\n",
       " 'set_numeric_ops',\n",
       " 'set_printoptions',\n",
       " 'set_string_function',\n",
       " 'setbufsize',\n",
       " 'setdiff1d',\n",
       " 'seterr',\n",
       " 'seterrcall',\n",
       " 'seterrobj',\n",
       " 'setxor1d',\n",
       " 'shape',\n",
       " 'shares_memory',\n",
       " 'short',\n",
       " 'show_config',\n",
       " 'sign',\n",
       " 'signbit',\n",
       " 'signedinteger',\n",
       " 'sin',\n",
       " 'sinc',\n",
       " 'single',\n",
       " 'singlecomplex',\n",
       " 'sinh',\n",
       " 'size',\n",
       " 'sometrue',\n",
       " 'sort',\n",
       " 'sort_complex',\n",
       " 'source',\n",
       " 'spacing',\n",
       " 'split',\n",
       " 'sqrt',\n",
       " 'square',\n",
       " 'squeeze',\n",
       " 'stack',\n",
       " 'std',\n",
       " 'str0',\n",
       " 'str_',\n",
       " 'string_',\n",
       " 'subtract',\n",
       " 'sum',\n",
       " 'swapaxes',\n",
       " 'sys',\n",
       " 'take',\n",
       " 'take_along_axis',\n",
       " 'tan',\n",
       " 'tanh',\n",
       " 'tensordot',\n",
       " 'test',\n",
       " 'testing',\n",
       " 'tile',\n",
       " 'timedelta64',\n",
       " 'trace',\n",
       " 'tracemalloc_domain',\n",
       " 'transpose',\n",
       " 'trapz',\n",
       " 'tri',\n",
       " 'tril',\n",
       " 'tril_indices',\n",
       " 'tril_indices_from',\n",
       " 'trim_zeros',\n",
       " 'triu',\n",
       " 'triu_indices',\n",
       " 'triu_indices_from',\n",
       " 'true_divide',\n",
       " 'trunc',\n",
       " 'typecodes',\n",
       " 'typename',\n",
       " 'ubyte',\n",
       " 'ufunc',\n",
       " 'uint',\n",
       " 'uint0',\n",
       " 'uint16',\n",
       " 'uint32',\n",
       " 'uint64',\n",
       " 'uint8',\n",
       " 'uintc',\n",
       " 'uintp',\n",
       " 'ulonglong',\n",
       " 'unicode_',\n",
       " 'union1d',\n",
       " 'unique',\n",
       " 'unpackbits',\n",
       " 'unravel_index',\n",
       " 'unsignedinteger',\n",
       " 'unwrap',\n",
       " 'use_hugepage',\n",
       " 'ushort',\n",
       " 'vander',\n",
       " 'var',\n",
       " 'vdot',\n",
       " 'vectorize',\n",
       " 'version',\n",
       " 'void',\n",
       " 'void0',\n",
       " 'vsplit',\n",
       " 'vstack',\n",
       " 'w',\n",
       " 'warnings',\n",
       " 'where',\n",
       " 'who',\n",
       " 'zeros',\n",
       " 'zeros_like']"
      ]
     },
     "execution_count": 11,
     "metadata": {},
     "output_type": "execute_result"
    }
   ],
   "source": [
    "dir(np)"
   ]
  },
  {
   "cell_type": "markdown",
   "id": "2a682f43-03d0-4e88-b4aa-399f1920977a",
   "metadata": {},
   "source": [
    "By scanning through `dir(string)`, you could imagine guessing and checking for the attribute we want."
   ]
  },
  {
   "cell_type": "code",
   "execution_count": 12,
   "id": "fb52e9b5",
   "metadata": {},
   "outputs": [
    {
     "data": {
      "text/plain": [
       "'abcdefghijklmnopqrstuvwxyzABCDEFGHIJKLMNOPQRSTUVWXYZ'"
      ]
     },
     "execution_count": 12,
     "metadata": {},
     "output_type": "execute_result"
    }
   ],
   "source": [
    "string.ascii_letters"
   ]
  },
  {
   "cell_type": "markdown",
   "id": "f69a7742-14c4-40fd-ad1d-e9e61559208f",
   "metadata": {},
   "source": [
    "Here is our first attempt to get random letters.  We get the following error.  It is telling us that the first input argument should be a sequence or an integer."
   ]
  },
  {
   "cell_type": "code",
   "execution_count": 13,
   "id": "b1679007",
   "metadata": {},
   "outputs": [
    {
     "ename": "ValueError",
     "evalue": "a must be a sequence or an integer, not <class 'str'>",
     "output_type": "error",
     "traceback": [
      "\u001b[0;31m---------------------------------------------------------------------------\u001b[0m",
      "\u001b[0;31mTypeError\u001b[0m                                 Traceback (most recent call last)",
      "File \u001b[0;32m_generator.pyx:712\u001b[0m, in \u001b[0;36mnumpy.random._generator.Generator.choice\u001b[0;34m()\u001b[0m\n",
      "\u001b[0;31mTypeError\u001b[0m: 'str' object cannot be interpreted as an integer",
      "\nThe above exception was the direct cause of the following exception:\n",
      "\u001b[0;31mValueError\u001b[0m                                Traceback (most recent call last)",
      "Input \u001b[0;32mIn [13]\u001b[0m, in \u001b[0;36m<cell line: 1>\u001b[0;34m()\u001b[0m\n\u001b[0;32m----> 1\u001b[0m \u001b[43mrng\u001b[49m\u001b[38;5;241;43m.\u001b[39;49m\u001b[43mchoice\u001b[49m\u001b[43m(\u001b[49m\u001b[43mstring\u001b[49m\u001b[38;5;241;43m.\u001b[39;49m\u001b[43mascii_letters\u001b[49m\u001b[43m,\u001b[49m\u001b[43m \u001b[49m\u001b[43msize\u001b[49m\u001b[38;5;241;43m=\u001b[39;49m\u001b[43m(\u001b[49m\u001b[38;5;241;43m20\u001b[39;49m\u001b[43m,\u001b[49m\u001b[38;5;241;43m3\u001b[39;49m\u001b[43m)\u001b[49m\u001b[43m)\u001b[49m\n",
      "File \u001b[0;32m_generator.pyx:714\u001b[0m, in \u001b[0;36mnumpy.random._generator.Generator.choice\u001b[0;34m()\u001b[0m\n",
      "\u001b[0;31mValueError\u001b[0m: a must be a sequence or an integer, not <class 'str'>"
     ]
    }
   ],
   "source": [
    "rng.choice(string.ascii_letters, size=(20,3))"
   ]
  },
  {
   "cell_type": "markdown",
   "id": "e5b8f87b-d190-4b2a-b1cc-9b326a1c7870",
   "metadata": {},
   "source": [
    "So we convert `string.ascii_letters` into a list, and that list version can be used as the argument to `rng.choice`."
   ]
  },
  {
   "cell_type": "code",
   "execution_count": 16,
   "id": "6ad3a191",
   "metadata": {},
   "outputs": [
    {
     "data": {
      "text/plain": [
       "array([['K', 'R', 'J'],\n",
       "       ['p', 'x', 'F'],\n",
       "       ['F', 'H', 'u'],\n",
       "       ['U', 'v', 'J'],\n",
       "       ['P', 'T', 'b'],\n",
       "       ['s', 'E', 'h'],\n",
       "       ['I', 'F', 'e'],\n",
       "       ['a', 'v', 'I'],\n",
       "       ['w', 'M', 'l'],\n",
       "       ['J', 'B', 'Y'],\n",
       "       ['W', 'q', 'U'],\n",
       "       ['W', 'r', 'A'],\n",
       "       ['I', 'L', 't'],\n",
       "       ['j', 'H', 'W'],\n",
       "       ['m', 'i', 'n'],\n",
       "       ['y', 'A', 'R'],\n",
       "       ['E', 'Z', 'j'],\n",
       "       ['i', 'X', 'Y'],\n",
       "       ['X', 'H', 'c'],\n",
       "       ['S', 'u', 'T']], dtype='<U1')"
      ]
     },
     "execution_count": 16,
     "metadata": {},
     "output_type": "execute_result"
    }
   ],
   "source": [
    "arr = rng.choice(list(string.ascii_letters), size=(20,3))\n",
    "arr"
   ]
  },
  {
   "cell_type": "markdown",
   "id": "1662861e-86f0-4765-8e75-a535453a0f23",
   "metadata": {},
   "source": [
    "Our goal is to take each of these 3-letter rows, and concatenate the letters together.  For example, we want to take `arr[3]` and get the string `\"UvJ\"`.  (I know this is a random example.  Most basic examples can be done more easily without lambda functions; this is an example where the best solution I see uses a lambda function.)"
   ]
  },
  {
   "cell_type": "code",
   "execution_count": 17,
   "id": "d3380e73",
   "metadata": {},
   "outputs": [],
   "source": [
    "row = arr[3]"
   ]
  },
  {
   "cell_type": "code",
   "execution_count": 18,
   "id": "446a7215",
   "metadata": {},
   "outputs": [
    {
     "data": {
      "text/plain": [
       "array(['U', 'v', 'J'], dtype='<U1')"
      ]
     },
     "execution_count": 18,
     "metadata": {},
     "output_type": "execute_result"
    }
   ],
   "source": [
    "row"
   ]
  },
  {
   "cell_type": "markdown",
   "id": "45cef701-ac48-4b84-9b3d-18647b6e2111",
   "metadata": {},
   "source": [
    "Here is an example of what we want to do for the specific value `row`."
   ]
  },
  {
   "cell_type": "code",
   "execution_count": 19,
   "id": "9d3b5b25",
   "metadata": {},
   "outputs": [
    {
     "data": {
      "text/plain": [
       "'UvJ'"
      ]
     },
     "execution_count": 19,
     "metadata": {},
     "output_type": "execute_result"
    }
   ],
   "source": [
    "''.join(row)"
   ]
  },
  {
   "cell_type": "markdown",
   "id": "6e3e8426-e191-42b5-b035-9c6519d3a43a",
   "metadata": {},
   "source": [
    "That is the function we want to apply to each row, so we will make a short version of it using a lambda function and pass that lambda function as an argument to `np.apply_along_axis`.  The first argument to `np.apply_along_axis` is supposed to be a function, the second argument is supposed to specify the axis, and the third argument specifies the array."
   ]
  },
  {
   "cell_type": "code",
   "execution_count": 20,
   "id": "60166d21",
   "metadata": {},
   "outputs": [
    {
     "data": {
      "text/plain": [
       "array(['KRJ', 'pxF', 'FHu', 'UvJ', 'PTb', 'sEh', 'IFe', 'avI', 'wMl',\n",
       "       'JBY', 'WqU', 'WrA', 'ILt', 'jHW', 'min', 'yAR', 'EZj', 'iXY',\n",
       "       'XHc', 'SuT'], dtype='<U3')"
      ]
     },
     "execution_count": 20,
     "metadata": {},
     "output_type": "execute_result"
    }
   ],
   "source": [
    "np.apply_along_axis(lambda row: ''.join(row), axis=1, arr=arr)"
   ]
  },
  {
   "cell_type": "markdown",
   "id": "be936312-4e5f-4861-9484-b620eafd415d",
   "metadata": {},
   "source": [
    "If we were going to be using this function `lambda row: ''.join(row)` repeatedly, it would be better to name the function, like in the following."
   ]
  },
  {
   "cell_type": "code",
   "execution_count": 21,
   "id": "ff13bd47",
   "metadata": {},
   "outputs": [],
   "source": [
    "join_letters = lambda row: ''.join(row)"
   ]
  },
  {
   "cell_type": "markdown",
   "id": "db07e3c5-f527-46d6-912a-402bb05d8b19",
   "metadata": {},
   "source": [
    "If we had `join_letters` defined that way, then we could replace our code above with `np.apply_along_axis(lambda row: ''.join(row), axis=1, arr=arr)`.  (There are still cases where you will want to use the `def` method to define a function, but when it is a short one-line function, it is almost always better to use a lambda function instead.)"
   ]
  },
  {
   "cell_type": "markdown",
   "id": "fa00ad36-c524-4a7d-a716-77e693d8b049",
   "metadata": {},
   "source": [
    "Now let's see another example where lambda functions are useful."
   ]
  },
  {
   "cell_type": "markdown",
   "id": "cef5dab3",
   "metadata": {},
   "source": [
    "* Let `tuplist` be the following list of tuples.  Sort this list so that the numbers are increasing.\n",
    "\n",
    "```[(\"A\", 40), (\"B\", 60), (\"E\", 30), (\"C\", 20), (\"D\", 45)]```"
   ]
  },
  {
   "cell_type": "code",
   "execution_count": 22,
   "id": "ea760bc0",
   "metadata": {},
   "outputs": [],
   "source": [
    "tuplist = [(\"A\", 40), (\"B\", 60), (\"E\", 30), (\"C\", 20), (\"D\", 45)]"
   ]
  },
  {
   "cell_type": "markdown",
   "id": "2a92aef5-d20a-49f2-947f-ebf26c6961ee",
   "metadata": {},
   "source": [
    "We are going to sort this length-5 list using Python's `sorted` function.  Notice that `sorted` accepts a `key` keyword argument.  The argument passed as `key` should be a function, and then that function will be applied before the sorting is done."
   ]
  },
  {
   "cell_type": "code",
   "execution_count": 23,
   "id": "1138f1e6",
   "metadata": {},
   "outputs": [
    {
     "name": "stdout",
     "output_type": "stream",
     "text": [
      "Help on built-in function sorted in module builtins:\n",
      "\n",
      "sorted(iterable, /, *, key=None, reverse=False)\n",
      "    Return a new list containing all items from the iterable in ascending order.\n",
      "    \n",
      "    A custom key function can be supplied to customize the sort order, and the\n",
      "    reverse flag can be set to request the result in descending order.\n",
      "\n"
     ]
    }
   ],
   "source": [
    "help(sorted)"
   ]
  },
  {
   "cell_type": "markdown",
   "id": "c0bc930f-2685-42a4-8785-1465789ba4cf",
   "metadata": {},
   "source": [
    "In our case, we want to sort by the numbers."
   ]
  },
  {
   "cell_type": "code",
   "execution_count": 24,
   "id": "51323446",
   "metadata": {},
   "outputs": [],
   "source": [
    "tup = (\"B\", 60)"
   ]
  },
  {
   "cell_type": "code",
   "execution_count": 25,
   "id": "710e3e24",
   "metadata": {},
   "outputs": [
    {
     "data": {
      "text/plain": [
       "60"
      ]
     },
     "execution_count": 25,
     "metadata": {},
     "output_type": "execute_result"
    }
   ],
   "source": [
    "tup[1]"
   ]
  },
  {
   "cell_type": "markdown",
   "id": "b7314b75-ae52-4592-8d67-69e038f2dd61",
   "metadata": {},
   "source": [
    "The following is the right idea, but we need to use the `key =` portion of the keyword argument.  (That is not usually the case for most keyword arguments, but that is required here.)"
   ]
  },
  {
   "cell_type": "code",
   "execution_count": 26,
   "id": "fd56efa0",
   "metadata": {},
   "outputs": [
    {
     "ename": "TypeError",
     "evalue": "sorted expected 1 argument, got 2",
     "output_type": "error",
     "traceback": [
      "\u001b[0;31m---------------------------------------------------------------------------\u001b[0m",
      "\u001b[0;31mTypeError\u001b[0m                                 Traceback (most recent call last)",
      "Input \u001b[0;32mIn [26]\u001b[0m, in \u001b[0;36m<cell line: 1>\u001b[0;34m()\u001b[0m\n\u001b[0;32m----> 1\u001b[0m \u001b[38;5;28;43msorted\u001b[39;49m\u001b[43m(\u001b[49m\u001b[43mtuplist\u001b[49m\u001b[43m,\u001b[49m\u001b[43m \u001b[49m\u001b[38;5;28;43;01mlambda\u001b[39;49;00m\u001b[43m \u001b[49m\u001b[43mtup\u001b[49m\u001b[43m:\u001b[49m\u001b[43m \u001b[49m\u001b[43mtup\u001b[49m\u001b[43m[\u001b[49m\u001b[38;5;241;43m1\u001b[39;49m\u001b[43m]\u001b[49m\u001b[43m)\u001b[49m\n",
      "\u001b[0;31mTypeError\u001b[0m: sorted expected 1 argument, got 2"
     ]
    }
   ],
   "source": [
    "sorted(tuplist, lambda tup: tup[1])"
   ]
  },
  {
   "cell_type": "markdown",
   "id": "072f0d4e-154d-4019-9205-6e3d468819e3",
   "metadata": {},
   "source": [
    "Notice how this sorts the tuples `tup` according to the number `tup[1]`."
   ]
  },
  {
   "cell_type": "code",
   "execution_count": 27,
   "id": "94d02814",
   "metadata": {},
   "outputs": [
    {
     "data": {
      "text/plain": [
       "[('C', 20), ('E', 30), ('A', 40), ('D', 45), ('B', 60)]"
      ]
     },
     "execution_count": 27,
     "metadata": {},
     "output_type": "execute_result"
    }
   ],
   "source": [
    "sorted(tuplist, key = lambda tup: tup[1])"
   ]
  },
  {
   "cell_type": "markdown",
   "id": "3b662a1e-2362-496b-98c0-ff44d4c4519d",
   "metadata": {},
   "source": [
    "There is one other keyword argument that we can see in the documentation above.  If we want the values to be decreasing instead of increasing, we should specify `reverse = True`."
   ]
  },
  {
   "cell_type": "code",
   "execution_count": 28,
   "id": "2b196ae4",
   "metadata": {},
   "outputs": [
    {
     "data": {
      "text/plain": [
       "[('B', 60), ('D', 45), ('A', 40), ('E', 30), ('C', 20)]"
      ]
     },
     "execution_count": 28,
     "metadata": {},
     "output_type": "execute_result"
    }
   ],
   "source": [
    "sorted(tuplist, key = lambda tup: tup[1], reverse = True)"
   ]
  },
  {
   "cell_type": "markdown",
   "id": "f19c3418-7a49-41ea-a3fd-038468e21487",
   "metadata": {},
   "source": [
    "As one last example, Python is equally happy sorting by letters rather than numbers.  Here we sort using `key = lambda tup: tup[0]`."
   ]
  },
  {
   "cell_type": "code",
   "execution_count": 29,
   "id": "911a1594",
   "metadata": {},
   "outputs": [
    {
     "data": {
      "text/plain": [
       "[('A', 40), ('B', 60), ('C', 20), ('D', 45), ('E', 30)]"
      ]
     },
     "execution_count": 29,
     "metadata": {},
     "output_type": "execute_result"
    }
   ],
   "source": [
    "sorted(tuplist, key = lambda tup: tup[0])"
   ]
  },
  {
   "cell_type": "markdown",
   "id": "5a112905",
   "metadata": {},
   "source": [
    "## Using f-strings and a lambda function to format a NumPy array\n",
    "\n",
    "<iframe width=\"560\" height=\"315\" src=\"https://www.youtube.com/embed/3owu2YlM-XI\" title=\"YouTube video player\" frameborder=\"0\" allow=\"accelerometer; autoplay; clipboard-write; encrypted-media; gyroscope; picture-in-picture\" allowfullscreen></iframe>\n",
    "\n",
    "The goal in this section is to apply some of the earlier concepts to a more advanced (and more specialized) example.  We show how to change the way NumPy formats the numbers it displays.  That particular application is not the important part.  The reason we're using this application is because it involves f-strings and lambda functions (as well as NumPy arrays, dictionaries, data types, ...)."
   ]
  },
  {
   "cell_type": "code",
   "execution_count": 1,
   "id": "b0285d42",
   "metadata": {},
   "outputs": [],
   "source": [
    "import numpy as np"
   ]
  },
  {
   "cell_type": "markdown",
   "id": "91518138-10ca-436e-a385-03b12f8275fc",
   "metadata": {},
   "source": [
    "Notice that when we create our random number generator in the next cell, we specify a `seed` argument.  This is so the numbers that are produced are reproducible."
   ]
  },
  {
   "cell_type": "code",
   "execution_count": 2,
   "id": "7665ee03",
   "metadata": {},
   "outputs": [
    {
     "data": {
      "text/plain": [
       "array([ 3.45584192e-01,  8.21618144e-01,  3.30437076e-01, -1.30315723e+00,\n",
       "        9.05355867e-01,  4.46374572e-01, -5.36953235e-01,  5.81118104e-01,\n",
       "        3.64572396e-01,  2.94132497e-01,  2.84222413e-02,  5.46712987e-01,\n",
       "       -7.36454087e-01, -1.62909948e-01, -4.82119313e-01,  5.98846213e-01,\n",
       "        3.97221075e-02, -2.92456751e-01, -7.81908462e-01, -2.57192241e-01,\n",
       "        8.14218052e-03, -2.75602905e-01,  1.29406381e+00,  1.00672432e+00,\n",
       "       -2.71116248e+00, -1.88901325e+00, -1.74772092e-01, -4.22190412e-01,\n",
       "        2.13642997e-01,  2.17321931e-01,  2.11783876e+00, -1.11202076e+00,\n",
       "       -3.77605007e-01,  2.04277161e+00,  6.46702996e-01,  6.63063372e-01,\n",
       "       -5.14006372e-01, -1.64807517e+00,  1.67464744e-01,  1.09014088e-01,\n",
       "       -1.22735205e+00, -6.83226662e-01, -7.20436797e-02, -9.44751623e-01,\n",
       "       -9.82699679e-02,  9.54830275e-02,  3.55862371e-02, -5.06291658e-01,\n",
       "        5.93748072e-01,  8.91166954e-01,  3.20848305e-01, -8.18230227e-01,\n",
       "        7.31652284e-01, -5.01440018e-01,  8.79160618e-01, -1.07178742e+00,\n",
       "        9.14467203e-01, -2.00634546e-02, -1.24874889e+00, -3.13899472e-01,\n",
       "        5.41022788e-02,  2.72791339e-01, -9.82188125e-01, -1.10737305e+00,\n",
       "        1.99584533e-01, -4.66749617e-01,  2.35505612e-01,  7.59519522e-01,\n",
       "       -1.64878737e+00,  2.54388117e-01,  1.22464697e+00, -2.97526844e-01,\n",
       "       -8.10814583e-01,  7.52243827e-01,  2.53446516e-01,  8.95883071e-01,\n",
       "       -3.45215710e-01, -1.48181827e+00, -1.10010765e-01, -4.45828153e-01,\n",
       "        7.75323822e-01,  1.93632848e-01, -1.63084923e+00, -1.19516308e+00,\n",
       "        8.83789037e-01,  6.79765017e-01, -6.40243366e-01, -1.04879657e-03,\n",
       "        4.45573554e-01,  4.68404336e-01,  8.76242196e-01,  2.56485627e-01,\n",
       "       -9.48283390e-02, -2.58848065e-01,  1.05574280e+00, -2.25085428e+00,\n",
       "       -1.38655325e-01,  3.30001040e-02, -1.42534896e+00,  3.32813613e-01])"
      ]
     },
     "execution_count": 2,
     "metadata": {},
     "output_type": "execute_result"
    }
   ],
   "source": [
    "rng = np.random.default_rng(seed=1)\n",
    "arr = rng.normal(size=100)\n",
    "arr"
   ]
  },
  {
   "cell_type": "markdown",
   "id": "b1349058-61e1-4c94-a69f-89c3e48d45ca",
   "metadata": {},
   "source": [
    "Here we try the same thing with a different seed.  Notice how the previous numbers were displayed using scientific notation, whereas the following numbers are displayed as plain decimals.  That is why we are using `seed=1` in this video, because I wanted an example where we get scientific notation."
   ]
  },
  {
   "cell_type": "code",
   "execution_count": 3,
   "id": "8030d127",
   "metadata": {},
   "outputs": [
    {
     "data": {
      "text/plain": [
       "array([ 0.12573022, -0.13210486,  0.64042265,  0.10490012, -0.53566937,\n",
       "        0.36159505,  1.30400005,  0.94708096, -0.70373524, -1.26542147,\n",
       "       -0.62327446,  0.04132598, -2.32503077, -0.21879166, -1.24591095,\n",
       "       -0.73226735, -0.54425898, -0.31630016,  0.41163054,  1.04251337,\n",
       "       -0.12853466,  1.36646347, -0.66519467,  0.35151007,  0.90347018,\n",
       "        0.0940123 , -0.74349925, -0.92172538, -0.45772583,  0.22019512,\n",
       "       -1.00961818, -0.20917557, -0.15922501,  0.54084558,  0.21465912,\n",
       "        0.35537271, -0.65382861, -0.12961363,  0.78397547,  1.49343115,\n",
       "       -1.25906553,  1.51392377,  1.34587542,  0.7813114 ,  0.26445563,\n",
       "       -0.31392281,  1.45802068,  1.96025832,  1.80163487,  1.31510376,\n",
       "        0.35738041, -1.20831863, -0.00445413,  0.65647494, -1.28836146,\n",
       "        0.39512206,  0.42986369,  0.69604272, -1.18411797, -0.66170257,\n",
       "       -0.43643525, -1.16980191,  1.73936788, -0.49591073,  0.32896963,\n",
       "       -0.25857255,  1.58347288,  1.32036099,  0.63335262, -2.20350988,\n",
       "        0.05202897,  0.68368619,  1.00396158, -0.61790704,  1.82201136,\n",
       "       -1.32043097, -0.66152802,  0.93504999,  0.04905461,  2.00239258,\n",
       "        0.18851919, -0.63319409, -0.37756351, -1.09114612, -1.27768017,\n",
       "        0.63041149,  0.58116581,  1.29455882, -0.75460579,  1.68910745,\n",
       "       -0.28738771,  1.57440828, -0.43278585, -0.73548329,  0.24978537,\n",
       "        1.03145308,  0.16100958, -0.58552882, -1.34121971, -1.40152021])"
      ]
     },
     "execution_count": 3,
     "metadata": {},
     "output_type": "execute_result"
    }
   ],
   "source": [
    "rng = np.random.default_rng(seed=0)\n",
    "arr = rng.normal(size=100)\n",
    "arr"
   ]
  },
  {
   "cell_type": "markdown",
   "id": "2c139595-690f-4d86-bf2c-779680310aad",
   "metadata": {},
   "source": [
    "Notice how the following numbers are exactly the same as before when we also used `seed=1`.\n",
    "\n",
    "In this video, we will see one option (probably not the easiest option) to prevent NumPy from using scientific notation.  For this particular array, that will be helpful because it will be easier to get a quick overview of the contents of the array when the numbers are displayed as decimals.  (There are probably other contexts where the scientific notation formatting is more convenient.)"
   ]
  },
  {
   "cell_type": "code",
   "execution_count": 4,
   "id": "c754bdce",
   "metadata": {},
   "outputs": [
    {
     "data": {
      "text/plain": [
       "array([ 3.45584192e-01,  8.21618144e-01,  3.30437076e-01, -1.30315723e+00,\n",
       "        9.05355867e-01,  4.46374572e-01, -5.36953235e-01,  5.81118104e-01,\n",
       "        3.64572396e-01,  2.94132497e-01,  2.84222413e-02,  5.46712987e-01,\n",
       "       -7.36454087e-01, -1.62909948e-01, -4.82119313e-01,  5.98846213e-01,\n",
       "        3.97221075e-02, -2.92456751e-01, -7.81908462e-01, -2.57192241e-01,\n",
       "        8.14218052e-03, -2.75602905e-01,  1.29406381e+00,  1.00672432e+00,\n",
       "       -2.71116248e+00, -1.88901325e+00, -1.74772092e-01, -4.22190412e-01,\n",
       "        2.13642997e-01,  2.17321931e-01,  2.11783876e+00, -1.11202076e+00,\n",
       "       -3.77605007e-01,  2.04277161e+00,  6.46702996e-01,  6.63063372e-01,\n",
       "       -5.14006372e-01, -1.64807517e+00,  1.67464744e-01,  1.09014088e-01,\n",
       "       -1.22735205e+00, -6.83226662e-01, -7.20436797e-02, -9.44751623e-01,\n",
       "       -9.82699679e-02,  9.54830275e-02,  3.55862371e-02, -5.06291658e-01,\n",
       "        5.93748072e-01,  8.91166954e-01,  3.20848305e-01, -8.18230227e-01,\n",
       "        7.31652284e-01, -5.01440018e-01,  8.79160618e-01, -1.07178742e+00,\n",
       "        9.14467203e-01, -2.00634546e-02, -1.24874889e+00, -3.13899472e-01,\n",
       "        5.41022788e-02,  2.72791339e-01, -9.82188125e-01, -1.10737305e+00,\n",
       "        1.99584533e-01, -4.66749617e-01,  2.35505612e-01,  7.59519522e-01,\n",
       "       -1.64878737e+00,  2.54388117e-01,  1.22464697e+00, -2.97526844e-01,\n",
       "       -8.10814583e-01,  7.52243827e-01,  2.53446516e-01,  8.95883071e-01,\n",
       "       -3.45215710e-01, -1.48181827e+00, -1.10010765e-01, -4.45828153e-01,\n",
       "        7.75323822e-01,  1.93632848e-01, -1.63084923e+00, -1.19516308e+00,\n",
       "        8.83789037e-01,  6.79765017e-01, -6.40243366e-01, -1.04879657e-03,\n",
       "        4.45573554e-01,  4.68404336e-01,  8.76242196e-01,  2.56485627e-01,\n",
       "       -9.48283390e-02, -2.58848065e-01,  1.05574280e+00, -2.25085428e+00,\n",
       "       -1.38655325e-01,  3.30001040e-02, -1.42534896e+00,  3.32813613e-01])"
      ]
     },
     "execution_count": 4,
     "metadata": {},
     "output_type": "execute_result"
    }
   ],
   "source": [
    "rng = np.random.default_rng(seed=1)\n",
    "arr = rng.normal(size=100)\n",
    "arr"
   ]
  },
  {
   "cell_type": "markdown",
   "id": "bd2e0630-3ab8-4b2f-985a-1109efbc25e1",
   "metadata": {},
   "source": [
    "The approach we follow in this video is going to use NumPy's `set_printoptions` function.  This accepts many different arguments (notice how much longer this documentation is than the documentation for `sorted` above).  The argument we are going to use is the `formatter` argument.\n",
    "\n",
    "The `formatter` argument is supposed to be a \n",
    "> dict of callables ... the keys should indicate the type(s)...  Callables should return a string...\n",
    "\n",
    "In particular, the argument is supposed to be a dictionary.  The keys should be data types (or rather, strings representing the data types), and the values in the dictionary are supposed to be \"callables\", which we can think of as functions, that return a string."
   ]
  },
  {
   "cell_type": "code",
   "execution_count": 5,
   "id": "c7c6deb2",
   "metadata": {
    "tags": [
     "output_scroll"
    ]
   },
   "outputs": [
    {
     "name": "stdout",
     "output_type": "stream",
     "text": [
      "Help on function set_printoptions in module numpy:\n",
      "\n",
      "set_printoptions(precision=None, threshold=None, edgeitems=None, linewidth=None, suppress=None, nanstr=None, infstr=None, formatter=None, sign=None, floatmode=None, *, legacy=None)\n",
      "    Set printing options.\n",
      "    \n",
      "    These options determine the way floating point numbers, arrays and\n",
      "    other NumPy objects are displayed.\n",
      "    \n",
      "    Parameters\n",
      "    ----------\n",
      "    precision : int or None, optional\n",
      "        Number of digits of precision for floating point output (default 8).\n",
      "        May be None if `floatmode` is not `fixed`, to print as many digits as\n",
      "        necessary to uniquely specify the value.\n",
      "    threshold : int, optional\n",
      "        Total number of array elements which trigger summarization\n",
      "        rather than full repr (default 1000).\n",
      "        To always use the full repr without summarization, pass `sys.maxsize`.\n",
      "    edgeitems : int, optional\n",
      "        Number of array items in summary at beginning and end of\n",
      "        each dimension (default 3).\n",
      "    linewidth : int, optional\n",
      "        The number of characters per line for the purpose of inserting\n",
      "        line breaks (default 75).\n",
      "    suppress : bool, optional\n",
      "        If True, always print floating point numbers using fixed point\n",
      "        notation, in which case numbers equal to zero in the current precision\n",
      "        will print as zero.  If False, then scientific notation is used when\n",
      "        absolute value of the smallest number is < 1e-4 or the ratio of the\n",
      "        maximum absolute value to the minimum is > 1e3. The default is False.\n",
      "    nanstr : str, optional\n",
      "        String representation of floating point not-a-number (default nan).\n",
      "    infstr : str, optional\n",
      "        String representation of floating point infinity (default inf).\n",
      "    sign : string, either '-', '+', or ' ', optional\n",
      "        Controls printing of the sign of floating-point types. If '+', always\n",
      "        print the sign of positive values. If ' ', always prints a space\n",
      "        (whitespace character) in the sign position of positive values.  If\n",
      "        '-', omit the sign character of positive values. (default '-')\n",
      "    formatter : dict of callables, optional\n",
      "        If not None, the keys should indicate the type(s) that the respective\n",
      "        formatting function applies to.  Callables should return a string.\n",
      "        Types that are not specified (by their corresponding keys) are handled\n",
      "        by the default formatters.  Individual types for which a formatter\n",
      "        can be set are:\n",
      "    \n",
      "        - 'bool'\n",
      "        - 'int'\n",
      "        - 'timedelta' : a `numpy.timedelta64`\n",
      "        - 'datetime' : a `numpy.datetime64`\n",
      "        - 'float'\n",
      "        - 'longfloat' : 128-bit floats\n",
      "        - 'complexfloat'\n",
      "        - 'longcomplexfloat' : composed of two 128-bit floats\n",
      "        - 'numpystr' : types `numpy.string_` and `numpy.unicode_`\n",
      "        - 'object' : `np.object_` arrays\n",
      "    \n",
      "        Other keys that can be used to set a group of types at once are:\n",
      "    \n",
      "        - 'all' : sets all types\n",
      "        - 'int_kind' : sets 'int'\n",
      "        - 'float_kind' : sets 'float' and 'longfloat'\n",
      "        - 'complex_kind' : sets 'complexfloat' and 'longcomplexfloat'\n",
      "        - 'str_kind' : sets 'numpystr'\n",
      "    floatmode : str, optional\n",
      "        Controls the interpretation of the `precision` option for\n",
      "        floating-point types. Can take the following values\n",
      "        (default maxprec_equal):\n",
      "    \n",
      "        * 'fixed': Always print exactly `precision` fractional digits,\n",
      "                even if this would print more or fewer digits than\n",
      "                necessary to specify the value uniquely.\n",
      "        * 'unique': Print the minimum number of fractional digits necessary\n",
      "                to represent each value uniquely. Different elements may\n",
      "                have a different number of digits. The value of the\n",
      "                `precision` option is ignored.\n",
      "        * 'maxprec': Print at most `precision` fractional digits, but if\n",
      "                an element can be uniquely represented with fewer digits\n",
      "                only print it with that many.\n",
      "        * 'maxprec_equal': Print at most `precision` fractional digits,\n",
      "                but if every element in the array can be uniquely\n",
      "                represented with an equal number of fewer digits, use that\n",
      "                many digits for all elements.\n",
      "    legacy : string or `False`, optional\n",
      "        If set to the string `'1.13'` enables 1.13 legacy printing mode. This\n",
      "        approximates numpy 1.13 print output by including a space in the sign\n",
      "        position of floats and different behavior for 0d arrays. This also\n",
      "        enables 1.21 legacy printing mode (described below).\n",
      "    \n",
      "        If set to the string `'1.21'` enables 1.21 legacy printing mode. This\n",
      "        approximates numpy 1.21 print output of complex structured dtypes\n",
      "        by not inserting spaces after commas that separate fields and after\n",
      "        colons.\n",
      "    \n",
      "        If set to `False`, disables legacy mode.\n",
      "    \n",
      "        Unrecognized strings will be ignored with a warning for forward\n",
      "        compatibility.\n",
      "    \n",
      "        .. versionadded:: 1.14.0\n",
      "        .. versionchanged:: 1.22.0\n",
      "    \n",
      "    See Also\n",
      "    --------\n",
      "    get_printoptions, printoptions, set_string_function, array2string\n",
      "    \n",
      "    Notes\n",
      "    -----\n",
      "    `formatter` is always reset with a call to `set_printoptions`.\n",
      "    \n",
      "    Use `printoptions` as a context manager to set the values temporarily.\n",
      "    \n",
      "    Examples\n",
      "    --------\n",
      "    Floating point precision can be set:\n",
      "    \n",
      "    >>> np.set_printoptions(precision=4)\n",
      "    >>> np.array([1.123456789])\n",
      "    [1.1235]\n",
      "    \n",
      "    Long arrays can be summarised:\n",
      "    \n",
      "    >>> np.set_printoptions(threshold=5)\n",
      "    >>> np.arange(10)\n",
      "    array([0, 1, 2, ..., 7, 8, 9])\n",
      "    \n",
      "    Small results can be suppressed:\n",
      "    \n",
      "    >>> eps = np.finfo(float).eps\n",
      "    >>> x = np.arange(4.)\n",
      "    >>> x**2 - (x + eps)**2\n",
      "    array([-4.9304e-32, -4.4409e-16,  0.0000e+00,  0.0000e+00])\n",
      "    >>> np.set_printoptions(suppress=True)\n",
      "    >>> x**2 - (x + eps)**2\n",
      "    array([-0., -0.,  0.,  0.])\n",
      "    \n",
      "    A custom formatter can be used to display array elements as desired:\n",
      "    \n",
      "    >>> np.set_printoptions(formatter={'all':lambda x: 'int: '+str(-x)})\n",
      "    >>> x = np.arange(3)\n",
      "    >>> x\n",
      "    array([int: 0, int: -1, int: -2])\n",
      "    >>> np.set_printoptions()  # formatter gets reset\n",
      "    >>> x\n",
      "    array([0, 1, 2])\n",
      "    \n",
      "    To put back the default options, you can use:\n",
      "    \n",
      "    >>> np.set_printoptions(edgeitems=3, infstr='inf',\n",
      "    ... linewidth=75, nanstr='nan', precision=8,\n",
      "    ... suppress=False, threshold=1000, formatter=None)\n",
      "    \n",
      "    Also to temporarily override options, use `printoptions` as a context manager:\n",
      "    \n",
      "    >>> with np.printoptions(precision=2, suppress=True, threshold=5):\n",
      "    ...     np.linspace(0, 10, 10)\n",
      "    array([ 0.  ,  1.11,  2.22, ...,  7.78,  8.89, 10.  ])\n",
      "\n"
     ]
    }
   ],
   "source": [
    "help(np.set_printoptions)"
   ]
  },
  {
   "cell_type": "markdown",
   "id": "3d4b63c5-1d28-406c-be7f-f56b2063b50b",
   "metadata": {},
   "source": [
    "Here is a specific example.  The dictionary we pass has just one key in it, `'float'`.  The value is a function, and we write that function using a lambda function.  The input to the function will be a float, and the output of the function is supposed to be a string; in this case, the string should be how we want floats to be displayed.\n",
    "\n",
    "Here is a first attempt specifying `formatter`.  We will use string formatting options to specify that we want 4 decimal places."
   ]
  },
  {
   "cell_type": "code",
   "execution_count": 6,
   "id": "c183a732",
   "metadata": {},
   "outputs": [],
   "source": [
    "np.set_printoptions(formatter= {'float': (lambda x: f\"{x:.4f}\")})"
   ]
  },
  {
   "cell_type": "markdown",
   "id": "b72049c2-0afa-456f-b938-ca776eaa7fc7",
   "metadata": {},
   "source": [
    "We are still specifying `seed=1`.  Notice how the initial value in the array, `3.45584192e-01` above, now gets displayed as a decimal number with four digits, `0.3456`."
   ]
  },
  {
   "cell_type": "code",
   "execution_count": 7,
   "id": "f486341d",
   "metadata": {},
   "outputs": [
    {
     "data": {
      "text/plain": [
       "array([0.3456, 0.8216, 0.3304, -1.3032, 0.9054, 0.4464, -0.5370, 0.5811,\n",
       "       0.3646, 0.2941, 0.0284, 0.5467, -0.7365, -0.1629, -0.4821, 0.5988,\n",
       "       0.0397, -0.2925, -0.7819, -0.2572, 0.0081, -0.2756, 1.2941, 1.0067,\n",
       "       -2.7112, -1.8890, -0.1748, -0.4222, 0.2136, 0.2173, 2.1178,\n",
       "       -1.1120, -0.3776, 2.0428, 0.6467, 0.6631, -0.5140, -1.6481, 0.1675,\n",
       "       0.1090, -1.2274, -0.6832, -0.0720, -0.9448, -0.0983, 0.0955,\n",
       "       0.0356, -0.5063, 0.5937, 0.8912, 0.3208, -0.8182, 0.7317, -0.5014,\n",
       "       0.8792, -1.0718, 0.9145, -0.0201, -1.2487, -0.3139, 0.0541, 0.2728,\n",
       "       -0.9822, -1.1074, 0.1996, -0.4667, 0.2355, 0.7595, -1.6488, 0.2544,\n",
       "       1.2246, -0.2975, -0.8108, 0.7522, 0.2534, 0.8959, -0.3452, -1.4818,\n",
       "       -0.1100, -0.4458, 0.7753, 0.1936, -1.6308, -1.1952, 0.8838, 0.6798,\n",
       "       -0.6402, -0.0010, 0.4456, 0.4684, 0.8762, 0.2565, -0.0948, -0.2588,\n",
       "       1.0557, -2.2509, -0.1387, 0.0330, -1.4253, 0.3328])"
      ]
     },
     "execution_count": 7,
     "metadata": {},
     "output_type": "execute_result"
    }
   ],
   "source": [
    "rng = np.random.default_rng(seed=1)\n",
    "arr = rng.normal(size=100)\n",
    "arr"
   ]
  },
  {
   "cell_type": "markdown",
   "id": "f93dc27a-9441-41f6-aad0-10137f79bcbe",
   "metadata": {},
   "source": [
    "Let's see some other ways to change this float formatting, so that the numbers get more nicely lined up.  (You should memorize how f-strings as a whole work, but don't bother memorizing these specific string formatting options.)  In this particular case, we indicate that there should be a `+` sign used when the numbers are positive."
   ]
  },
  {
   "cell_type": "code",
   "execution_count": 8,
   "id": "29d83ccd",
   "metadata": {},
   "outputs": [],
   "source": [
    "np.set_printoptions(formatter= {'float': (lambda x: f\"{x:+.4f}\")})"
   ]
  },
  {
   "cell_type": "markdown",
   "id": "89698465-1918-4f48-a02d-15fb80d4e112",
   "metadata": {},
   "source": [
    "I like that the numbers are lined up in the following, but the `+` signs still look a little strange."
   ]
  },
  {
   "cell_type": "code",
   "execution_count": 9,
   "id": "c3423e36",
   "metadata": {},
   "outputs": [
    {
     "data": {
      "text/plain": [
       "array([+0.3456, +0.8216, +0.3304, -1.3032, +0.9054, +0.4464, -0.5370,\n",
       "       +0.5811, +0.3646, +0.2941, +0.0284, +0.5467, -0.7365, -0.1629,\n",
       "       -0.4821, +0.5988, +0.0397, -0.2925, -0.7819, -0.2572, +0.0081,\n",
       "       -0.2756, +1.2941, +1.0067, -2.7112, -1.8890, -0.1748, -0.4222,\n",
       "       +0.2136, +0.2173, +2.1178, -1.1120, -0.3776, +2.0428, +0.6467,\n",
       "       +0.6631, -0.5140, -1.6481, +0.1675, +0.1090, -1.2274, -0.6832,\n",
       "       -0.0720, -0.9448, -0.0983, +0.0955, +0.0356, -0.5063, +0.5937,\n",
       "       +0.8912, +0.3208, -0.8182, +0.7317, -0.5014, +0.8792, -1.0718,\n",
       "       +0.9145, -0.0201, -1.2487, -0.3139, +0.0541, +0.2728, -0.9822,\n",
       "       -1.1074, +0.1996, -0.4667, +0.2355, +0.7595, -1.6488, +0.2544,\n",
       "       +1.2246, -0.2975, -0.8108, +0.7522, +0.2534, +0.8959, -0.3452,\n",
       "       -1.4818, -0.1100, -0.4458, +0.7753, +0.1936, -1.6308, -1.1952,\n",
       "       +0.8838, +0.6798, -0.6402, -0.0010, +0.4456, +0.4684, +0.8762,\n",
       "       +0.2565, -0.0948, -0.2588, +1.0557, -2.2509, -0.1387, +0.0330,\n",
       "       -1.4253, +0.3328])"
      ]
     },
     "execution_count": 9,
     "metadata": {},
     "output_type": "execute_result"
    }
   ],
   "source": [
    "rng = np.random.default_rng(seed=1)\n",
    "arr = rng.normal(size=100)\n",
    "arr"
   ]
  },
  {
   "cell_type": "markdown",
   "id": "662f886e-aae7-454f-9bc0-6b5eaf18d751",
   "metadata": {},
   "source": [
    "Another string formatting option is to leave a blank space when the number is positive.  I find this to be the version which is easiest to read."
   ]
  },
  {
   "cell_type": "code",
   "execution_count": 10,
   "id": "15922e27",
   "metadata": {},
   "outputs": [],
   "source": [
    "np.set_printoptions(formatter= {'float': (lambda x: f\"{x: .4f}\")})"
   ]
  },
  {
   "cell_type": "code",
   "execution_count": 11,
   "id": "b1217c16",
   "metadata": {},
   "outputs": [
    {
     "data": {
      "text/plain": [
       "array([ 0.3456,  0.8216,  0.3304, -1.3032,  0.9054,  0.4464, -0.5370,\n",
       "        0.5811,  0.3646,  0.2941,  0.0284,  0.5467, -0.7365, -0.1629,\n",
       "       -0.4821,  0.5988,  0.0397, -0.2925, -0.7819, -0.2572,  0.0081,\n",
       "       -0.2756,  1.2941,  1.0067, -2.7112, -1.8890, -0.1748, -0.4222,\n",
       "        0.2136,  0.2173,  2.1178, -1.1120, -0.3776,  2.0428,  0.6467,\n",
       "        0.6631, -0.5140, -1.6481,  0.1675,  0.1090, -1.2274, -0.6832,\n",
       "       -0.0720, -0.9448, -0.0983,  0.0955,  0.0356, -0.5063,  0.5937,\n",
       "        0.8912,  0.3208, -0.8182,  0.7317, -0.5014,  0.8792, -1.0718,\n",
       "        0.9145, -0.0201, -1.2487, -0.3139,  0.0541,  0.2728, -0.9822,\n",
       "       -1.1074,  0.1996, -0.4667,  0.2355,  0.7595, -1.6488,  0.2544,\n",
       "        1.2246, -0.2975, -0.8108,  0.7522,  0.2534,  0.8959, -0.3452,\n",
       "       -1.4818, -0.1100, -0.4458,  0.7753,  0.1936, -1.6308, -1.1952,\n",
       "        0.8838,  0.6798, -0.6402, -0.0010,  0.4456,  0.4684,  0.8762,\n",
       "        0.2565, -0.0948, -0.2588,  1.0557, -2.2509, -0.1387,  0.0330,\n",
       "       -1.4253,  0.3328])"
      ]
     },
     "execution_count": 11,
     "metadata": {},
     "output_type": "execute_result"
    }
   ],
   "source": [
    "rng = np.random.default_rng(seed=1)\n",
    "arr = rng.normal(size=100)\n",
    "arr"
   ]
  },
  {
   "cell_type": "markdown",
   "id": "2e6f254e-43d9-4f1b-bd2a-8b04034f28f5",
   "metadata": {},
   "source": [
    "There is definitely much more that we could learn involving \"Pythonic\" code; this has just been a quick introduction to some of the most important ways to make your code more Pythonic.  The three most important concepts introduced in this section were list comprehension, f-strings, and lambda functions."
   ]
  }
 ],
 "metadata": {
  "kernelspec": {
   "display_name": "Python 3 (ipykernel)",
   "language": "python",
   "name": "python3"
  },
  "language_info": {
   "codemirror_mode": {
    "name": "ipython",
    "version": 3
   },
   "file_extension": ".py",
   "mimetype": "text/x-python",
   "name": "python",
   "nbconvert_exporter": "python",
   "pygments_lexer": "ipython3",
   "version": "3.10.5"
  }
 },
 "nbformat": 4,
 "nbformat_minor": 5
}
