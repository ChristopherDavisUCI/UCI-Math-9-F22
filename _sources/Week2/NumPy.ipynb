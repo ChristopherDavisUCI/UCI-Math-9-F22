{
 "cells": [
  {
   "cell_type": "markdown",
   "id": "7d8e0d10",
   "metadata": {},
   "source": [
    "# NumPy"
   ]
  },
  {
   "cell_type": "code",
   "execution_count": 1,
   "id": "214bf62f",
   "metadata": {},
   "outputs": [],
   "source": [
    "import numpy as np"
   ]
  },
  {
   "cell_type": "markdown",
   "id": "cf5f8fd1",
   "metadata": {},
   "source": [
    "## Regular arrays\n",
    "\n",
    "For each of the following, create the corresponding NumPy array."
   ]
  },
  {
   "cell_type": "markdown",
   "id": "72b4bd2b",
   "metadata": {},
   "source": [
    "* [0, 0, 0, ..., 0] (length 10)"
   ]
  },
  {
   "cell_type": "code",
   "execution_count": 2,
   "id": "21413b3d",
   "metadata": {},
   "outputs": [
    {
     "data": {
      "text/plain": [
       "array([0., 0., 0., 0., 0., 0., 0., 0., 0., 0.])"
      ]
     },
     "execution_count": 2,
     "metadata": {},
     "output_type": "execute_result"
    }
   ],
   "source": [
    "np.zeros(10)"
   ]
  },
  {
   "cell_type": "code",
   "execution_count": 3,
   "id": "65e1864d",
   "metadata": {},
   "outputs": [
    {
     "data": {
      "text/plain": [
       "[0, 0, 0, 0, 0, 0, 0, 0, 0, 0]"
      ]
     },
     "execution_count": 3,
     "metadata": {},
     "output_type": "execute_result"
    }
   ],
   "source": [
    "[0 for _ in range(10)]"
   ]
  },
  {
   "cell_type": "code",
   "execution_count": 4,
   "id": "0cdbbb88",
   "metadata": {},
   "outputs": [
    {
     "data": {
      "text/plain": [
       "[0, 0]"
      ]
     },
     "execution_count": 4,
     "metadata": {},
     "output_type": "execute_result"
    }
   ],
   "source": [
    "[0]+[0]"
   ]
  },
  {
   "cell_type": "code",
   "execution_count": 5,
   "id": "a3c7a302",
   "metadata": {},
   "outputs": [
    {
     "data": {
      "text/plain": [
       "[0, 0, 0, 0, 0, 0, 0, 0, 0, 0]"
      ]
     },
     "execution_count": 5,
     "metadata": {},
     "output_type": "execute_result"
    }
   ],
   "source": [
    "[0]*10"
   ]
  },
  {
   "cell_type": "markdown",
   "id": "79659c49",
   "metadata": {},
   "source": [
    "* A five row, seven column matrix containing all 4s."
   ]
  },
  {
   "cell_type": "code",
   "execution_count": 6,
   "id": "3e0c872e",
   "metadata": {},
   "outputs": [
    {
     "ename": "TypeError",
     "evalue": "Cannot interpret '7' as a data type",
     "output_type": "error",
     "traceback": [
      "\u001b[0;31m---------------------------------------------------------------------------\u001b[0m",
      "\u001b[0;31mTypeError\u001b[0m                                 Traceback (most recent call last)",
      "Input \u001b[0;32mIn [6]\u001b[0m, in \u001b[0;36m<cell line: 1>\u001b[0;34m()\u001b[0m\n\u001b[0;32m----> 1\u001b[0m \u001b[43mnp\u001b[49m\u001b[38;5;241;43m.\u001b[39;49m\u001b[43mzeros\u001b[49m\u001b[43m(\u001b[49m\u001b[38;5;241;43m5\u001b[39;49m\u001b[43m,\u001b[49m\u001b[38;5;241;43m7\u001b[39;49m\u001b[43m)\u001b[49m\n",
      "\u001b[0;31mTypeError\u001b[0m: Cannot interpret '7' as a data type"
     ]
    }
   ],
   "source": [
    "np.zeros(5,7)"
   ]
  },
  {
   "cell_type": "code",
   "execution_count": 7,
   "id": "b1c2466c",
   "metadata": {},
   "outputs": [
    {
     "name": "stdout",
     "output_type": "stream",
     "text": [
      "Help on built-in function zeros in module numpy:\n",
      "\n",
      "zeros(...)\n",
      "    zeros(shape, dtype=float, order='C', *, like=None)\n",
      "    \n",
      "    Return a new array of given shape and type, filled with zeros.\n",
      "    \n",
      "    Parameters\n",
      "    ----------\n",
      "    shape : int or tuple of ints\n",
      "        Shape of the new array, e.g., ``(2, 3)`` or ``2``.\n",
      "    dtype : data-type, optional\n",
      "        The desired data-type for the array, e.g., `numpy.int8`.  Default is\n",
      "        `numpy.float64`.\n",
      "    order : {'C', 'F'}, optional, default: 'C'\n",
      "        Whether to store multi-dimensional data in row-major\n",
      "        (C-style) or column-major (Fortran-style) order in\n",
      "        memory.\n",
      "    like : array_like, optional\n",
      "        Reference object to allow the creation of arrays which are not\n",
      "        NumPy arrays. If an array-like passed in as ``like`` supports\n",
      "        the ``__array_function__`` protocol, the result will be defined\n",
      "        by it. In this case, it ensures the creation of an array object\n",
      "        compatible with that passed in via this argument.\n",
      "    \n",
      "        .. versionadded:: 1.20.0\n",
      "    \n",
      "    Returns\n",
      "    -------\n",
      "    out : ndarray\n",
      "        Array of zeros with the given shape, dtype, and order.\n",
      "    \n",
      "    See Also\n",
      "    --------\n",
      "    zeros_like : Return an array of zeros with shape and type of input.\n",
      "    empty : Return a new uninitialized array.\n",
      "    ones : Return a new array setting values to one.\n",
      "    full : Return a new array of given shape filled with value.\n",
      "    \n",
      "    Examples\n",
      "    --------\n",
      "    >>> np.zeros(5)\n",
      "    array([ 0.,  0.,  0.,  0.,  0.])\n",
      "    \n",
      "    >>> np.zeros((5,), dtype=int)\n",
      "    array([0, 0, 0, 0, 0])\n",
      "    \n",
      "    >>> np.zeros((2, 1))\n",
      "    array([[ 0.],\n",
      "           [ 0.]])\n",
      "    \n",
      "    >>> s = (2,2)\n",
      "    >>> np.zeros(s)\n",
      "    array([[ 0.,  0.],\n",
      "           [ 0.,  0.]])\n",
      "    \n",
      "    >>> np.zeros((2,), dtype=[('x', 'i4'), ('y', 'i4')]) # custom dtype\n",
      "    array([(0, 0), (0, 0)],\n",
      "          dtype=[('x', '<i4'), ('y', '<i4')])\n",
      "\n"
     ]
    }
   ],
   "source": [
    "help(np.zeros)"
   ]
  },
  {
   "cell_type": "code",
   "execution_count": 8,
   "id": "28d916a6",
   "metadata": {},
   "outputs": [
    {
     "data": {
      "text/plain": [
       "array([[0., 0., 0., 0., 0., 0., 0.],\n",
       "       [0., 0., 0., 0., 0., 0., 0.],\n",
       "       [0., 0., 0., 0., 0., 0., 0.],\n",
       "       [0., 0., 0., 0., 0., 0., 0.],\n",
       "       [0., 0., 0., 0., 0., 0., 0.]])"
      ]
     },
     "execution_count": 8,
     "metadata": {},
     "output_type": "execute_result"
    }
   ],
   "source": [
    "np.zeros((5,7))"
   ]
  },
  {
   "cell_type": "code",
   "execution_count": 9,
   "id": "f3f776ad",
   "metadata": {},
   "outputs": [
    {
     "data": {
      "text/plain": [
       "array([[4., 4., 4., 4., 4., 4., 4.],\n",
       "       [4., 4., 4., 4., 4., 4., 4.],\n",
       "       [4., 4., 4., 4., 4., 4., 4.],\n",
       "       [4., 4., 4., 4., 4., 4., 4.],\n",
       "       [4., 4., 4., 4., 4., 4., 4.]])"
      ]
     },
     "execution_count": 9,
     "metadata": {},
     "output_type": "execute_result"
    }
   ],
   "source": [
    "np.zeros((5,7))+4"
   ]
  },
  {
   "cell_type": "code",
   "execution_count": 10,
   "id": "4dcf5435",
   "metadata": {},
   "outputs": [
    {
     "data": {
      "text/plain": [
       "array([[1., 1., 1., 1., 1., 1., 1.],\n",
       "       [1., 1., 1., 1., 1., 1., 1.],\n",
       "       [1., 1., 1., 1., 1., 1., 1.],\n",
       "       [1., 1., 1., 1., 1., 1., 1.],\n",
       "       [1., 1., 1., 1., 1., 1., 1.]])"
      ]
     },
     "execution_count": 10,
     "metadata": {},
     "output_type": "execute_result"
    }
   ],
   "source": [
    "np.ones((5,7))"
   ]
  },
  {
   "cell_type": "code",
   "execution_count": 11,
   "id": "694aaa5b",
   "metadata": {},
   "outputs": [
    {
     "data": {
      "text/plain": [
       "array([[4., 4., 4., 4., 4., 4., 4.],\n",
       "       [4., 4., 4., 4., 4., 4., 4.],\n",
       "       [4., 4., 4., 4., 4., 4., 4.],\n",
       "       [4., 4., 4., 4., 4., 4., 4.],\n",
       "       [4., 4., 4., 4., 4., 4., 4.]])"
      ]
     },
     "execution_count": 11,
     "metadata": {},
     "output_type": "execute_result"
    }
   ],
   "source": [
    "np.ones((5,7))*4"
   ]
  },
  {
   "cell_type": "code",
   "execution_count": 12,
   "id": "f5b7da36",
   "metadata": {},
   "outputs": [
    {
     "data": {
      "text/plain": [
       "array([[4, 4, 4, 4, 4, 4, 4],\n",
       "       [4, 4, 4, 4, 4, 4, 4],\n",
       "       [4, 4, 4, 4, 4, 4, 4],\n",
       "       [4, 4, 4, 4, 4, 4, 4],\n",
       "       [4, 4, 4, 4, 4, 4, 4]])"
      ]
     },
     "execution_count": 12,
     "metadata": {},
     "output_type": "execute_result"
    }
   ],
   "source": [
    "np.ones((5,7), int)*4"
   ]
  },
  {
   "cell_type": "markdown",
   "id": "164461af",
   "metadata": {},
   "source": [
    "* [0, ..., 100] (length 5, evenly distributed)."
   ]
  },
  {
   "cell_type": "code",
   "execution_count": 13,
   "id": "019120dc",
   "metadata": {},
   "outputs": [
    {
     "data": {
      "text/plain": [
       "array([  0.,  25.,  50.,  75., 100.])"
      ]
     },
     "execution_count": 13,
     "metadata": {},
     "output_type": "execute_result"
    }
   ],
   "source": [
    "np.linspace(0,100,5)"
   ]
  },
  {
   "cell_type": "markdown",
   "id": "943bbcbb",
   "metadata": {},
   "source": [
    "* The 3x3 matrix $\\begin{pmatrix} 0 & 0 & 0 \\\\ 1 & 1 & 1 \\\\ 2 & 2 & 2 \\end{pmatrix}$"
   ]
  },
  {
   "cell_type": "code",
   "execution_count": 14,
   "id": "98f7d36b",
   "metadata": {},
   "outputs": [],
   "source": [
    "arr = np.zeros((3,3))\n",
    "for i in range(3):\n",
    "    arr[i] = i"
   ]
  },
  {
   "cell_type": "code",
   "execution_count": 15,
   "id": "772390b2",
   "metadata": {},
   "outputs": [
    {
     "data": {
      "text/plain": [
       "array([[0., 0., 0.],\n",
       "       [1., 1., 1.],\n",
       "       [2., 2., 2.]])"
      ]
     },
     "execution_count": 15,
     "metadata": {},
     "output_type": "execute_result"
    }
   ],
   "source": [
    "arr"
   ]
  },
  {
   "cell_type": "markdown",
   "id": "bb78ad5d",
   "metadata": {},
   "source": [
    "* The 2x5 matrix $\n",
    "\\begin{pmatrix} 2 & 5 & 8 & 11 & 14 \\\\ 17 & 20 & 23 & 26 & 29 \\end{pmatrix}\n",
    "$"
   ]
  },
  {
   "cell_type": "code",
   "execution_count": 16,
   "id": "d734ae5a",
   "metadata": {},
   "outputs": [
    {
     "name": "stdout",
     "output_type": "stream",
     "text": [
      "[[2. 0. 0. 0. 0.]\n",
      " [0. 0. 0. 0. 0.]]\n",
      "[[2. 5. 0. 0. 0.]\n",
      " [0. 0. 0. 0. 0.]]\n",
      "[[2. 5. 8. 0. 0.]\n",
      " [0. 0. 0. 0. 0.]]\n",
      "[[ 2.  5.  8. 11.  0.]\n",
      " [ 0.  0.  0.  0.  0.]]\n",
      "[[ 2.  5.  8. 11. 14.]\n",
      " [ 0.  0.  0.  0.  0.]]\n",
      "[[ 2.  5.  8. 11. 14.]\n",
      " [ 2.  0.  0.  0.  0.]]\n",
      "[[ 2.  5.  8. 11. 14.]\n",
      " [ 2.  5.  0.  0.  0.]]\n",
      "[[ 2.  5.  8. 11. 14.]\n",
      " [ 2.  5.  8.  0.  0.]]\n",
      "[[ 2.  5.  8. 11. 14.]\n",
      " [ 2.  5.  8. 11.  0.]]\n",
      "[[ 2.  5.  8. 11. 14.]\n",
      " [ 2.  5.  8. 11. 14.]]\n"
     ]
    }
   ],
   "source": [
    "arr = np.zeros((2,5))\n",
    "for i in range(2):\n",
    "    for j in range(5):\n",
    "        arr[i,j] = 2+3*j\n",
    "        print(arr)"
   ]
  },
  {
   "cell_type": "code",
   "execution_count": 17,
   "id": "45ad3247",
   "metadata": {},
   "outputs": [
    {
     "name": "stdout",
     "output_type": "stream",
     "text": [
      "[[ 2.  5.  8. 11. 14.]\n",
      " [17. 20. 23. 26. 29.]]\n"
     ]
    }
   ],
   "source": [
    "cols = 5\n",
    "step = 3\n",
    "arr = np.zeros((2,cols))\n",
    "for i in range(2):\n",
    "    for j in range(cols):\n",
    "        arr[i,j] = 2+step*j+cols*step*i\n",
    "print(arr)"
   ]
  },
  {
   "cell_type": "code",
   "execution_count": 18,
   "id": "ce02f66b",
   "metadata": {},
   "outputs": [
    {
     "data": {
      "text/plain": [
       "array([ 2,  5,  8, 11, 14, 17, 20, 23, 26])"
      ]
     },
     "execution_count": 18,
     "metadata": {},
     "output_type": "execute_result"
    }
   ],
   "source": [
    "np.arange(2,29,3)"
   ]
  },
  {
   "cell_type": "code",
   "execution_count": 19,
   "id": "570e7bcd",
   "metadata": {},
   "outputs": [
    {
     "data": {
      "text/plain": [
       "array([ 2,  5,  8, 11, 14, 17, 20, 23, 26, 29])"
      ]
     },
     "execution_count": 19,
     "metadata": {},
     "output_type": "execute_result"
    }
   ],
   "source": [
    "np.arange(2,30,3)"
   ]
  },
  {
   "cell_type": "code",
   "execution_count": 20,
   "id": "ee2af32f",
   "metadata": {},
   "outputs": [
    {
     "data": {
      "text/plain": [
       "array([[ 2,  5,  8, 11, 14],\n",
       "       [17, 20, 23, 26, 29]])"
      ]
     },
     "execution_count": 20,
     "metadata": {},
     "output_type": "execute_result"
    }
   ],
   "source": [
    "np.arange(2,30,3).reshape((2,5))"
   ]
  },
  {
   "cell_type": "markdown",
   "id": "03d30259",
   "metadata": {},
   "source": [
    "## Random numbers"
   ]
  },
  {
   "cell_type": "markdown",
   "id": "cb860fa0",
   "metadata": {},
   "source": [
    "* Make a length 10 NumPy array of random integers between 0 (inclusive) and 40 (exclusive)."
   ]
  },
  {
   "cell_type": "code",
   "execution_count": 2,
   "id": "85757da9",
   "metadata": {},
   "outputs": [
    {
     "data": {
      "text/plain": [
       "array([30, 35, 37,  3,  0, 18, 12, 17, 38, 16])"
      ]
     },
     "execution_count": 2,
     "metadata": {},
     "output_type": "execute_result"
    }
   ],
   "source": [
    "np.random.randint(0, 40, size=10)"
   ]
  },
  {
   "cell_type": "code",
   "execution_count": 3,
   "id": "48efcb15",
   "metadata": {},
   "outputs": [
    {
     "name": "stdout",
     "output_type": "stream",
     "text": [
      "Help on built-in function randint:\n",
      "\n",
      "randint(...) method of numpy.random.mtrand.RandomState instance\n",
      "    randint(low, high=None, size=None, dtype=int)\n",
      "    \n",
      "    Return random integers from `low` (inclusive) to `high` (exclusive).\n",
      "    \n",
      "    Return random integers from the \"discrete uniform\" distribution of\n",
      "    the specified dtype in the \"half-open\" interval [`low`, `high`). If\n",
      "    `high` is None (the default), then results are from [0, `low`).\n",
      "    \n",
      "    .. note::\n",
      "        New code should use the ``integers`` method of a ``default_rng()``\n",
      "        instance instead; please see the :ref:`random-quick-start`.\n",
      "    \n",
      "    Parameters\n",
      "    ----------\n",
      "    low : int or array-like of ints\n",
      "        Lowest (signed) integers to be drawn from the distribution (unless\n",
      "        ``high=None``, in which case this parameter is one above the\n",
      "        *highest* such integer).\n",
      "    high : int or array-like of ints, optional\n",
      "        If provided, one above the largest (signed) integer to be drawn\n",
      "        from the distribution (see above for behavior if ``high=None``).\n",
      "        If array-like, must contain integer values\n",
      "    size : int or tuple of ints, optional\n",
      "        Output shape.  If the given shape is, e.g., ``(m, n, k)``, then\n",
      "        ``m * n * k`` samples are drawn.  Default is None, in which case a\n",
      "        single value is returned.\n",
      "    dtype : dtype, optional\n",
      "        Desired dtype of the result. Byteorder must be native.\n",
      "        The default value is int.\n",
      "    \n",
      "        .. versionadded:: 1.11.0\n",
      "    \n",
      "    Returns\n",
      "    -------\n",
      "    out : int or ndarray of ints\n",
      "        `size`-shaped array of random integers from the appropriate\n",
      "        distribution, or a single such random int if `size` not provided.\n",
      "    \n",
      "    See Also\n",
      "    --------\n",
      "    random_integers : similar to `randint`, only for the closed\n",
      "        interval [`low`, `high`], and 1 is the lowest value if `high` is\n",
      "        omitted.\n",
      "    random.Generator.integers: which should be used for new code.\n",
      "    \n",
      "    Examples\n",
      "    --------\n",
      "    >>> np.random.randint(2, size=10)\n",
      "    array([1, 0, 0, 0, 1, 1, 0, 0, 1, 0]) # random\n",
      "    >>> np.random.randint(1, size=10)\n",
      "    array([0, 0, 0, 0, 0, 0, 0, 0, 0, 0])\n",
      "    \n",
      "    Generate a 2 x 4 array of ints between 0 and 4, inclusive:\n",
      "    \n",
      "    >>> np.random.randint(5, size=(2, 4))\n",
      "    array([[4, 0, 2, 1], # random\n",
      "           [3, 2, 2, 0]])\n",
      "    \n",
      "    Generate a 1 x 3 array with 3 different upper bounds\n",
      "    \n",
      "    >>> np.random.randint(1, [3, 5, 10])\n",
      "    array([2, 2, 9]) # random\n",
      "    \n",
      "    Generate a 1 by 3 array with 3 different lower bounds\n",
      "    \n",
      "    >>> np.random.randint([1, 5, 7], 10)\n",
      "    array([9, 8, 7]) # random\n",
      "    \n",
      "    Generate a 2 by 4 array using broadcasting with dtype of uint8\n",
      "    \n",
      "    >>> np.random.randint([1, 3, 5, 7], [[10], [20]], dtype=np.uint8)\n",
      "    array([[ 8,  6,  9,  7], # random\n",
      "           [ 1, 16,  9, 12]], dtype=uint8)\n",
      "\n"
     ]
    }
   ],
   "source": [
    "help(np.random.randint)"
   ]
  },
  {
   "cell_type": "code",
   "execution_count": 5,
   "id": "9ddb8acf",
   "metadata": {},
   "outputs": [],
   "source": [
    "rng = np.random.default_rng()"
   ]
  },
  {
   "cell_type": "code",
   "execution_count": 6,
   "id": "6769f15e",
   "metadata": {},
   "outputs": [
    {
     "data": {
      "text/plain": [
       "numpy.random._generator.Generator"
      ]
     },
     "execution_count": 6,
     "metadata": {},
     "output_type": "execute_result"
    }
   ],
   "source": [
    "type(rng)"
   ]
  },
  {
   "cell_type": "code",
   "execution_count": 8,
   "id": "7364b1ac",
   "metadata": {},
   "outputs": [],
   "source": [
    "arr = rng.integers(0, 40, size=10)"
   ]
  },
  {
   "cell_type": "code",
   "execution_count": 9,
   "id": "f38dbadb",
   "metadata": {},
   "outputs": [
    {
     "data": {
      "text/plain": [
       "array([10, 36, 39, 25, 23, 30,  5, 20, 25, 12])"
      ]
     },
     "execution_count": 9,
     "metadata": {},
     "output_type": "execute_result"
    }
   ],
   "source": [
    "arr"
   ]
  },
  {
   "cell_type": "markdown",
   "id": "8d39ac81",
   "metadata": {},
   "source": [
    "* Choose 6 of those numbers (with replacement) and put them into a NumPy array."
   ]
  },
  {
   "cell_type": "code",
   "execution_count": 10,
   "id": "672e5fae",
   "metadata": {},
   "outputs": [
    {
     "data": {
      "text/plain": [
       "array([23, 30, 23, 30, 30, 39])"
      ]
     },
     "execution_count": 10,
     "metadata": {},
     "output_type": "execute_result"
    }
   ],
   "source": [
    "rng.choice(arr, size=6)"
   ]
  },
  {
   "cell_type": "markdown",
   "id": "adef8834",
   "metadata": {},
   "source": [
    "* Make a three row, five column NumPy array of random real numbers between -1 and 4."
   ]
  },
  {
   "cell_type": "code",
   "execution_count": 11,
   "id": "79c54ca5",
   "metadata": {},
   "outputs": [
    {
     "ename": "TypeError",
     "evalue": "random() got multiple values for keyword argument 'size'",
     "output_type": "error",
     "traceback": [
      "\u001b[0;31m---------------------------------------------------------------------------\u001b[0m",
      "\u001b[0;31mTypeError\u001b[0m                                 Traceback (most recent call last)",
      "Input \u001b[0;32mIn [11]\u001b[0m, in \u001b[0;36m<cell line: 1>\u001b[0;34m()\u001b[0m\n\u001b[0;32m----> 1\u001b[0m \u001b[43mrng\u001b[49m\u001b[38;5;241;43m.\u001b[39;49m\u001b[43mrandom\u001b[49m\u001b[43m(\u001b[49m\u001b[38;5;241;43m-\u001b[39;49m\u001b[38;5;241;43m1\u001b[39;49m\u001b[43m,\u001b[49m\u001b[43m \u001b[49m\u001b[38;5;241;43m4\u001b[39;49m\u001b[43m,\u001b[49m\u001b[43m \u001b[49m\u001b[43msize\u001b[49m\u001b[38;5;241;43m=\u001b[39;49m\u001b[43m(\u001b[49m\u001b[38;5;241;43m3\u001b[39;49m\u001b[43m,\u001b[49m\u001b[38;5;241;43m5\u001b[39;49m\u001b[43m)\u001b[49m\u001b[43m)\u001b[49m\n",
      "File \u001b[0;32m_generator.pyx:238\u001b[0m, in \u001b[0;36mnumpy.random._generator.Generator.random\u001b[0;34m()\u001b[0m\n",
      "\u001b[0;31mTypeError\u001b[0m: random() got multiple values for keyword argument 'size'"
     ]
    }
   ],
   "source": [
    "rng.random(-1, 4, size=(3,5))"
   ]
  },
  {
   "cell_type": "code",
   "execution_count": 12,
   "id": "95c95bfe",
   "metadata": {},
   "outputs": [
    {
     "name": "stdout",
     "output_type": "stream",
     "text": [
      "Help on built-in function random:\n",
      "\n",
      "random(...) method of numpy.random._generator.Generator instance\n",
      "    random(size=None, dtype=np.float64, out=None)\n",
      "    \n",
      "    Return random floats in the half-open interval [0.0, 1.0).\n",
      "    \n",
      "    Results are from the \"continuous uniform\" distribution over the\n",
      "    stated interval.  To sample :math:`Unif[a, b), b > a` multiply\n",
      "    the output of `random` by `(b-a)` and add `a`::\n",
      "    \n",
      "      (b - a) * random() + a\n",
      "    \n",
      "    Parameters\n",
      "    ----------\n",
      "    size : int or tuple of ints, optional\n",
      "        Output shape.  If the given shape is, e.g., ``(m, n, k)``, then\n",
      "        ``m * n * k`` samples are drawn.  Default is None, in which case a\n",
      "        single value is returned.\n",
      "    dtype : dtype, optional\n",
      "        Desired dtype of the result, only `float64` and `float32` are supported.\n",
      "        Byteorder must be native. The default value is np.float64.\n",
      "    out : ndarray, optional\n",
      "        Alternative output array in which to place the result. If size is not None,\n",
      "        it must have the same shape as the provided size and must match the type of\n",
      "        the output values.\n",
      "    \n",
      "    Returns\n",
      "    -------\n",
      "    out : float or ndarray of floats\n",
      "        Array of random floats of shape `size` (unless ``size=None``, in which\n",
      "        case a single float is returned).\n",
      "    \n",
      "    Examples\n",
      "    --------\n",
      "    >>> rng = np.random.default_rng()\n",
      "    >>> rng.random()\n",
      "    0.47108547995356098 # random\n",
      "    >>> type(rng.random())\n",
      "    <class 'float'>\n",
      "    >>> rng.random((5,))\n",
      "    array([ 0.30220482,  0.86820401,  0.1654503 ,  0.11659149,  0.54323428]) # random\n",
      "    \n",
      "    Three-by-two array of random numbers from [-5, 0):\n",
      "    \n",
      "    >>> 5 * rng.random((3, 2)) - 5\n",
      "    array([[-3.99149989, -0.52338984], # random\n",
      "           [-2.99091858, -0.79479508],\n",
      "           [-1.23204345, -1.75224494]])\n",
      "\n"
     ]
    }
   ],
   "source": [
    "help(rng.random)"
   ]
  },
  {
   "cell_type": "code",
   "execution_count": 15,
   "id": "91b884c6",
   "metadata": {},
   "outputs": [
    {
     "data": {
      "text/plain": [
       "array([[0.14373169, 0.04151085, 0.85160258, 0.5625753 , 0.77434184],\n",
       "       [0.09323801, 0.63691547, 0.83783101, 0.60707909, 0.69066845],\n",
       "       [0.65647018, 0.45466071, 0.77161217, 0.53020513, 0.71808796]])"
      ]
     },
     "execution_count": 15,
     "metadata": {},
     "output_type": "execute_result"
    }
   ],
   "source": [
    "arr = rng.random((3,5))\n",
    "arr"
   ]
  },
  {
   "cell_type": "code",
   "execution_count": 16,
   "id": "81086e0b",
   "metadata": {},
   "outputs": [
    {
     "data": {
      "text/plain": [
       "array([[0.71865844, 0.20755425, 4.25801288, 2.81287651, 3.87170919],\n",
       "       [0.46619004, 3.18457733, 4.18915507, 3.03539543, 3.45334223],\n",
       "       [3.28235092, 2.27330357, 3.85806084, 2.65102563, 3.59043979]])"
      ]
     },
     "execution_count": 16,
     "metadata": {},
     "output_type": "execute_result"
    }
   ],
   "source": [
    "arr*5"
   ]
  },
  {
   "cell_type": "code",
   "execution_count": 17,
   "id": "6ef81892",
   "metadata": {},
   "outputs": [
    {
     "data": {
      "text/plain": [
       "array([[-0.28134156, -0.79244575,  3.25801288,  1.81287651,  2.87170919],\n",
       "       [-0.53380996,  2.18457733,  3.18915507,  2.03539543,  2.45334223],\n",
       "       [ 2.28235092,  1.27330357,  2.85806084,  1.65102563,  2.59043979]])"
      ]
     },
     "execution_count": 17,
     "metadata": {},
     "output_type": "execute_result"
    }
   ],
   "source": [
    "arr*5-1"
   ]
  },
  {
   "cell_type": "code",
   "execution_count": 18,
   "id": "f37e9eb2",
   "metadata": {},
   "outputs": [
    {
     "data": {
      "text/plain": [
       "array([[-0.01973026,  1.61155096,  2.9866675 ,  1.71899874, -0.01933733],\n",
       "       [ 1.36928355,  2.32786313, -0.00448403, -0.82777187,  0.89141526],\n",
       "       [ 3.13028253, -0.38060258,  3.05444416,  0.42173001,  1.3847107 ]])"
      ]
     },
     "execution_count": 18,
     "metadata": {},
     "output_type": "execute_result"
    }
   ],
   "source": [
    "5*rng.random(size=(3,5)) - 1"
   ]
  },
  {
   "cell_type": "markdown",
   "id": "7db9526d",
   "metadata": {},
   "source": [
    "* Make a length 10 NumPy array of random numbers following a normal distribution with mean 2 and standard deviation 0.1."
   ]
  },
  {
   "cell_type": "code",
   "execution_count": 19,
   "id": "508fe10e",
   "metadata": {},
   "outputs": [
    {
     "name": "stdout",
     "output_type": "stream",
     "text": [
      "Help on built-in function normal:\n",
      "\n",
      "normal(...) method of numpy.random._generator.Generator instance\n",
      "    normal(loc=0.0, scale=1.0, size=None)\n",
      "    \n",
      "    Draw random samples from a normal (Gaussian) distribution.\n",
      "    \n",
      "    The probability density function of the normal distribution, first\n",
      "    derived by De Moivre and 200 years later by both Gauss and Laplace\n",
      "    independently [2]_, is often called the bell curve because of\n",
      "    its characteristic shape (see the example below).\n",
      "    \n",
      "    The normal distributions occurs often in nature.  For example, it\n",
      "    describes the commonly occurring distribution of samples influenced\n",
      "    by a large number of tiny, random disturbances, each with its own\n",
      "    unique distribution [2]_.\n",
      "    \n",
      "    Parameters\n",
      "    ----------\n",
      "    loc : float or array_like of floats\n",
      "        Mean (\"centre\") of the distribution.\n",
      "    scale : float or array_like of floats\n",
      "        Standard deviation (spread or \"width\") of the distribution. Must be\n",
      "        non-negative.\n",
      "    size : int or tuple of ints, optional\n",
      "        Output shape.  If the given shape is, e.g., ``(m, n, k)``, then\n",
      "        ``m * n * k`` samples are drawn.  If size is ``None`` (default),\n",
      "        a single value is returned if ``loc`` and ``scale`` are both scalars.\n",
      "        Otherwise, ``np.broadcast(loc, scale).size`` samples are drawn.\n",
      "    \n",
      "    Returns\n",
      "    -------\n",
      "    out : ndarray or scalar\n",
      "        Drawn samples from the parameterized normal distribution.\n",
      "    \n",
      "    See Also\n",
      "    --------\n",
      "    scipy.stats.norm : probability density function, distribution or\n",
      "        cumulative density function, etc.\n",
      "    \n",
      "    Notes\n",
      "    -----\n",
      "    The probability density for the Gaussian distribution is\n",
      "    \n",
      "    .. math:: p(x) = \\frac{1}{\\sqrt{ 2 \\pi \\sigma^2 }}\n",
      "                     e^{ - \\frac{ (x - \\mu)^2 } {2 \\sigma^2} },\n",
      "    \n",
      "    where :math:`\\mu` is the mean and :math:`\\sigma` the standard\n",
      "    deviation. The square of the standard deviation, :math:`\\sigma^2`,\n",
      "    is called the variance.\n",
      "    \n",
      "    The function has its peak at the mean, and its \"spread\" increases with\n",
      "    the standard deviation (the function reaches 0.607 times its maximum at\n",
      "    :math:`x + \\sigma` and :math:`x - \\sigma` [2]_).  This implies that\n",
      "    :meth:`normal` is more likely to return samples lying close to the\n",
      "    mean, rather than those far away.\n",
      "    \n",
      "    References\n",
      "    ----------\n",
      "    .. [1] Wikipedia, \"Normal distribution\",\n",
      "           https://en.wikipedia.org/wiki/Normal_distribution\n",
      "    .. [2] P. R. Peebles Jr., \"Central Limit Theorem\" in \"Probability,\n",
      "           Random Variables and Random Signal Principles\", 4th ed., 2001,\n",
      "           pp. 51, 51, 125.\n",
      "    \n",
      "    Examples\n",
      "    --------\n",
      "    Draw samples from the distribution:\n",
      "    \n",
      "    >>> mu, sigma = 0, 0.1 # mean and standard deviation\n",
      "    >>> s = np.random.default_rng().normal(mu, sigma, 1000)\n",
      "    \n",
      "    Verify the mean and the variance:\n",
      "    \n",
      "    >>> abs(mu - np.mean(s))\n",
      "    0.0  # may vary\n",
      "    \n",
      "    >>> abs(sigma - np.std(s, ddof=1))\n",
      "    0.0  # may vary\n",
      "    \n",
      "    Display the histogram of the samples, along with\n",
      "    the probability density function:\n",
      "    \n",
      "    >>> import matplotlib.pyplot as plt\n",
      "    >>> count, bins, ignored = plt.hist(s, 30, density=True)\n",
      "    >>> plt.plot(bins, 1/(sigma * np.sqrt(2 * np.pi)) *\n",
      "    ...                np.exp( - (bins - mu)**2 / (2 * sigma**2) ),\n",
      "    ...          linewidth=2, color='r')\n",
      "    >>> plt.show()\n",
      "    \n",
      "    Two-by-four array of samples from N(3, 6.25):\n",
      "    \n",
      "    >>> np.random.default_rng().normal(3, 2.5, size=(2, 4))\n",
      "    array([[-4.49401501,  4.00950034, -1.81814867,  7.29718677],   # random\n",
      "           [ 0.39924804,  4.68456316,  4.99394529,  4.84057254]])  # random\n",
      "\n"
     ]
    }
   ],
   "source": [
    "help(rng.normal)"
   ]
  },
  {
   "cell_type": "code",
   "execution_count": 20,
   "id": "a08ea2ec",
   "metadata": {},
   "outputs": [
    {
     "data": {
      "text/plain": [
       "array([1.97074003, 2.10991763, 1.98318881, 2.00287628, 2.10707454,\n",
       "       2.02365598, 1.89343959, 1.97254061, 1.97359416, 1.96238154])"
      ]
     },
     "execution_count": 20,
     "metadata": {},
     "output_type": "execute_result"
    }
   ],
   "source": [
    "rng.normal(2, 0.1, size=10)"
   ]
  },
  {
   "cell_type": "code",
   "execution_count": 21,
   "id": "4dc97adc",
   "metadata": {},
   "outputs": [
    {
     "data": {
      "text/plain": [
       "(10,)"
      ]
     },
     "execution_count": 21,
     "metadata": {},
     "output_type": "execute_result"
    }
   ],
   "source": [
    "rng.normal(2, 0.1, size=10).shape"
   ]
  },
  {
   "cell_type": "markdown",
   "id": "a0e2d890",
   "metadata": {},
   "source": [
    "## Changing rows and columns"
   ]
  },
  {
   "cell_type": "code",
   "execution_count": 2,
   "id": "35580479",
   "metadata": {},
   "outputs": [],
   "source": [
    "arr = np.zeros((4,4))\n",
    "for i in range(4):\n",
    "    arr[i] = i"
   ]
  },
  {
   "cell_type": "code",
   "execution_count": 3,
   "id": "7342ceb3",
   "metadata": {},
   "outputs": [
    {
     "data": {
      "text/plain": [
       "array([[0., 0., 0., 0.],\n",
       "       [1., 1., 1., 1.],\n",
       "       [2., 2., 2., 2.],\n",
       "       [3., 3., 3., 3.]])"
      ]
     },
     "execution_count": 3,
     "metadata": {},
     "output_type": "execute_result"
    }
   ],
   "source": [
    "arr"
   ]
  },
  {
   "cell_type": "code",
   "execution_count": 4,
   "id": "2b097ed6",
   "metadata": {},
   "outputs": [],
   "source": [
    "arr = np.zeros((4,4))"
   ]
  },
  {
   "cell_type": "code",
   "execution_count": 6,
   "id": "c2798348",
   "metadata": {},
   "outputs": [
    {
     "data": {
      "text/plain": [
       "array([[0., 0., 0., 0.],\n",
       "       [0., 0., 0., 0.],\n",
       "       [0., 0., 0., 0.],\n",
       "       [0., 0., 0., 0.]])"
      ]
     },
     "execution_count": 6,
     "metadata": {},
     "output_type": "execute_result"
    }
   ],
   "source": [
    "arr"
   ]
  },
  {
   "cell_type": "code",
   "execution_count": 5,
   "id": "7c992dce",
   "metadata": {},
   "outputs": [
    {
     "data": {
      "text/plain": [
       "array([0., 0., 0., 0.])"
      ]
     },
     "execution_count": 5,
     "metadata": {},
     "output_type": "execute_result"
    }
   ],
   "source": [
    "arr[2]"
   ]
  },
  {
   "cell_type": "code",
   "execution_count": 7,
   "id": "9e6a275b",
   "metadata": {},
   "outputs": [],
   "source": [
    "arr[2] = 13"
   ]
  },
  {
   "cell_type": "code",
   "execution_count": 8,
   "id": "581943a6",
   "metadata": {},
   "outputs": [
    {
     "data": {
      "text/plain": [
       "array([[ 0.,  0.,  0.,  0.],\n",
       "       [ 0.,  0.,  0.,  0.],\n",
       "       [13., 13., 13., 13.],\n",
       "       [ 0.,  0.,  0.,  0.]])"
      ]
     },
     "execution_count": 8,
     "metadata": {},
     "output_type": "execute_result"
    }
   ],
   "source": [
    "arr"
   ]
  },
  {
   "cell_type": "code",
   "execution_count": 9,
   "id": "c2f83eb5",
   "metadata": {},
   "outputs": [],
   "source": [
    "arr[:,2] = -4"
   ]
  },
  {
   "cell_type": "code",
   "execution_count": 10,
   "id": "ffc070cc",
   "metadata": {},
   "outputs": [
    {
     "data": {
      "text/plain": [
       "array([[ 0.,  0., -4.,  0.],\n",
       "       [ 0.,  0., -4.,  0.],\n",
       "       [13., 13., -4., 13.],\n",
       "       [ 0.,  0., -4.,  0.]])"
      ]
     },
     "execution_count": 10,
     "metadata": {},
     "output_type": "execute_result"
    }
   ],
   "source": [
    "arr"
   ]
  },
  {
   "cell_type": "code",
   "execution_count": 11,
   "id": "e6e15116",
   "metadata": {},
   "outputs": [],
   "source": [
    "arr[1,:] = 1"
   ]
  },
  {
   "cell_type": "code",
   "execution_count": 12,
   "id": "5a673de6",
   "metadata": {},
   "outputs": [
    {
     "data": {
      "text/plain": [
       "array([[ 0.,  0., -4.,  0.],\n",
       "       [ 1.,  1.,  1.,  1.],\n",
       "       [13., 13., -4., 13.],\n",
       "       [ 0.,  0., -4.,  0.]])"
      ]
     },
     "execution_count": 12,
     "metadata": {},
     "output_type": "execute_result"
    }
   ],
   "source": [
    "arr"
   ]
  },
  {
   "cell_type": "code",
   "execution_count": 13,
   "id": "acff2b60",
   "metadata": {},
   "outputs": [],
   "source": [
    "v = arr[:, 2]"
   ]
  },
  {
   "cell_type": "code",
   "execution_count": 14,
   "id": "1ea68baf",
   "metadata": {},
   "outputs": [
    {
     "data": {
      "text/plain": [
       "array([-4.,  1., -4., -4.])"
      ]
     },
     "execution_count": 14,
     "metadata": {},
     "output_type": "execute_result"
    }
   ],
   "source": [
    "v"
   ]
  },
  {
   "cell_type": "code",
   "execution_count": 15,
   "id": "9734a847",
   "metadata": {},
   "outputs": [
    {
     "data": {
      "text/plain": [
       "(4,)"
      ]
     },
     "execution_count": 15,
     "metadata": {},
     "output_type": "execute_result"
    }
   ],
   "source": [
    "v.shape"
   ]
  },
  {
   "cell_type": "code",
   "execution_count": 16,
   "id": "0161b9c7",
   "metadata": {},
   "outputs": [
    {
     "ename": "ValueError",
     "evalue": "could not broadcast input array from shape (2,) into shape (4,)",
     "output_type": "error",
     "traceback": [
      "\u001b[0;31m---------------------------------------------------------------------------\u001b[0m",
      "\u001b[0;31mValueError\u001b[0m                                Traceback (most recent call last)",
      "Input \u001b[0;32mIn [16]\u001b[0m, in \u001b[0;36m<cell line: 1>\u001b[0;34m()\u001b[0m\n\u001b[0;32m----> 1\u001b[0m arr[\u001b[38;5;241m3\u001b[39m] \u001b[38;5;241m=\u001b[39m [\u001b[38;5;241m2\u001b[39m,\u001b[38;5;241m10\u001b[39m]\n",
      "\u001b[0;31mValueError\u001b[0m: could not broadcast input array from shape (2,) into shape (4,)"
     ]
    }
   ],
   "source": [
    "arr[3] = [2,10]"
   ]
  },
  {
   "cell_type": "code",
   "execution_count": 17,
   "id": "be3e609f",
   "metadata": {},
   "outputs": [],
   "source": [
    "arr[:] = [1,3,4,7]"
   ]
  },
  {
   "cell_type": "code",
   "execution_count": 18,
   "id": "e3d6f5e8",
   "metadata": {},
   "outputs": [
    {
     "data": {
      "text/plain": [
       "array([[1., 3., 4., 7.],\n",
       "       [1., 3., 4., 7.],\n",
       "       [1., 3., 4., 7.],\n",
       "       [1., 3., 4., 7.]])"
      ]
     },
     "execution_count": 18,
     "metadata": {},
     "output_type": "execute_result"
    }
   ],
   "source": [
    "arr"
   ]
  },
  {
   "cell_type": "code",
   "execution_count": 21,
   "id": "f273d5f0",
   "metadata": {},
   "outputs": [],
   "source": [
    "w = np.array([1,3,4,7])"
   ]
  },
  {
   "cell_type": "code",
   "execution_count": 19,
   "id": "65ce816d",
   "metadata": {},
   "outputs": [
    {
     "data": {
      "text/plain": [
       "(4, 4)"
      ]
     },
     "execution_count": 19,
     "metadata": {},
     "output_type": "execute_result"
    }
   ],
   "source": [
    "arr.shape"
   ]
  },
  {
   "cell_type": "code",
   "execution_count": 22,
   "id": "28989753",
   "metadata": {},
   "outputs": [
    {
     "data": {
      "text/plain": [
       "(4,)"
      ]
     },
     "execution_count": 22,
     "metadata": {},
     "output_type": "execute_result"
    }
   ],
   "source": [
    "w.shape"
   ]
  },
  {
   "cell_type": "code",
   "execution_count": 23,
   "id": "c8398eee",
   "metadata": {},
   "outputs": [],
   "source": [
    "arr = np.zeros((3,3))\n",
    "for i in range(3):\n",
    "    arr[i] = i"
   ]
  },
  {
   "cell_type": "code",
   "execution_count": 24,
   "id": "bae8bd4f",
   "metadata": {},
   "outputs": [
    {
     "data": {
      "text/plain": [
       "array([[0., 0., 0.],\n",
       "       [1., 1., 1.],\n",
       "       [2., 2., 2.]])"
      ]
     },
     "execution_count": 24,
     "metadata": {},
     "output_type": "execute_result"
    }
   ],
   "source": [
    "arr"
   ]
  },
  {
   "cell_type": "code",
   "execution_count": 27,
   "id": "691b525f",
   "metadata": {},
   "outputs": [
    {
     "data": {
      "text/plain": [
       "array([[0., 0., 0.],\n",
       "       [1., 1., 1.],\n",
       "       [2., 2., 2.]])"
      ]
     },
     "execution_count": 27,
     "metadata": {},
     "output_type": "execute_result"
    }
   ],
   "source": [
    "arr = np.zeros((3,3))\n",
    "arr[:] = np.arange(3)\n",
    "arr.T"
   ]
  },
  {
   "cell_type": "code",
   "execution_count": 28,
   "id": "626f53fa",
   "metadata": {},
   "outputs": [
    {
     "data": {
      "text/plain": [
       "array([[0., 1., 2.],\n",
       "       [0., 1., 2.],\n",
       "       [0., 1., 2.]])"
      ]
     },
     "execution_count": 28,
     "metadata": {},
     "output_type": "execute_result"
    }
   ],
   "source": [
    "arr"
   ]
  },
  {
   "cell_type": "code",
   "execution_count": 29,
   "id": "9ab77043",
   "metadata": {},
   "outputs": [],
   "source": [
    "arr = np.zeros((3,3))\n",
    "arr[:] = np.arange(3)\n",
    "arr = arr.T"
   ]
  },
  {
   "cell_type": "code",
   "execution_count": 30,
   "id": "7634e2a4",
   "metadata": {},
   "outputs": [
    {
     "data": {
      "text/plain": [
       "array([[0., 0., 0.],\n",
       "       [1., 1., 1.],\n",
       "       [2., 2., 2.]])"
      ]
     },
     "execution_count": 30,
     "metadata": {},
     "output_type": "execute_result"
    }
   ],
   "source": [
    "arr"
   ]
  },
  {
   "cell_type": "code",
   "execution_count": 31,
   "id": "f9b52994",
   "metadata": {},
   "outputs": [
    {
     "data": {
      "text/plain": [
       "array([[0., 0., 0.],\n",
       "       [1., 1., 1.],\n",
       "       [2., 2., 2.]])"
      ]
     },
     "execution_count": 31,
     "metadata": {},
     "output_type": "execute_result"
    }
   ],
   "source": [
    "arr = np.zeros((3,3))\n",
    "arr[:] = np.arange(3).reshape((3,1))\n",
    "arr"
   ]
  },
  {
   "cell_type": "code",
   "execution_count": 32,
   "id": "9257605b",
   "metadata": {},
   "outputs": [],
   "source": [
    "x = np.arange(3).reshape((3,1))"
   ]
  },
  {
   "cell_type": "code",
   "execution_count": 33,
   "id": "0f5e8a2b",
   "metadata": {},
   "outputs": [
    {
     "data": {
      "text/plain": [
       "array([[0],\n",
       "       [1],\n",
       "       [2]])"
      ]
     },
     "execution_count": 33,
     "metadata": {},
     "output_type": "execute_result"
    }
   ],
   "source": [
    "x"
   ]
  },
  {
   "cell_type": "code",
   "execution_count": 34,
   "id": "703dae1b",
   "metadata": {},
   "outputs": [
    {
     "data": {
      "text/plain": [
       "(3, 1)"
      ]
     },
     "execution_count": 34,
     "metadata": {},
     "output_type": "execute_result"
    }
   ],
   "source": [
    "x.shape"
   ]
  },
  {
   "cell_type": "code",
   "execution_count": 35,
   "id": "46db1e1d",
   "metadata": {},
   "outputs": [
    {
     "data": {
      "text/plain": [
       "(3, 3)"
      ]
     },
     "execution_count": 35,
     "metadata": {},
     "output_type": "execute_result"
    }
   ],
   "source": [
    "arr.shape"
   ]
  },
  {
   "cell_type": "code",
   "execution_count": 36,
   "id": "b43904c1",
   "metadata": {},
   "outputs": [
    {
     "ename": "ValueError",
     "evalue": "cannot reshape array of size 3 into shape (2,1)",
     "output_type": "error",
     "traceback": [
      "\u001b[0;31m---------------------------------------------------------------------------\u001b[0m",
      "\u001b[0;31mValueError\u001b[0m                                Traceback (most recent call last)",
      "Input \u001b[0;32mIn [36]\u001b[0m, in \u001b[0;36m<cell line: 1>\u001b[0;34m()\u001b[0m\n\u001b[0;32m----> 1\u001b[0m y \u001b[38;5;241m=\u001b[39m \u001b[43mnp\u001b[49m\u001b[38;5;241;43m.\u001b[39;49m\u001b[43marange\u001b[49m\u001b[43m(\u001b[49m\u001b[38;5;241;43m3\u001b[39;49m\u001b[43m)\u001b[49m\u001b[38;5;241;43m.\u001b[39;49m\u001b[43mreshape\u001b[49m\u001b[43m(\u001b[49m\u001b[43m(\u001b[49m\u001b[38;5;241;43m2\u001b[39;49m\u001b[43m,\u001b[49m\u001b[38;5;241;43m1\u001b[39;49m\u001b[43m)\u001b[49m\u001b[43m)\u001b[49m\n",
      "\u001b[0;31mValueError\u001b[0m: cannot reshape array of size 3 into shape (2,1)"
     ]
    }
   ],
   "source": [
    "y = np.arange(3).reshape((2,1))"
   ]
  },
  {
   "cell_type": "code",
   "execution_count": 37,
   "id": "9e5053cf",
   "metadata": {},
   "outputs": [],
   "source": [
    "z = np.arange(3).reshape((-1,1))"
   ]
  },
  {
   "cell_type": "code",
   "execution_count": 38,
   "id": "9d7da29d",
   "metadata": {},
   "outputs": [
    {
     "data": {
      "text/plain": [
       "array([[0],\n",
       "       [1],\n",
       "       [2]])"
      ]
     },
     "execution_count": 38,
     "metadata": {},
     "output_type": "execute_result"
    }
   ],
   "source": [
    "z"
   ]
  },
  {
   "cell_type": "code",
   "execution_count": 39,
   "id": "2f97a596",
   "metadata": {},
   "outputs": [
    {
     "data": {
      "text/plain": [
       "(3, 1)"
      ]
     },
     "execution_count": 39,
     "metadata": {},
     "output_type": "execute_result"
    }
   ],
   "source": [
    "z.shape"
   ]
  },
  {
   "cell_type": "code",
   "execution_count": 40,
   "id": "b90a1627",
   "metadata": {},
   "outputs": [
    {
     "data": {
      "text/plain": [
       "array([[0., 0., 0.],\n",
       "       [1., 1., 1.],\n",
       "       [2., 2., 2.]])"
      ]
     },
     "execution_count": 40,
     "metadata": {},
     "output_type": "execute_result"
    }
   ],
   "source": [
    "arr"
   ]
  },
  {
   "cell_type": "code",
   "execution_count": 41,
   "id": "adcf9996",
   "metadata": {},
   "outputs": [
    {
     "data": {
      "text/plain": [
       "array([0., 0., 0., 1., 1., 1., 2., 2., 2.])"
      ]
     },
     "execution_count": 41,
     "metadata": {},
     "output_type": "execute_result"
    }
   ],
   "source": [
    "arr.reshape(-1)"
   ]
  },
  {
   "cell_type": "markdown",
   "id": "9814d547",
   "metadata": {},
   "source": [
    "## Timing a computation with a NumPy array vs with a list"
   ]
  },
  {
   "cell_type": "code",
   "execution_count": 2,
   "id": "b3a0ca9c",
   "metadata": {},
   "outputs": [],
   "source": [
    "rng = np.random.default_rng()"
   ]
  },
  {
   "cell_type": "code",
   "execution_count": 3,
   "id": "4381f879",
   "metadata": {},
   "outputs": [],
   "source": [
    "arr = rng.integers(1,10,size=10**6)"
   ]
  },
  {
   "cell_type": "code",
   "execution_count": 4,
   "id": "796d0b3f",
   "metadata": {},
   "outputs": [],
   "source": [
    "mylist = list(arr)"
   ]
  },
  {
   "cell_type": "code",
   "execution_count": 5,
   "id": "4cdbc465",
   "metadata": {},
   "outputs": [
    {
     "data": {
      "text/plain": [
       "array([3, 7, 8, 2, 1])"
      ]
     },
     "execution_count": 5,
     "metadata": {},
     "output_type": "execute_result"
    }
   ],
   "source": [
    "arr[:5]"
   ]
  },
  {
   "cell_type": "code",
   "execution_count": 6,
   "id": "da7e774d",
   "metadata": {},
   "outputs": [
    {
     "data": {
      "text/plain": [
       "array([0.5       , 0.21428571, 0.1875    , 0.75      , 1.5       ])"
      ]
     },
     "execution_count": 6,
     "metadata": {},
     "output_type": "execute_result"
    }
   ],
   "source": [
    "1.5/arr[:5]"
   ]
  },
  {
   "cell_type": "code",
   "execution_count": 7,
   "id": "cb610806",
   "metadata": {},
   "outputs": [
    {
     "ename": "TypeError",
     "evalue": "unsupported operand type(s) for /: 'float' and 'list'",
     "output_type": "error",
     "traceback": [
      "\u001b[0;31m---------------------------------------------------------------------------\u001b[0m",
      "\u001b[0;31mTypeError\u001b[0m                                 Traceback (most recent call last)",
      "Input \u001b[0;32mIn [7]\u001b[0m, in \u001b[0;36m<cell line: 1>\u001b[0;34m()\u001b[0m\n\u001b[0;32m----> 1\u001b[0m \u001b[38;5;241;43m1.5\u001b[39;49m\u001b[38;5;241;43m/\u001b[39;49m\u001b[43mmylist\u001b[49m\u001b[43m[\u001b[49m\u001b[43m:\u001b[49m\u001b[38;5;241;43m5\u001b[39;49m\u001b[43m]\u001b[49m\n",
      "\u001b[0;31mTypeError\u001b[0m: unsupported operand type(s) for /: 'float' and 'list'"
     ]
    }
   ],
   "source": [
    "1.5/mylist[:5]"
   ]
  },
  {
   "cell_type": "code",
   "execution_count": 8,
   "id": "897dd009",
   "metadata": {},
   "outputs": [],
   "source": [
    "newlist = []\n",
    "for x in mylist[:5]:\n",
    "    newlist.append(1.5/x)"
   ]
  },
  {
   "cell_type": "code",
   "execution_count": 9,
   "id": "0f03e309",
   "metadata": {},
   "outputs": [
    {
     "data": {
      "text/plain": [
       "[0.5, 0.21428571428571427, 0.1875, 0.75, 1.5]"
      ]
     },
     "execution_count": 9,
     "metadata": {},
     "output_type": "execute_result"
    }
   ],
   "source": [
    "newlist"
   ]
  },
  {
   "cell_type": "code",
   "execution_count": 10,
   "id": "96b52f13",
   "metadata": {},
   "outputs": [
    {
     "data": {
      "text/plain": [
       "[0.5, 0.21428571428571427, 0.1875, 0.75, 1.5]"
      ]
     },
     "execution_count": 10,
     "metadata": {},
     "output_type": "execute_result"
    }
   ],
   "source": [
    "[1.5/x for x in mylist[:5]]"
   ]
  },
  {
   "cell_type": "code",
   "execution_count": 11,
   "id": "795d35ad",
   "metadata": {},
   "outputs": [
    {
     "name": "stdout",
     "output_type": "stream",
     "text": [
      "1.12 ms ± 38.9 µs per loop (mean ± std. dev. of 7 runs, 1,000 loops each)\n"
     ]
    }
   ],
   "source": [
    "%%timeit\n",
    "1.5/arr"
   ]
  },
  {
   "cell_type": "code",
   "execution_count": 12,
   "id": "60e7324f",
   "metadata": {},
   "outputs": [
    {
     "name": "stdout",
     "output_type": "stream",
     "text": [
      "1.66 s ± 35.3 ms per loop (mean ± std. dev. of 7 runs, 1 loop each)\n"
     ]
    }
   ],
   "source": [
    "%%timeit\n",
    "newlist = []\n",
    "for x in mylist:\n",
    "    newlist.append(1.5/x)"
   ]
  },
  {
   "cell_type": "code",
   "execution_count": 13,
   "id": "6c1e90c8",
   "metadata": {},
   "outputs": [
    {
     "name": "stdout",
     "output_type": "stream",
     "text": [
      "1.62 s ± 27.2 ms per loop (mean ± std. dev. of 7 runs, 1 loop each)\n"
     ]
    }
   ],
   "source": [
    "%%timeit\n",
    "[1.5/x for x in mylist]"
   ]
  },
  {
   "cell_type": "markdown",
   "id": "0a2303e3",
   "metadata": {},
   "source": [
    "## Counting using NumPy"
   ]
  },
  {
   "cell_type": "code",
   "execution_count": 2,
   "id": "ca354d28",
   "metadata": {},
   "outputs": [],
   "source": [
    "rng = np.random.default_rng()"
   ]
  },
  {
   "cell_type": "code",
   "execution_count": 3,
   "id": "fe5a8a64",
   "metadata": {},
   "outputs": [],
   "source": [
    "n = 20"
   ]
  },
  {
   "cell_type": "markdown",
   "id": "0048e73d",
   "metadata": {},
   "source": [
    "* Make a NumPy array of random integers between -50 and 50 (inclusive).  Also make a list with the same numbers."
   ]
  },
  {
   "cell_type": "code",
   "execution_count": 4,
   "id": "f184e28c",
   "metadata": {},
   "outputs": [],
   "source": [
    "arr = rng.integers(-50, 51, size=n)"
   ]
  },
  {
   "cell_type": "code",
   "execution_count": 5,
   "id": "5f8df3f8",
   "metadata": {},
   "outputs": [],
   "source": [
    "mylist = list(arr)"
   ]
  },
  {
   "cell_type": "markdown",
   "id": "ab1f09c9",
   "metadata": {},
   "source": [
    "* How many of the integers are strictly less than 10?"
   ]
  },
  {
   "cell_type": "code",
   "execution_count": 6,
   "id": "3aa287e7",
   "metadata": {},
   "outputs": [],
   "source": [
    "count = 0\n",
    "for x in mylist:\n",
    "    if x < 10:\n",
    "        count += 1"
   ]
  },
  {
   "cell_type": "code",
   "execution_count": 7,
   "id": "6bcfae9e",
   "metadata": {},
   "outputs": [
    {
     "data": {
      "text/plain": [
       "13"
      ]
     },
     "execution_count": 7,
     "metadata": {},
     "output_type": "execute_result"
    }
   ],
   "source": [
    "count"
   ]
  },
  {
   "cell_type": "code",
   "execution_count": 8,
   "id": "618887f0",
   "metadata": {},
   "outputs": [
    {
     "data": {
      "text/plain": [
       "13"
      ]
     },
     "execution_count": 8,
     "metadata": {},
     "output_type": "execute_result"
    }
   ],
   "source": [
    "len([x for x in mylist if x < 10])"
   ]
  },
  {
   "cell_type": "code",
   "execution_count": 9,
   "id": "b36d9012",
   "metadata": {},
   "outputs": [
    {
     "data": {
      "text/plain": [
       "array([-20,   7,  32, -46,  -2, -16, -12, -39, -22, -38,  17, -20,  49,\n",
       "        27, -36,   0,  49,   3,  41,  39])"
      ]
     },
     "execution_count": 9,
     "metadata": {},
     "output_type": "execute_result"
    }
   ],
   "source": [
    "arr"
   ]
  },
  {
   "cell_type": "code",
   "execution_count": 10,
   "id": "00a00c36",
   "metadata": {},
   "outputs": [
    {
     "data": {
      "text/plain": [
       "array([ True,  True, False,  True,  True,  True,  True,  True,  True,\n",
       "        True, False,  True, False, False,  True,  True, False,  True,\n",
       "       False, False])"
      ]
     },
     "execution_count": 10,
     "metadata": {},
     "output_type": "execute_result"
    }
   ],
   "source": [
    "arr < 10"
   ]
  },
  {
   "cell_type": "code",
   "execution_count": 11,
   "id": "76ffdefd",
   "metadata": {},
   "outputs": [
    {
     "data": {
      "text/plain": [
       "13"
      ]
     },
     "execution_count": 11,
     "metadata": {},
     "output_type": "execute_result"
    }
   ],
   "source": [
    "np.count_nonzero(arr < 10)"
   ]
  },
  {
   "cell_type": "markdown",
   "id": "f33b48cf",
   "metadata": {},
   "source": [
    "* At what indices do these integers less than 10 occur?"
   ]
  },
  {
   "cell_type": "code",
   "execution_count": 12,
   "id": "0c0ac6e6",
   "metadata": {},
   "outputs": [
    {
     "data": {
      "text/plain": [
       "(array([ 0,  1,  3,  4,  5,  6,  7,  8,  9, 11, 14, 15, 17]),)"
      ]
     },
     "execution_count": 12,
     "metadata": {},
     "output_type": "execute_result"
    }
   ],
   "source": [
    "np.nonzero(arr < 10)"
   ]
  },
  {
   "cell_type": "markdown",
   "id": "5017b366",
   "metadata": {},
   "source": [
    "* Make a new array containing only these integers."
   ]
  },
  {
   "cell_type": "code",
   "execution_count": 13,
   "id": "b0f8632d",
   "metadata": {},
   "outputs": [],
   "source": [
    "newlist = []\n",
    "for x in mylist:\n",
    "    if x < 10:\n",
    "        newlist.append(x)"
   ]
  },
  {
   "cell_type": "code",
   "execution_count": 14,
   "id": "adad42b9",
   "metadata": {},
   "outputs": [
    {
     "data": {
      "text/plain": [
       "[-20, 7, -46, -2, -16, -12, -39, -22, -38, -20, -36, 0, 3]"
      ]
     },
     "execution_count": 14,
     "metadata": {},
     "output_type": "execute_result"
    }
   ],
   "source": [
    "newlist"
   ]
  },
  {
   "cell_type": "code",
   "execution_count": 15,
   "id": "b2e3e24a",
   "metadata": {},
   "outputs": [
    {
     "data": {
      "text/plain": [
       "[-20, 7, -46, -2, -16, -12, -39, -22, -38, -20, -36, 0, 3]"
      ]
     },
     "execution_count": 15,
     "metadata": {},
     "output_type": "execute_result"
    }
   ],
   "source": [
    "[x for x in mylist if x < 10]"
   ]
  },
  {
   "cell_type": "code",
   "execution_count": 17,
   "id": "9799c3bd",
   "metadata": {},
   "outputs": [
    {
     "data": {
      "text/plain": [
       "array([-20,   7,  32, -46,  -2, -16, -12, -39, -22, -38,  17, -20,  49,\n",
       "        27, -36,   0,  49,   3,  41,  39])"
      ]
     },
     "execution_count": 17,
     "metadata": {},
     "output_type": "execute_result"
    }
   ],
   "source": [
    "arr"
   ]
  },
  {
   "cell_type": "code",
   "execution_count": 16,
   "id": "990bb3fb",
   "metadata": {},
   "outputs": [
    {
     "data": {
      "text/plain": [
       "array([ True,  True, False,  True,  True,  True,  True,  True,  True,\n",
       "        True, False,  True, False, False,  True,  True, False,  True,\n",
       "       False, False])"
      ]
     },
     "execution_count": 16,
     "metadata": {},
     "output_type": "execute_result"
    }
   ],
   "source": [
    "arr < 10"
   ]
  },
  {
   "cell_type": "code",
   "execution_count": 18,
   "id": "8a0d7eb2",
   "metadata": {},
   "outputs": [
    {
     "data": {
      "text/plain": [
       "array([-20,   7, -46,  -2, -16, -12, -39, -22, -38, -20, -36,   0,   3])"
      ]
     },
     "execution_count": 18,
     "metadata": {},
     "output_type": "execute_result"
    }
   ],
   "source": [
    "arr[arr < 10]"
   ]
  },
  {
   "cell_type": "markdown",
   "id": "31cee626",
   "metadata": {},
   "source": [
    "* If you pick a random integer from such an array, what's the probability it is less than 10?"
   ]
  },
  {
   "cell_type": "code",
   "execution_count": 19,
   "id": "fb52261f",
   "metadata": {},
   "outputs": [],
   "source": [
    "n = 10**7"
   ]
  },
  {
   "cell_type": "code",
   "execution_count": 20,
   "id": "5d4a3362",
   "metadata": {},
   "outputs": [],
   "source": [
    "arr = rng.integers(-50, 51, size=n)\n",
    "mylist = list(arr)"
   ]
  },
  {
   "cell_type": "code",
   "execution_count": 21,
   "id": "af5c3f75",
   "metadata": {},
   "outputs": [
    {
     "data": {
      "text/plain": [
       "0.5942684"
      ]
     },
     "execution_count": 21,
     "metadata": {},
     "output_type": "execute_result"
    }
   ],
   "source": [
    "count = 0\n",
    "for x in mylist:\n",
    "    if x < 10:\n",
    "        count += 1\n",
    "count/n"
   ]
  },
  {
   "cell_type": "code",
   "execution_count": 22,
   "id": "2db89a0c",
   "metadata": {},
   "outputs": [
    {
     "name": "stdout",
     "output_type": "stream",
     "text": [
      "930 ms ± 134 ms per loop (mean ± std. dev. of 7 runs, 1 loop each)\n"
     ]
    }
   ],
   "source": [
    "%%timeit\n",
    "count = 0\n",
    "for x in mylist:\n",
    "    if x < 10:\n",
    "        count += 1\n",
    "count/n"
   ]
  },
  {
   "cell_type": "code",
   "execution_count": 23,
   "id": "868b2a38",
   "metadata": {},
   "outputs": [
    {
     "name": "stdout",
     "output_type": "stream",
     "text": [
      "717 ms ± 69.4 ms per loop (mean ± std. dev. of 7 runs, 1 loop each)\n"
     ]
    }
   ],
   "source": [
    "%%timeit\n",
    "len([x for x in mylist if x < 10])"
   ]
  },
  {
   "cell_type": "code",
   "execution_count": 24,
   "id": "0a66b07a",
   "metadata": {},
   "outputs": [
    {
     "name": "stdout",
     "output_type": "stream",
     "text": [
      "5.13 ms ± 235 µs per loop (mean ± std. dev. of 7 runs, 100 loops each)\n"
     ]
    }
   ],
   "source": [
    "%%timeit\n",
    "np.count_nonzero(arr < 10)"
   ]
  },
  {
   "cell_type": "code",
   "execution_count": 25,
   "id": "7a632dc4",
   "metadata": {},
   "outputs": [],
   "source": [
    "arr = rng.integers(-50, 51, size=n)"
   ]
  },
  {
   "cell_type": "code",
   "execution_count": 27,
   "id": "a1ab22f2",
   "metadata": {},
   "outputs": [
    {
     "data": {
      "text/plain": [
       "0.5939019"
      ]
     },
     "execution_count": 27,
     "metadata": {},
     "output_type": "execute_result"
    }
   ],
   "source": [
    "np.count_nonzero(arr < 10)/n"
   ]
  },
  {
   "cell_type": "code",
   "execution_count": 28,
   "id": "6bf70392",
   "metadata": {},
   "outputs": [
    {
     "data": {
      "text/plain": [
       "0.594059405940594"
      ]
     },
     "execution_count": 28,
     "metadata": {},
     "output_type": "execute_result"
    }
   ],
   "source": [
    "60/101"
   ]
  },
  {
   "cell_type": "markdown",
   "id": "be6b1874",
   "metadata": {},
   "source": [
    "## Logic in Python and NumPy\n",
    "\n",
    "General rule of thumb:\n",
    "* In base Python, use `and`, `or`, `not`\n",
    "* In NumPy (or pandas), use `&`, `|`, `~` (tilde)"
   ]
  },
  {
   "cell_type": "code",
   "execution_count": 2,
   "id": "62cc51be",
   "metadata": {},
   "outputs": [],
   "source": [
    "rng = np.random.default_rng()\n",
    "n = 20\n",
    "\n",
    "arr = rng.integers(-50, 51, size=n)\n",
    "mylist = list(arr)"
   ]
  },
  {
   "cell_type": "code",
   "execution_count": 3,
   "id": "419eabf0",
   "metadata": {},
   "outputs": [
    {
     "data": {
      "text/plain": [
       "[-20,\n",
       " 17,\n",
       " -11,\n",
       " 29,\n",
       " -4,\n",
       " -50,\n",
       " 40,\n",
       " -36,\n",
       " 23,\n",
       " 24,\n",
       " -38,\n",
       " 37,\n",
       " 6,\n",
       " -32,\n",
       " -35,\n",
       " 2,\n",
       " 16,\n",
       " -32,\n",
       " -46,\n",
       " -47]"
      ]
     },
     "execution_count": 3,
     "metadata": {},
     "output_type": "execute_result"
    }
   ],
   "source": [
    "mylist"
   ]
  },
  {
   "cell_type": "markdown",
   "id": "b6604ff8",
   "metadata": {},
   "source": [
    "* Find all the entries in `arr` and in `mylist` that are strictly between -10 and 10."
   ]
  },
  {
   "cell_type": "code",
   "execution_count": 4,
   "id": "2f7e6d83",
   "metadata": {},
   "outputs": [
    {
     "data": {
      "text/plain": [
       "[-4, 6, 2]"
      ]
     },
     "execution_count": 4,
     "metadata": {},
     "output_type": "execute_result"
    }
   ],
   "source": [
    "[x for x in mylist if (x > -10) and (x < 10)]"
   ]
  },
  {
   "cell_type": "code",
   "execution_count": 6,
   "id": "b2a24267",
   "metadata": {},
   "outputs": [
    {
     "data": {
      "text/plain": [
       "[-4, 6, 2]"
      ]
     },
     "execution_count": 6,
     "metadata": {},
     "output_type": "execute_result"
    }
   ],
   "source": [
    "[x for x in mylist if not ((x <= -10) or (x >= 10))]"
   ]
  },
  {
   "cell_type": "code",
   "execution_count": 7,
   "id": "4712dc37",
   "metadata": {},
   "outputs": [
    {
     "data": {
      "text/plain": [
       "array([-20,  17, -11,  29,  -4, -50,  40, -36,  23,  24, -38,  37,   6,\n",
       "       -32, -35,   2,  16, -32, -46, -47])"
      ]
     },
     "execution_count": 7,
     "metadata": {},
     "output_type": "execute_result"
    }
   ],
   "source": [
    "arr"
   ]
  },
  {
   "cell_type": "code",
   "execution_count": 8,
   "id": "448c2b2d",
   "metadata": {},
   "outputs": [
    {
     "data": {
      "text/plain": [
       "array([False,  True, False,  True,  True, False,  True, False,  True,\n",
       "        True, False,  True,  True, False, False,  True,  True, False,\n",
       "       False, False])"
      ]
     },
     "execution_count": 8,
     "metadata": {},
     "output_type": "execute_result"
    }
   ],
   "source": [
    "arr > -10"
   ]
  },
  {
   "cell_type": "code",
   "execution_count": 9,
   "id": "48309359",
   "metadata": {},
   "outputs": [
    {
     "data": {
      "text/plain": [
       "array([ True, False,  True, False,  True,  True, False,  True, False,\n",
       "       False,  True, False,  True,  True,  True,  True, False,  True,\n",
       "        True,  True])"
      ]
     },
     "execution_count": 9,
     "metadata": {},
     "output_type": "execute_result"
    }
   ],
   "source": [
    "arr < 10"
   ]
  },
  {
   "cell_type": "code",
   "execution_count": 10,
   "id": "7c738709",
   "metadata": {},
   "outputs": [
    {
     "ename": "ValueError",
     "evalue": "The truth value of an array with more than one element is ambiguous. Use a.any() or a.all()",
     "output_type": "error",
     "traceback": [
      "\u001b[0;31m---------------------------------------------------------------------------\u001b[0m",
      "\u001b[0;31mValueError\u001b[0m                                Traceback (most recent call last)",
      "Input \u001b[0;32mIn [10]\u001b[0m, in \u001b[0;36m<cell line: 1>\u001b[0;34m()\u001b[0m\n\u001b[0;32m----> 1\u001b[0m (arr \u001b[38;5;241m>\u001b[39m \u001b[38;5;241m-\u001b[39m\u001b[38;5;241m10\u001b[39m) \u001b[38;5;129;01mand\u001b[39;00m (arr \u001b[38;5;241m<\u001b[39m \u001b[38;5;241m10\u001b[39m)\n",
      "\u001b[0;31mValueError\u001b[0m: The truth value of an array with more than one element is ambiguous. Use a.any() or a.all()"
     ]
    }
   ],
   "source": [
    "(arr > -10) and (arr < 10)"
   ]
  },
  {
   "cell_type": "code",
   "execution_count": 11,
   "id": "f3baf3f6",
   "metadata": {},
   "outputs": [
    {
     "data": {
      "text/plain": [
       "array([False, False, False, False,  True, False, False, False, False,\n",
       "       False, False, False,  True, False, False,  True, False, False,\n",
       "       False, False])"
      ]
     },
     "execution_count": 11,
     "metadata": {},
     "output_type": "execute_result"
    }
   ],
   "source": [
    "(arr > -10) & (arr < 10)"
   ]
  },
  {
   "cell_type": "code",
   "execution_count": 12,
   "id": "3cf163af",
   "metadata": {},
   "outputs": [
    {
     "data": {
      "text/plain": [
       "array([-4,  6,  2])"
      ]
     },
     "execution_count": 12,
     "metadata": {},
     "output_type": "execute_result"
    }
   ],
   "source": [
    "arr[(arr > -10) & (arr < 10)]"
   ]
  },
  {
   "cell_type": "code",
   "execution_count": 13,
   "id": "7cfde506",
   "metadata": {},
   "outputs": [
    {
     "data": {
      "text/plain": [
       "array([-4,  6,  2])"
      ]
     },
     "execution_count": 13,
     "metadata": {},
     "output_type": "execute_result"
    }
   ],
   "source": [
    "arr[(~(arr <= -10)) & (~(arr >= 10))]"
   ]
  },
  {
   "cell_type": "code",
   "execution_count": 14,
   "id": "41391c5b",
   "metadata": {},
   "outputs": [
    {
     "data": {
      "text/plain": [
       "array([-4,  6,  2])"
      ]
     },
     "execution_count": 14,
     "metadata": {},
     "output_type": "execute_result"
    }
   ],
   "source": [
    "arr[~((arr <= -10) | (arr >= 10))]"
   ]
  },
  {
   "cell_type": "markdown",
   "id": "85fed115",
   "metadata": {},
   "source": [
    "## The `axis` keyword argument"
   ]
  },
  {
   "cell_type": "markdown",
   "id": "e83bf744",
   "metadata": {},
   "source": [
    "* If you roll four distinct 6-sided dice, what is the probability that the biggest value is 5?"
   ]
  },
  {
   "cell_type": "code",
   "execution_count": 2,
   "id": "d3f247bc",
   "metadata": {},
   "outputs": [],
   "source": [
    "rng = np.random.default_rng()"
   ]
  },
  {
   "cell_type": "code",
   "execution_count": 3,
   "id": "cece30ac",
   "metadata": {},
   "outputs": [
    {
     "data": {
      "text/plain": [
       "array([4, 3, 5, 1])"
      ]
     },
     "execution_count": 3,
     "metadata": {},
     "output_type": "execute_result"
    }
   ],
   "source": [
    "rng.integers(1, 7, size=4)"
   ]
  },
  {
   "cell_type": "code",
   "execution_count": 4,
   "id": "eef89d7a",
   "metadata": {},
   "outputs": [
    {
     "data": {
      "text/plain": [
       "0.3"
      ]
     },
     "execution_count": 4,
     "metadata": {},
     "output_type": "execute_result"
    }
   ],
   "source": [
    "exps = 10\n",
    "s = 0\n",
    "\n",
    "for i in range(exps):\n",
    "    if np.max(rng.integers(1, 7, size=4)) == 5:\n",
    "        s += 1\n",
    "\n",
    "s/exps"
   ]
  },
  {
   "cell_type": "code",
   "execution_count": 5,
   "id": "e229055d",
   "metadata": {},
   "outputs": [
    {
     "name": "stdout",
     "output_type": "stream",
     "text": [
      "CPU times: user 13.7 s, sys: 164 ms, total: 13.9 s\n",
      "Wall time: 14.3 s\n"
     ]
    },
    {
     "data": {
      "text/plain": [
       "0.284671"
      ]
     },
     "execution_count": 5,
     "metadata": {},
     "output_type": "execute_result"
    }
   ],
   "source": [
    "%%time\n",
    "\n",
    "exps = 10**6\n",
    "s = 0\n",
    "\n",
    "for i in range(exps):\n",
    "    if np.max(rng.integers(1, 7, size=4)) == 5:\n",
    "        s += 1\n",
    "\n",
    "s/exps"
   ]
  },
  {
   "cell_type": "code",
   "execution_count": 6,
   "id": "a3ebc543",
   "metadata": {},
   "outputs": [
    {
     "data": {
      "text/plain": [
       "array([[1, 2, 3, 5],\n",
       "       [5, 6, 1, 4],\n",
       "       [2, 3, 4, 3],\n",
       "       [5, 5, 5, 4],\n",
       "       [4, 5, 4, 3],\n",
       "       [3, 3, 5, 1],\n",
       "       [6, 4, 2, 5],\n",
       "       [3, 2, 2, 4],\n",
       "       [3, 1, 5, 6],\n",
       "       [2, 3, 4, 2]])"
      ]
     },
     "execution_count": 6,
     "metadata": {},
     "output_type": "execute_result"
    }
   ],
   "source": [
    "exps = 10\n",
    "rng.integers(1, 7, size=(exps,4))"
   ]
  },
  {
   "cell_type": "code",
   "execution_count": 7,
   "id": "0b92c9df",
   "metadata": {},
   "outputs": [
    {
     "name": "stdout",
     "output_type": "stream",
     "text": [
      "[[1 4 5 1]\n",
      " [6 5 4 4]\n",
      " [2 1 3 3]\n",
      " [6 6 1 6]\n",
      " [6 6 6 6]\n",
      " [1 4 2 2]\n",
      " [4 1 3 3]\n",
      " [5 1 4 5]\n",
      " [3 5 3 5]\n",
      " [3 4 6 1]]\n"
     ]
    },
    {
     "data": {
      "text/plain": [
       "6"
      ]
     },
     "execution_count": 7,
     "metadata": {},
     "output_type": "execute_result"
    }
   ],
   "source": [
    "exps = 10\n",
    "arr = rng.integers(1, 7, size=(exps,4))\n",
    "print(arr)\n",
    "np.max(arr)"
   ]
  },
  {
   "cell_type": "code",
   "execution_count": 8,
   "id": "8bf7b2bd",
   "metadata": {},
   "outputs": [
    {
     "name": "stdout",
     "output_type": "stream",
     "text": [
      "Help on function apply_along_axis in module numpy:\n",
      "\n",
      "apply_along_axis(func1d, axis, arr, *args, **kwargs)\n",
      "    Apply a function to 1-D slices along the given axis.\n",
      "    \n",
      "    Execute `func1d(a, *args, **kwargs)` where `func1d` operates on 1-D arrays\n",
      "    and `a` is a 1-D slice of `arr` along `axis`.\n",
      "    \n",
      "    This is equivalent to (but faster than) the following use of `ndindex` and\n",
      "    `s_`, which sets each of ``ii``, ``jj``, and ``kk`` to a tuple of indices::\n",
      "    \n",
      "        Ni, Nk = a.shape[:axis], a.shape[axis+1:]\n",
      "        for ii in ndindex(Ni):\n",
      "            for kk in ndindex(Nk):\n",
      "                f = func1d(arr[ii + s_[:,] + kk])\n",
      "                Nj = f.shape\n",
      "                for jj in ndindex(Nj):\n",
      "                    out[ii + jj + kk] = f[jj]\n",
      "    \n",
      "    Equivalently, eliminating the inner loop, this can be expressed as::\n",
      "    \n",
      "        Ni, Nk = a.shape[:axis], a.shape[axis+1:]\n",
      "        for ii in ndindex(Ni):\n",
      "            for kk in ndindex(Nk):\n",
      "                out[ii + s_[...,] + kk] = func1d(arr[ii + s_[:,] + kk])\n",
      "    \n",
      "    Parameters\n",
      "    ----------\n",
      "    func1d : function (M,) -> (Nj...)\n",
      "        This function should accept 1-D arrays. It is applied to 1-D\n",
      "        slices of `arr` along the specified axis.\n",
      "    axis : integer\n",
      "        Axis along which `arr` is sliced.\n",
      "    arr : ndarray (Ni..., M, Nk...)\n",
      "        Input array.\n",
      "    args : any\n",
      "        Additional arguments to `func1d`.\n",
      "    kwargs : any\n",
      "        Additional named arguments to `func1d`.\n",
      "    \n",
      "        .. versionadded:: 1.9.0\n",
      "    \n",
      "    \n",
      "    Returns\n",
      "    -------\n",
      "    out : ndarray  (Ni..., Nj..., Nk...)\n",
      "        The output array. The shape of `out` is identical to the shape of\n",
      "        `arr`, except along the `axis` dimension. This axis is removed, and\n",
      "        replaced with new dimensions equal to the shape of the return value\n",
      "        of `func1d`. So if `func1d` returns a scalar `out` will have one\n",
      "        fewer dimensions than `arr`.\n",
      "    \n",
      "    See Also\n",
      "    --------\n",
      "    apply_over_axes : Apply a function repeatedly over multiple axes.\n",
      "    \n",
      "    Examples\n",
      "    --------\n",
      "    >>> def my_func(a):\n",
      "    ...     \"\"\"Average first and last element of a 1-D array\"\"\"\n",
      "    ...     return (a[0] + a[-1]) * 0.5\n",
      "    >>> b = np.array([[1,2,3], [4,5,6], [7,8,9]])\n",
      "    >>> np.apply_along_axis(my_func, 0, b)\n",
      "    array([4., 5., 6.])\n",
      "    >>> np.apply_along_axis(my_func, 1, b)\n",
      "    array([2.,  5.,  8.])\n",
      "    \n",
      "    For a function that returns a 1D array, the number of dimensions in\n",
      "    `outarr` is the same as `arr`.\n",
      "    \n",
      "    >>> b = np.array([[8,1,7], [4,3,9], [5,2,6]])\n",
      "    >>> np.apply_along_axis(sorted, 1, b)\n",
      "    array([[1, 7, 8],\n",
      "           [3, 4, 9],\n",
      "           [2, 5, 6]])\n",
      "    \n",
      "    For a function that returns a higher dimensional array, those dimensions\n",
      "    are inserted in place of the `axis` dimension.\n",
      "    \n",
      "    >>> b = np.array([[1,2,3], [4,5,6], [7,8,9]])\n",
      "    >>> np.apply_along_axis(np.diag, -1, b)\n",
      "    array([[[1, 0, 0],\n",
      "            [0, 2, 0],\n",
      "            [0, 0, 3]],\n",
      "           [[4, 0, 0],\n",
      "            [0, 5, 0],\n",
      "            [0, 0, 6]],\n",
      "           [[7, 0, 0],\n",
      "            [0, 8, 0],\n",
      "            [0, 0, 9]]])\n",
      "\n"
     ]
    }
   ],
   "source": [
    "help(np.apply_along_axis)"
   ]
  },
  {
   "cell_type": "code",
   "execution_count": 9,
   "id": "b59e6bfd",
   "metadata": {},
   "outputs": [
    {
     "data": {
      "text/plain": [
       "array([[1, 4, 5, 1],\n",
       "       [6, 5, 4, 4],\n",
       "       [2, 1, 3, 3],\n",
       "       [6, 6, 1, 6],\n",
       "       [6, 6, 6, 6],\n",
       "       [1, 4, 2, 2],\n",
       "       [4, 1, 3, 3],\n",
       "       [5, 1, 4, 5],\n",
       "       [3, 5, 3, 5],\n",
       "       [3, 4, 6, 1]])"
      ]
     },
     "execution_count": 9,
     "metadata": {},
     "output_type": "execute_result"
    }
   ],
   "source": [
    "arr"
   ]
  },
  {
   "cell_type": "code",
   "execution_count": 10,
   "id": "dda705aa",
   "metadata": {},
   "outputs": [
    {
     "data": {
      "text/plain": [
       "array([5, 6, 3, 6, 6, 4, 4, 5, 5, 6])"
      ]
     },
     "execution_count": 10,
     "metadata": {},
     "output_type": "execute_result"
    }
   ],
   "source": [
    "np.apply_along_axis(np.max, axis=1, arr=arr)"
   ]
  },
  {
   "cell_type": "code",
   "execution_count": 11,
   "id": "92f32bdd",
   "metadata": {},
   "outputs": [
    {
     "data": {
      "text/plain": [
       "array([6, 6, 6, 6])"
      ]
     },
     "execution_count": 11,
     "metadata": {},
     "output_type": "execute_result"
    }
   ],
   "source": [
    "np.apply_along_axis(np.max, axis=0, arr=arr)"
   ]
  },
  {
   "cell_type": "code",
   "execution_count": 14,
   "id": "c50cb4d8",
   "metadata": {},
   "outputs": [
    {
     "data": {
      "text/plain": [
       "0.284891"
      ]
     },
     "execution_count": 14,
     "metadata": {},
     "output_type": "execute_result"
    }
   ],
   "source": [
    "exps = 10**6\n",
    "\n",
    "arr = rng.integers(1, 7, size=(exps,4))\n",
    "(np.apply_along_axis(np.max, axis=1, arr=arr) == 5).mean()"
   ]
  },
  {
   "cell_type": "code",
   "execution_count": 15,
   "id": "b2e717c4",
   "metadata": {},
   "outputs": [
    {
     "name": "stdout",
     "output_type": "stream",
     "text": [
      "CPU times: user 5.27 s, sys: 82.5 ms, total: 5.36 s\n",
      "Wall time: 5.5 s\n"
     ]
    },
    {
     "data": {
      "text/plain": [
       "0.284142"
      ]
     },
     "execution_count": 15,
     "metadata": {},
     "output_type": "execute_result"
    }
   ],
   "source": [
    "%%time\n",
    "\n",
    "exps = 10**6\n",
    "\n",
    "arr = rng.integers(1, 7, size=(exps,4))\n",
    "(np.apply_along_axis(np.max, axis=1, arr=arr) == 5).mean()"
   ]
  },
  {
   "cell_type": "code",
   "execution_count": 17,
   "id": "8088f24a",
   "metadata": {},
   "outputs": [
    {
     "name": "stdout",
     "output_type": "stream",
     "text": [
      "[[6 6 5 6]\n",
      " [5 1 5 5]\n",
      " [4 5 4 5]\n",
      " [1 3 2 3]\n",
      " [2 4 5 6]\n",
      " [1 1 1 5]\n",
      " [1 2 1 3]\n",
      " [2 5 6 1]\n",
      " [5 6 1 1]\n",
      " [2 1 2 6]]\n"
     ]
    },
    {
     "data": {
      "text/plain": [
       "6"
      ]
     },
     "execution_count": 17,
     "metadata": {},
     "output_type": "execute_result"
    }
   ],
   "source": [
    "exps = 10\n",
    "\n",
    "arr = rng.integers(1, 7, size=(exps,4))\n",
    "print(arr)\n",
    "arr.max()"
   ]
  },
  {
   "cell_type": "code",
   "execution_count": 18,
   "id": "2a7a62c3",
   "metadata": {},
   "outputs": [
    {
     "name": "stdout",
     "output_type": "stream",
     "text": [
      "Help on built-in function max:\n",
      "\n",
      "max(...) method of numpy.ndarray instance\n",
      "    a.max(axis=None, out=None, keepdims=False, initial=<no value>, where=True)\n",
      "    \n",
      "    Return the maximum along a given axis.\n",
      "    \n",
      "    Refer to `numpy.amax` for full documentation.\n",
      "    \n",
      "    See Also\n",
      "    --------\n",
      "    numpy.amax : equivalent function\n",
      "\n"
     ]
    }
   ],
   "source": [
    "help(arr.max)"
   ]
  },
  {
   "cell_type": "code",
   "execution_count": 19,
   "id": "bea06d32",
   "metadata": {},
   "outputs": [
    {
     "name": "stdout",
     "output_type": "stream",
     "text": [
      "[[5 3 6 4]\n",
      " [6 3 1 1]\n",
      " [6 6 1 5]\n",
      " [1 6 6 2]\n",
      " [5 6 4 6]\n",
      " [3 1 5 2]\n",
      " [1 3 5 1]\n",
      " [6 2 4 2]\n",
      " [6 1 1 3]\n",
      " [2 6 1 5]]\n"
     ]
    },
    {
     "data": {
      "text/plain": [
       "array([6, 6, 6, 6, 6, 5, 5, 6, 6, 6])"
      ]
     },
     "execution_count": 19,
     "metadata": {},
     "output_type": "execute_result"
    }
   ],
   "source": [
    "exps = 10\n",
    "\n",
    "arr = rng.integers(1, 7, size=(exps,4))\n",
    "print(arr)\n",
    "arr.max(axis=1)"
   ]
  },
  {
   "cell_type": "code",
   "execution_count": 20,
   "id": "98ae66da",
   "metadata": {},
   "outputs": [
    {
     "data": {
      "text/plain": [
       "array([ True, False, False, False, False, False,  True,  True, False,\n",
       "        True])"
      ]
     },
     "execution_count": 20,
     "metadata": {},
     "output_type": "execute_result"
    }
   ],
   "source": [
    "exps = 10\n",
    "\n",
    "arr = rng.integers(1, 7, size=(exps,4))\n",
    "(arr.max(axis=1) == 5)"
   ]
  },
  {
   "cell_type": "code",
   "execution_count": 21,
   "id": "d7aa815b",
   "metadata": {},
   "outputs": [
    {
     "ename": "AxisError",
     "evalue": "axis 1 is out of bounds for array of dimension 1",
     "output_type": "error",
     "traceback": [
      "\u001b[0;31m---------------------------------------------------------------------------\u001b[0m",
      "\u001b[0;31mAxisError\u001b[0m                                 Traceback (most recent call last)",
      "Input \u001b[0;32mIn [21]\u001b[0m, in \u001b[0;36m<cell line: 4>\u001b[0;34m()\u001b[0m\n\u001b[1;32m      1\u001b[0m exps \u001b[38;5;241m=\u001b[39m \u001b[38;5;241m10\u001b[39m\n\u001b[1;32m      3\u001b[0m arr \u001b[38;5;241m=\u001b[39m rng\u001b[38;5;241m.\u001b[39mintegers(\u001b[38;5;241m1\u001b[39m, \u001b[38;5;241m7\u001b[39m, size\u001b[38;5;241m=\u001b[39m(exps,\u001b[38;5;241m4\u001b[39m))\n\u001b[0;32m----> 4\u001b[0m \u001b[43m(\u001b[49m\u001b[43marr\u001b[49m\u001b[38;5;241;43m.\u001b[39;49m\u001b[43mmax\u001b[49m\u001b[43m(\u001b[49m\u001b[43maxis\u001b[49m\u001b[38;5;241;43m=\u001b[39;49m\u001b[38;5;241;43m1\u001b[39;49m\u001b[43m)\u001b[49m\u001b[43m \u001b[49m\u001b[38;5;241;43m==\u001b[39;49m\u001b[43m \u001b[49m\u001b[38;5;241;43m5\u001b[39;49m\u001b[43m)\u001b[49m\u001b[38;5;241;43m.\u001b[39;49m\u001b[43mmean\u001b[49m\u001b[43m(\u001b[49m\u001b[43maxis\u001b[49m\u001b[38;5;241;43m=\u001b[39;49m\u001b[38;5;241;43m1\u001b[39;49m\u001b[43m)\u001b[49m\n",
      "File \u001b[0;32m~/miniconda3/envs/math9f22/lib/python3.10/site-packages/numpy/core/_methods.py:168\u001b[0m, in \u001b[0;36m_mean\u001b[0;34m(a, axis, dtype, out, keepdims, where)\u001b[0m\n\u001b[1;32m    164\u001b[0m arr \u001b[38;5;241m=\u001b[39m asanyarray(a)\n\u001b[1;32m    166\u001b[0m is_float16_result \u001b[38;5;241m=\u001b[39m \u001b[38;5;28;01mFalse\u001b[39;00m\n\u001b[0;32m--> 168\u001b[0m rcount \u001b[38;5;241m=\u001b[39m \u001b[43m_count_reduce_items\u001b[49m\u001b[43m(\u001b[49m\u001b[43marr\u001b[49m\u001b[43m,\u001b[49m\u001b[43m \u001b[49m\u001b[43maxis\u001b[49m\u001b[43m,\u001b[49m\u001b[43m \u001b[49m\u001b[43mkeepdims\u001b[49m\u001b[38;5;241;43m=\u001b[39;49m\u001b[43mkeepdims\u001b[49m\u001b[43m,\u001b[49m\u001b[43m \u001b[49m\u001b[43mwhere\u001b[49m\u001b[38;5;241;43m=\u001b[39;49m\u001b[43mwhere\u001b[49m\u001b[43m)\u001b[49m\n\u001b[1;32m    169\u001b[0m \u001b[38;5;28;01mif\u001b[39;00m rcount \u001b[38;5;241m==\u001b[39m \u001b[38;5;241m0\u001b[39m \u001b[38;5;28;01mif\u001b[39;00m where \u001b[38;5;129;01mis\u001b[39;00m \u001b[38;5;28;01mTrue\u001b[39;00m \u001b[38;5;28;01melse\u001b[39;00m umr_any(rcount \u001b[38;5;241m==\u001b[39m \u001b[38;5;241m0\u001b[39m, axis\u001b[38;5;241m=\u001b[39m\u001b[38;5;28;01mNone\u001b[39;00m):\n\u001b[1;32m    170\u001b[0m     warnings\u001b[38;5;241m.\u001b[39mwarn(\u001b[38;5;124m\"\u001b[39m\u001b[38;5;124mMean of empty slice.\u001b[39m\u001b[38;5;124m\"\u001b[39m, \u001b[38;5;167;01mRuntimeWarning\u001b[39;00m, stacklevel\u001b[38;5;241m=\u001b[39m\u001b[38;5;241m2\u001b[39m)\n",
      "File \u001b[0;32m~/miniconda3/envs/math9f22/lib/python3.10/site-packages/numpy/core/_methods.py:76\u001b[0m, in \u001b[0;36m_count_reduce_items\u001b[0;34m(arr, axis, keepdims, where)\u001b[0m\n\u001b[1;32m     74\u001b[0m     items \u001b[38;5;241m=\u001b[39m \u001b[38;5;241m1\u001b[39m\n\u001b[1;32m     75\u001b[0m     \u001b[38;5;28;01mfor\u001b[39;00m ax \u001b[38;5;129;01min\u001b[39;00m axis:\n\u001b[0;32m---> 76\u001b[0m         items \u001b[38;5;241m*\u001b[39m\u001b[38;5;241m=\u001b[39m arr\u001b[38;5;241m.\u001b[39mshape[\u001b[43mmu\u001b[49m\u001b[38;5;241;43m.\u001b[39;49m\u001b[43mnormalize_axis_index\u001b[49m\u001b[43m(\u001b[49m\u001b[43max\u001b[49m\u001b[43m,\u001b[49m\u001b[43m \u001b[49m\u001b[43marr\u001b[49m\u001b[38;5;241;43m.\u001b[39;49m\u001b[43mndim\u001b[49m\u001b[43m)\u001b[49m]\n\u001b[1;32m     77\u001b[0m     items \u001b[38;5;241m=\u001b[39m nt\u001b[38;5;241m.\u001b[39mintp(items)\n\u001b[1;32m     78\u001b[0m \u001b[38;5;28;01melse\u001b[39;00m:\n\u001b[1;32m     79\u001b[0m     \u001b[38;5;66;03m# TODO: Optimize case when `where` is broadcast along a non-reduction\u001b[39;00m\n\u001b[1;32m     80\u001b[0m     \u001b[38;5;66;03m# axis and full sum is more excessive than needed.\u001b[39;00m\n\u001b[1;32m     81\u001b[0m \n\u001b[1;32m     82\u001b[0m     \u001b[38;5;66;03m# guarded to protect circular imports\u001b[39;00m\n",
      "\u001b[0;31mAxisError\u001b[0m: axis 1 is out of bounds for array of dimension 1"
     ]
    }
   ],
   "source": [
    "exps = 10\n",
    "\n",
    "arr = rng.integers(1, 7, size=(exps,4))\n",
    "(arr.max(axis=1) == 5).mean(axis=1)"
   ]
  },
  {
   "cell_type": "code",
   "execution_count": 22,
   "id": "0ec159ff",
   "metadata": {},
   "outputs": [
    {
     "data": {
      "text/plain": [
       "0.4"
      ]
     },
     "execution_count": 22,
     "metadata": {},
     "output_type": "execute_result"
    }
   ],
   "source": [
    "exps = 10\n",
    "\n",
    "arr = rng.integers(1, 7, size=(exps,4))\n",
    "(arr.max(axis=1) == 5).mean(axis=0)"
   ]
  },
  {
   "cell_type": "code",
   "execution_count": 24,
   "id": "8953c35f",
   "metadata": {},
   "outputs": [
    {
     "data": {
      "text/plain": [
       "0.285484"
      ]
     },
     "execution_count": 24,
     "metadata": {},
     "output_type": "execute_result"
    }
   ],
   "source": [
    "exps = 10**6\n",
    "\n",
    "arr = rng.integers(1, 7, size=(exps,4))\n",
    "(arr.max(axis=1) == 5).mean()"
   ]
  },
  {
   "cell_type": "code",
   "execution_count": 25,
   "id": "045516c3",
   "metadata": {},
   "outputs": [
    {
     "name": "stdout",
     "output_type": "stream",
     "text": [
      "CPU times: user 46.5 ms, sys: 5.92 ms, total: 52.4 ms\n",
      "Wall time: 51.3 ms\n"
     ]
    },
    {
     "data": {
      "text/plain": [
       "0.284911"
      ]
     },
     "execution_count": 25,
     "metadata": {},
     "output_type": "execute_result"
    }
   ],
   "source": [
    "%%time\n",
    "exps = 10**6\n",
    "\n",
    "arr = rng.integers(1, 7, size=(exps,4))\n",
    "(arr.max(axis=1) == 5).mean()"
   ]
  },
  {
   "cell_type": "markdown",
   "id": "be2fcd62",
   "metadata": {},
   "source": [
    "## An exact probability"
   ]
  },
  {
   "cell_type": "markdown",
   "id": "303e23b9",
   "metadata": {},
   "source": [
    "The same question as last time, but now we will compute the exact probability.\n",
    "\n",
    "* If you roll four distinct 6-sided dice, what is the probability that the biggest value is 5?"
   ]
  },
  {
   "cell_type": "code",
   "execution_count": 2,
   "id": "f57e9d43",
   "metadata": {},
   "outputs": [
    {
     "data": {
      "text/plain": [
       "1296"
      ]
     },
     "execution_count": 2,
     "metadata": {},
     "output_type": "execute_result"
    }
   ],
   "source": [
    "6**4"
   ]
  },
  {
   "cell_type": "code",
   "execution_count": 3,
   "id": "b0c41c76",
   "metadata": {},
   "outputs": [],
   "source": [
    "all_dice = []\n",
    "for i in range(1,7):\n",
    "    for j in range(1,7):\n",
    "        for k in range(1,7):\n",
    "            for l in range(1,7):\n",
    "                all_dice.append((i,j,k,l))"
   ]
  },
  {
   "cell_type": "code",
   "execution_count": 4,
   "id": "810ed869",
   "metadata": {},
   "outputs": [
    {
     "data": {
      "text/plain": [
       "1296"
      ]
     },
     "execution_count": 4,
     "metadata": {},
     "output_type": "execute_result"
    }
   ],
   "source": [
    "len(all_dice)"
   ]
  },
  {
   "cell_type": "code",
   "execution_count": 5,
   "id": "fd5d12ac",
   "metadata": {},
   "outputs": [
    {
     "data": {
      "text/plain": [
       "[(1, 1, 1, 1),\n",
       " (1, 1, 1, 2),\n",
       " (1, 1, 1, 3),\n",
       " (1, 1, 1, 4),\n",
       " (1, 1, 1, 5),\n",
       " (1, 1, 1, 6),\n",
       " (1, 1, 2, 1),\n",
       " (1, 1, 2, 2),\n",
       " (1, 1, 2, 3),\n",
       " (1, 1, 2, 4)]"
      ]
     },
     "execution_count": 5,
     "metadata": {},
     "output_type": "execute_result"
    }
   ],
   "source": [
    "all_dice[:10]"
   ]
  },
  {
   "cell_type": "code",
   "execution_count": 6,
   "id": "bf7b0e4b",
   "metadata": {},
   "outputs": [],
   "source": [
    "from itertools import product"
   ]
  },
  {
   "cell_type": "code",
   "execution_count": 7,
   "id": "1fddd214",
   "metadata": {},
   "outputs": [
    {
     "name": "stdout",
     "output_type": "stream",
     "text": [
      "Help on class product in module itertools:\n",
      "\n",
      "class product(builtins.object)\n",
      " |  product(*iterables, repeat=1) --> product object\n",
      " |  \n",
      " |  Cartesian product of input iterables.  Equivalent to nested for-loops.\n",
      " |  \n",
      " |  For example, product(A, B) returns the same as:  ((x,y) for x in A for y in B).\n",
      " |  The leftmost iterators are in the outermost for-loop, so the output tuples\n",
      " |  cycle in a manner similar to an odometer (with the rightmost element changing\n",
      " |  on every iteration).\n",
      " |  \n",
      " |  To compute the product of an iterable with itself, specify the number\n",
      " |  of repetitions with the optional repeat keyword argument. For example,\n",
      " |  product(A, repeat=4) means the same as product(A, A, A, A).\n",
      " |  \n",
      " |  product('ab', range(3)) --> ('a',0) ('a',1) ('a',2) ('b',0) ('b',1) ('b',2)\n",
      " |  product((0,1), (0,1), (0,1)) --> (0,0,0) (0,0,1) (0,1,0) (0,1,1) (1,0,0) ...\n",
      " |  \n",
      " |  Methods defined here:\n",
      " |  \n",
      " |  __getattribute__(self, name, /)\n",
      " |      Return getattr(self, name).\n",
      " |  \n",
      " |  __iter__(self, /)\n",
      " |      Implement iter(self).\n",
      " |  \n",
      " |  __next__(self, /)\n",
      " |      Implement next(self).\n",
      " |  \n",
      " |  __reduce__(...)\n",
      " |      Return state information for pickling.\n",
      " |  \n",
      " |  __setstate__(...)\n",
      " |      Set state information for unpickling.\n",
      " |  \n",
      " |  __sizeof__(...)\n",
      " |      Returns size in memory, in bytes.\n",
      " |  \n",
      " |  ----------------------------------------------------------------------\n",
      " |  Static methods defined here:\n",
      " |  \n",
      " |  __new__(*args, **kwargs) from builtins.type\n",
      " |      Create and return a new object.  See help(type) for accurate signature.\n",
      "\n"
     ]
    }
   ],
   "source": [
    "help(product)"
   ]
  },
  {
   "cell_type": "code",
   "execution_count": 8,
   "id": "c3b06347",
   "metadata": {},
   "outputs": [
    {
     "data": {
      "text/plain": [
       "<itertools.product at 0x112cd4900>"
      ]
     },
     "execution_count": 8,
     "metadata": {},
     "output_type": "execute_result"
    }
   ],
   "source": [
    "product(range(1,7), repeat=2)"
   ]
  },
  {
   "cell_type": "code",
   "execution_count": 9,
   "id": "03407440",
   "metadata": {},
   "outputs": [
    {
     "data": {
      "text/plain": [
       "[(1, 1),\n",
       " (1, 2),\n",
       " (1, 3),\n",
       " (1, 4),\n",
       " (1, 5),\n",
       " (1, 6),\n",
       " (2, 1),\n",
       " (2, 2),\n",
       " (2, 3),\n",
       " (2, 4),\n",
       " (2, 5),\n",
       " (2, 6),\n",
       " (3, 1),\n",
       " (3, 2),\n",
       " (3, 3),\n",
       " (3, 4),\n",
       " (3, 5),\n",
       " (3, 6),\n",
       " (4, 1),\n",
       " (4, 2),\n",
       " (4, 3),\n",
       " (4, 4),\n",
       " (4, 5),\n",
       " (4, 6),\n",
       " (5, 1),\n",
       " (5, 2),\n",
       " (5, 3),\n",
       " (5, 4),\n",
       " (5, 5),\n",
       " (5, 6),\n",
       " (6, 1),\n",
       " (6, 2),\n",
       " (6, 3),\n",
       " (6, 4),\n",
       " (6, 5),\n",
       " (6, 6)]"
      ]
     },
     "execution_count": 9,
     "metadata": {},
     "output_type": "execute_result"
    }
   ],
   "source": [
    "list(product(range(1,7), repeat=2))"
   ]
  },
  {
   "cell_type": "code",
   "execution_count": 10,
   "id": "1e7b352f",
   "metadata": {},
   "outputs": [
    {
     "data": {
      "text/plain": [
       "[('a', 5), ('a', 6), ('b', 5), ('b', 6), ('c', 5), ('c', 6)]"
      ]
     },
     "execution_count": 10,
     "metadata": {},
     "output_type": "execute_result"
    }
   ],
   "source": [
    "list(product([\"a\",\"b\",\"c\"], [5, 6]))"
   ]
  },
  {
   "cell_type": "code",
   "execution_count": 12,
   "id": "a89127ca",
   "metadata": {},
   "outputs": [
    {
     "data": {
      "text/plain": [
       "[('a', 'a', 'a'),\n",
       " ('a', 'a', 'b'),\n",
       " ('a', 'a', 'c'),\n",
       " ('a', 'b', 'a'),\n",
       " ('a', 'b', 'b'),\n",
       " ('a', 'b', 'c'),\n",
       " ('a', 'c', 'a'),\n",
       " ('a', 'c', 'b'),\n",
       " ('a', 'c', 'c'),\n",
       " ('b', 'a', 'a'),\n",
       " ('b', 'a', 'b'),\n",
       " ('b', 'a', 'c'),\n",
       " ('b', 'b', 'a'),\n",
       " ('b', 'b', 'b'),\n",
       " ('b', 'b', 'c'),\n",
       " ('b', 'c', 'a'),\n",
       " ('b', 'c', 'b'),\n",
       " ('b', 'c', 'c'),\n",
       " ('c', 'a', 'a'),\n",
       " ('c', 'a', 'b'),\n",
       " ('c', 'a', 'c'),\n",
       " ('c', 'b', 'a'),\n",
       " ('c', 'b', 'b'),\n",
       " ('c', 'b', 'c'),\n",
       " ('c', 'c', 'a'),\n",
       " ('c', 'c', 'b'),\n",
       " ('c', 'c', 'c')]"
      ]
     },
     "execution_count": 12,
     "metadata": {},
     "output_type": "execute_result"
    }
   ],
   "source": [
    "list(product([\"a\",\"b\",\"c\"], repeat=3))"
   ]
  },
  {
   "cell_type": "code",
   "execution_count": 13,
   "id": "1c915af1",
   "metadata": {},
   "outputs": [
    {
     "data": {
      "text/plain": [
       "[('a', 'a', 'a'),\n",
       " ('a', 'a', 'b'),\n",
       " ('a', 'a', 'c'),\n",
       " ('a', 'b', 'a'),\n",
       " ('a', 'b', 'b'),\n",
       " ('a', 'b', 'c'),\n",
       " ('a', 'c', 'a'),\n",
       " ('a', 'c', 'b'),\n",
       " ('a', 'c', 'c'),\n",
       " ('b', 'a', 'a'),\n",
       " ('b', 'a', 'b'),\n",
       " ('b', 'a', 'c'),\n",
       " ('b', 'b', 'a'),\n",
       " ('b', 'b', 'b'),\n",
       " ('b', 'b', 'c'),\n",
       " ('b', 'c', 'a'),\n",
       " ('b', 'c', 'b'),\n",
       " ('b', 'c', 'c'),\n",
       " ('c', 'a', 'a'),\n",
       " ('c', 'a', 'b'),\n",
       " ('c', 'a', 'c'),\n",
       " ('c', 'b', 'a'),\n",
       " ('c', 'b', 'b'),\n",
       " ('c', 'b', 'c'),\n",
       " ('c', 'c', 'a'),\n",
       " ('c', 'c', 'b'),\n",
       " ('c', 'c', 'c')]"
      ]
     },
     "execution_count": 13,
     "metadata": {},
     "output_type": "execute_result"
    }
   ],
   "source": [
    "list(product([\"a\",\"b\",\"c\"], [\"a\",\"b\",\"c\"], [\"a\",\"b\",\"c\"]))"
   ]
  },
  {
   "cell_type": "code",
   "execution_count": 14,
   "id": "40dd3019",
   "metadata": {},
   "outputs": [],
   "source": [
    "temp_list = list(product(range(1,7), repeat=4))"
   ]
  },
  {
   "cell_type": "code",
   "execution_count": 15,
   "id": "4da6ad59",
   "metadata": {},
   "outputs": [
    {
     "data": {
      "text/plain": [
       "1296"
      ]
     },
     "execution_count": 15,
     "metadata": {},
     "output_type": "execute_result"
    }
   ],
   "source": [
    "len(temp_list)"
   ]
  },
  {
   "cell_type": "code",
   "execution_count": 16,
   "id": "c86068dc",
   "metadata": {},
   "outputs": [],
   "source": [
    "arr = np.array(temp_list)"
   ]
  },
  {
   "cell_type": "code",
   "execution_count": 17,
   "id": "1955c6cc",
   "metadata": {},
   "outputs": [
    {
     "data": {
      "text/plain": [
       "(1296, 4)"
      ]
     },
     "execution_count": 17,
     "metadata": {},
     "output_type": "execute_result"
    }
   ],
   "source": [
    "arr.shape"
   ]
  },
  {
   "cell_type": "code",
   "execution_count": 19,
   "id": "9dcb7691",
   "metadata": {},
   "outputs": [
    {
     "data": {
      "text/plain": [
       "0.2847222222222222"
      ]
     },
     "execution_count": 19,
     "metadata": {},
     "output_type": "execute_result"
    }
   ],
   "source": [
    "(arr.max(axis=1) == 5).sum()/arr.shape[0]"
   ]
  },
  {
   "cell_type": "code",
   "execution_count": 20,
   "id": "01bd7a0c",
   "metadata": {},
   "outputs": [
    {
     "data": {
      "text/plain": [
       "0.2847222222222222"
      ]
     },
     "execution_count": 20,
     "metadata": {},
     "output_type": "execute_result"
    }
   ],
   "source": [
    "(arr.max(axis=1) == 5).mean()"
   ]
  },
  {
   "cell_type": "code",
   "execution_count": 21,
   "id": "a030e55e",
   "metadata": {},
   "outputs": [
    {
     "data": {
      "text/plain": [
       "0.2847222222222223"
      ]
     },
     "execution_count": 21,
     "metadata": {},
     "output_type": "execute_result"
    }
   ],
   "source": [
    "(5/6)**4-(4/6)**4"
   ]
  },
  {
   "cell_type": "markdown",
   "id": "1bc77440",
   "metadata": {},
   "source": [
    "## `any` and `all`\n",
    "\n",
    "Make a 100 row, 4 column NumPy array `arr` of random real numbers between 0 and 1."
   ]
  },
  {
   "cell_type": "code",
   "execution_count": 2,
   "id": "02705721",
   "metadata": {},
   "outputs": [],
   "source": [
    "rng = np.random.default_rng()"
   ]
  },
  {
   "cell_type": "code",
   "execution_count": 4,
   "id": "15b70a08",
   "metadata": {},
   "outputs": [],
   "source": [
    "arr = rng.random(size=(100,4))"
   ]
  },
  {
   "cell_type": "markdown",
   "id": "15951c21",
   "metadata": {},
   "source": [
    "* Find the sub-array of `arr` containing all rows in which at least one number is bigger than 0.9."
   ]
  },
  {
   "cell_type": "code",
   "execution_count": 6,
   "id": "d94d6cf3",
   "metadata": {},
   "outputs": [
    {
     "data": {
      "text/plain": [
       "array([[0.02679582, 0.39964722, 0.38608334, 0.9557704 ],\n",
       "       [0.62903247, 0.17981028, 0.48643802, 0.16059557],\n",
       "       [0.49612872, 0.34270062, 0.00862007, 0.77873829],\n",
       "       [0.55550408, 0.37485681, 0.20417908, 0.82782464],\n",
       "       [0.51663663, 0.85479878, 0.48625127, 0.88475327]])"
      ]
     },
     "execution_count": 6,
     "metadata": {},
     "output_type": "execute_result"
    }
   ],
   "source": [
    "arr[:5]"
   ]
  },
  {
   "cell_type": "code",
   "execution_count": 7,
   "id": "8a5b4af5",
   "metadata": {},
   "outputs": [
    {
     "data": {
      "text/plain": [
       "array([[False, False, False,  True],\n",
       "       [False, False, False, False],\n",
       "       [False, False, False, False],\n",
       "       [False, False, False, False],\n",
       "       [False, False, False, False]])"
      ]
     },
     "execution_count": 7,
     "metadata": {},
     "output_type": "execute_result"
    }
   ],
   "source": [
    "arr[:5] > 0.9"
   ]
  },
  {
   "cell_type": "code",
   "execution_count": 8,
   "id": "59202760",
   "metadata": {},
   "outputs": [
    {
     "data": {
      "text/plain": [
       "array([ True, False, False, False, False])"
      ]
     },
     "execution_count": 8,
     "metadata": {},
     "output_type": "execute_result"
    }
   ],
   "source": [
    "(arr[:5] > 0.9).any(axis=1)"
   ]
  },
  {
   "cell_type": "code",
   "execution_count": 9,
   "id": "f7afaef9",
   "metadata": {},
   "outputs": [
    {
     "data": {
      "text/plain": [
       "1"
      ]
     },
     "execution_count": 9,
     "metadata": {},
     "output_type": "execute_result"
    }
   ],
   "source": [
    "(arr[:5] > 0.9).any(axis=1).sum()"
   ]
  },
  {
   "cell_type": "code",
   "execution_count": 10,
   "id": "c85609c7",
   "metadata": {},
   "outputs": [
    {
     "data": {
      "text/plain": [
       "array([[0.02679582, 0.39964722, 0.38608334, 0.9557704 ]])"
      ]
     },
     "execution_count": 10,
     "metadata": {},
     "output_type": "execute_result"
    }
   ],
   "source": [
    "arr[:5][(arr[:5] > 0.9).any(axis=1)]"
   ]
  },
  {
   "cell_type": "code",
   "execution_count": 11,
   "id": "fe77d279",
   "metadata": {},
   "outputs": [
    {
     "data": {
      "text/plain": [
       "array([[0.02679582, 0.39964722, 0.38608334, 0.9557704 ],\n",
       "       [0.89128322, 0.97335335, 0.1821295 , 0.52423414],\n",
       "       [0.4629412 , 0.71844233, 0.91362938, 0.04770196],\n",
       "       [0.61030793, 0.15565872, 0.15616296, 0.9572168 ],\n",
       "       [0.45523301, 0.85912337, 0.34660356, 0.91882733],\n",
       "       [0.14055923, 0.86443333, 0.95413845, 0.94380163],\n",
       "       [0.07850217, 0.96370185, 0.21801727, 0.22118187],\n",
       "       [0.10730651, 0.56976149, 0.95367251, 0.7782287 ],\n",
       "       [0.95705318, 0.11012904, 0.1380347 , 0.67057015],\n",
       "       [0.95930433, 0.06501316, 0.67658178, 0.20159313],\n",
       "       [0.2457492 , 0.67240127, 0.94358665, 0.90993476],\n",
       "       [0.37975889, 0.92498652, 0.99327127, 0.7283782 ],\n",
       "       [0.37093209, 0.45237422, 0.91160131, 0.96612184],\n",
       "       [0.52254037, 0.19969189, 0.94795525, 0.15420271],\n",
       "       [0.90339743, 0.59821255, 0.62045249, 0.54939576],\n",
       "       [0.48895101, 0.52105202, 0.96297772, 0.45230437],\n",
       "       [0.35246537, 0.32415082, 0.86599985, 0.98355888],\n",
       "       [0.32443071, 0.94130683, 0.86154932, 0.95131523],\n",
       "       [0.28175352, 0.71585491, 0.91062862, 0.47574106],\n",
       "       [0.75785393, 0.97896958, 0.89668326, 0.81597407],\n",
       "       [0.42821129, 0.43666654, 0.92245681, 0.6772787 ],\n",
       "       [0.69686621, 0.34335879, 0.91188883, 0.73999112],\n",
       "       [0.02840598, 0.96355532, 0.72067752, 0.77935551],\n",
       "       [0.85410091, 0.06666216, 0.66487804, 0.93493077],\n",
       "       [0.13820849, 0.59467061, 0.90928252, 0.64484179],\n",
       "       [0.08076356, 0.54348621, 0.97440544, 0.7990639 ],\n",
       "       [0.90641341, 0.55333912, 0.33929642, 0.77887452],\n",
       "       [0.77605269, 0.45487112, 0.79606863, 0.90207317],\n",
       "       [0.83243102, 0.34853769, 0.48317369, 0.99294516],\n",
       "       [0.72748438, 0.95781736, 0.85863108, 0.78340871],\n",
       "       [0.71794935, 0.97886636, 0.51022616, 0.41182274],\n",
       "       [0.00766348, 0.94589262, 0.94978998, 0.86756495],\n",
       "       [0.97386912, 0.84335624, 0.54012798, 0.47553105],\n",
       "       [0.91223874, 0.48230536, 0.43958204, 0.51024251],\n",
       "       [0.29992039, 0.89336646, 0.95530599, 0.90846783],\n",
       "       [0.96276511, 0.46449629, 0.60265653, 0.55037618],\n",
       "       [0.04358133, 0.68861017, 0.9216942 , 0.00731241],\n",
       "       [0.57128587, 0.99787681, 0.77452267, 0.19917239],\n",
       "       [0.91106315, 0.49769224, 0.30259767, 0.13776197],\n",
       "       [0.76003629, 0.07852721, 0.97851938, 0.77227829]])"
      ]
     },
     "execution_count": 11,
     "metadata": {},
     "output_type": "execute_result"
    }
   ],
   "source": [
    "arr[(arr > 0.9).any(axis=1)]"
   ]
  },
  {
   "cell_type": "markdown",
   "id": "81969a41",
   "metadata": {},
   "source": [
    "* Find the sub-array of `arr` containing all rows in which no numbers are between 0.4 and 0.6."
   ]
  },
  {
   "cell_type": "code",
   "execution_count": 12,
   "id": "3581c381",
   "metadata": {},
   "outputs": [
    {
     "data": {
      "text/plain": [
       "array([ True, False, False, False, False, False, False, False, False,\n",
       "       False, False,  True, False,  True,  True, False,  True,  True,\n",
       "       False, False, False,  True,  True,  True,  True,  True,  True,\n",
       "        True,  True, False, False, False, False, False, False, False,\n",
       "       False, False,  True, False, False,  True, False,  True,  True,\n",
       "       False, False, False, False, False,  True,  True,  True, False,\n",
       "        True,  True, False,  True, False, False, False, False, False,\n",
       "        True,  True,  True, False, False, False,  True, False, False,\n",
       "        True, False,  True,  True, False, False, False, False, False,\n",
       "        True, False, False, False, False, False, False,  True, False,\n",
       "        True, False, False, False,  True,  True, False, False,  True,\n",
       "       False])"
      ]
     },
     "execution_count": 12,
     "metadata": {},
     "output_type": "execute_result"
    }
   ],
   "source": [
    "((arr < 0.4) | (arr > 0.6)).all(axis=1)"
   ]
  },
  {
   "cell_type": "code",
   "execution_count": 13,
   "id": "9c0eb389",
   "metadata": {},
   "outputs": [
    {
     "data": {
      "text/plain": [
       "100"
      ]
     },
     "execution_count": 13,
     "metadata": {},
     "output_type": "execute_result"
    }
   ],
   "source": [
    "len(((arr < 0.4) | (arr > 0.6)).all(axis=1))"
   ]
  },
  {
   "cell_type": "code",
   "execution_count": 14,
   "id": "8f1d0b85",
   "metadata": {},
   "outputs": [
    {
     "data": {
      "text/plain": [
       "array([[0.02679582, 0.39964722, 0.38608334, 0.9557704 ],\n",
       "       [0.61030793, 0.15565872, 0.15616296, 0.9572168 ],\n",
       "       [0.64463239, 0.62136197, 0.83285561, 0.69102624],\n",
       "       [0.19806438, 0.28789025, 0.16912325, 0.71827727],\n",
       "       [0.14055923, 0.86443333, 0.95413845, 0.94380163],\n",
       "       [0.07850217, 0.96370185, 0.21801727, 0.22118187],\n",
       "       [0.95705318, 0.11012904, 0.1380347 , 0.67057015],\n",
       "       [0.6703015 , 0.81869015, 0.31666259, 0.67068789],\n",
       "       [0.74644917, 0.06370154, 0.34252816, 0.06391344],\n",
       "       [0.06099061, 0.08149432, 0.29021873, 0.85693158],\n",
       "       [0.80698662, 0.31211537, 0.68117698, 0.78836747],\n",
       "       [0.95930433, 0.06501316, 0.67658178, 0.20159313],\n",
       "       [0.2457492 , 0.67240127, 0.94358665, 0.90993476],\n",
       "       [0.37975889, 0.92498652, 0.99327127, 0.7283782 ],\n",
       "       [0.35246537, 0.32415082, 0.86599985, 0.98355888],\n",
       "       [0.32443071, 0.94130683, 0.86154932, 0.95131523],\n",
       "       [0.75210216, 0.38678934, 0.19343926, 0.65172332],\n",
       "       [0.75785393, 0.97896958, 0.89668326, 0.81597407],\n",
       "       [0.69686621, 0.34335879, 0.91188883, 0.73999112],\n",
       "       [0.02840598, 0.96355532, 0.72067752, 0.77935551],\n",
       "       [0.81806092, 0.6881485 , 0.19411104, 0.05981003],\n",
       "       [0.10944381, 0.11567344, 0.78604289, 0.88719194],\n",
       "       [0.85410091, 0.06666216, 0.66487804, 0.93493077],\n",
       "       [0.17557637, 0.17629594, 0.32083318, 0.78378524],\n",
       "       [0.07667857, 0.75976036, 0.13388494, 0.8849134 ],\n",
       "       [0.07788747, 0.17609963, 0.82659974, 0.23594508],\n",
       "       [0.83519757, 0.04403135, 0.76341093, 0.12392983],\n",
       "       [0.88621369, 0.82607382, 0.24463174, 0.02825251],\n",
       "       [0.85579081, 0.00571833, 0.24021269, 0.70925784],\n",
       "       [0.07239563, 0.0329126 , 0.23356791, 0.25781394],\n",
       "       [0.72748438, 0.95781736, 0.85863108, 0.78340871],\n",
       "       [0.00766348, 0.94589262, 0.94978998, 0.86756495],\n",
       "       [0.29992039, 0.89336646, 0.95530599, 0.90846783],\n",
       "       [0.72087445, 0.00735632, 0.66339639, 0.33424491],\n",
       "       [0.04358133, 0.68861017, 0.9216942 , 0.00731241],\n",
       "       [0.36901017, 0.06002681, 0.32674171, 0.26870498],\n",
       "       [0.76003629, 0.07852721, 0.97851938, 0.77227829]])"
      ]
     },
     "execution_count": 14,
     "metadata": {},
     "output_type": "execute_result"
    }
   ],
   "source": [
    "arr[((arr < 0.4) | (arr > 0.6)).all(axis=1)]"
   ]
  },
  {
   "cell_type": "markdown",
   "id": "c7fa809e",
   "metadata": {},
   "source": [
    "## From binary to decimal, version 1\n",
    "\n",
    "$$\n",
    "\\begin{pmatrix} 1 & 0 & 1 & 0 \\\\ 0 & 1 & 0 & 0 \\\\ 1 & 1 & 1 & 1 \\end{pmatrix} \\mapsto \\begin{pmatrix} 10 \\\\ 4 \\\\ 15 \\end{pmatrix}\n",
    "$$\n",
    "\n",
    "* Write a function `to_bin` which takes in an m-by-n NumPy array of 0s and 1s, and as output returns a length m NumPy array of the corresponding integers, where we think of each row as representing the binary digits of an integer."
   ]
  },
  {
   "cell_type": "code",
   "execution_count": 2,
   "id": "c3822fee",
   "metadata": {},
   "outputs": [],
   "source": [
    "rng = np.random.default_rng()"
   ]
  },
  {
   "cell_type": "code",
   "execution_count": 3,
   "id": "16aeaadc",
   "metadata": {},
   "outputs": [],
   "source": [
    "arr = rng.integers(2, size=(10,4))"
   ]
  },
  {
   "cell_type": "code",
   "execution_count": 4,
   "id": "0900a5a0",
   "metadata": {},
   "outputs": [],
   "source": [
    "m,n = arr.shape"
   ]
  },
  {
   "cell_type": "code",
   "execution_count": 5,
   "id": "c6bbb73c",
   "metadata": {},
   "outputs": [
    {
     "data": {
      "text/plain": [
       "10"
      ]
     },
     "execution_count": 5,
     "metadata": {},
     "output_type": "execute_result"
    }
   ],
   "source": [
    "m"
   ]
  },
  {
   "cell_type": "code",
   "execution_count": 6,
   "id": "a111a9f1",
   "metadata": {},
   "outputs": [
    {
     "data": {
      "text/plain": [
       "4"
      ]
     },
     "execution_count": 6,
     "metadata": {},
     "output_type": "execute_result"
    }
   ],
   "source": [
    "n"
   ]
  },
  {
   "cell_type": "code",
   "execution_count": 7,
   "id": "c9451531",
   "metadata": {},
   "outputs": [
    {
     "data": {
      "text/plain": [
       "array([3, 2, 1, 0])"
      ]
     },
     "execution_count": 7,
     "metadata": {},
     "output_type": "execute_result"
    }
   ],
   "source": [
    "np.arange(n-1, -1, -1)"
   ]
  },
  {
   "cell_type": "code",
   "execution_count": 8,
   "id": "c7377cbd",
   "metadata": {},
   "outputs": [
    {
     "data": {
      "text/plain": [
       "array([8, 4, 2, 1])"
      ]
     },
     "execution_count": 8,
     "metadata": {},
     "output_type": "execute_result"
    }
   ],
   "source": [
    "2**np.arange(n-1, -1, -1)"
   ]
  },
  {
   "cell_type": "code",
   "execution_count": 12,
   "id": "ab56a291",
   "metadata": {},
   "outputs": [
    {
     "data": {
      "text/plain": [
       "array([12,  7, 11, 15,  4,  1,  0, 12, 14,  9])"
      ]
     },
     "execution_count": 12,
     "metadata": {},
     "output_type": "execute_result"
    }
   ],
   "source": [
    "(arr*(2**np.arange(n-1, -1, -1))).sum(axis=1)"
   ]
  },
  {
   "cell_type": "code",
   "execution_count": 13,
   "id": "864a18ad",
   "metadata": {},
   "outputs": [],
   "source": [
    "def to_bin(arr):\n",
    "    _,n = arr.shape\n",
    "    return (arr*(2**np.arange(n-1, -1, -1))).sum(axis=1)"
   ]
  },
  {
   "cell_type": "code",
   "execution_count": 14,
   "id": "cfd08803",
   "metadata": {},
   "outputs": [
    {
     "data": {
      "text/plain": [
       "array([12,  7, 11, 15,  4,  1,  0, 12, 14,  9])"
      ]
     },
     "execution_count": 14,
     "metadata": {},
     "output_type": "execute_result"
    }
   ],
   "source": [
    "to_bin(arr)"
   ]
  },
  {
   "cell_type": "code",
   "execution_count": 15,
   "id": "b1140c46",
   "metadata": {},
   "outputs": [
    {
     "data": {
      "text/plain": [
       "array([2, 3])"
      ]
     },
     "execution_count": 15,
     "metadata": {},
     "output_type": "execute_result"
    }
   ],
   "source": [
    "to_bin(np.array([[1,0],[1,1]]))"
   ]
  },
  {
   "cell_type": "markdown",
   "id": "09081a7a",
   "metadata": {},
   "source": [
    "## From binary to decimal, version 2\n",
    "\n",
    "$$\n",
    "\\begin{pmatrix} 1 & 0 & 1 & 0 \\\\ 0 & 1 & 0 & 0 \\\\ 1 & 1 & 1 & 1 \\end{pmatrix} \\mapsto \\begin{pmatrix} 10 \\\\ 4 \\\\ 15 \\end{pmatrix}\n",
    "$$\n",
    "\n",
    "* Write a new function, `to_bin2`, which takes in an m-by-n NumPy array of 0s and 1s, and as output returns a length m NumPy array of the corresponding integers, where we think of each row as representing the binary digits of an integer."
   ]
  },
  {
   "cell_type": "code",
   "execution_count": 2,
   "id": "8a767851",
   "metadata": {},
   "outputs": [],
   "source": [
    "rng = np.random.default_rng()\n",
    "arr = rng.integers(2, size=(10,4))"
   ]
  },
  {
   "cell_type": "code",
   "execution_count": 3,
   "id": "6033b3b8",
   "metadata": {},
   "outputs": [
    {
     "data": {
      "text/plain": [
       "array([[0, 1, 1, 1],\n",
       "       [0, 0, 1, 0],\n",
       "       [1, 0, 0, 1],\n",
       "       [1, 0, 1, 1],\n",
       "       [0, 1, 1, 1],\n",
       "       [1, 0, 0, 1],\n",
       "       [0, 1, 0, 1],\n",
       "       [0, 0, 1, 0],\n",
       "       [1, 1, 0, 0],\n",
       "       [0, 0, 1, 0]])"
      ]
     },
     "execution_count": 3,
     "metadata": {},
     "output_type": "execute_result"
    }
   ],
   "source": [
    "arr"
   ]
  },
  {
   "cell_type": "code",
   "execution_count": 4,
   "id": "5ea1569f",
   "metadata": {},
   "outputs": [
    {
     "data": {
      "text/plain": [
       "111"
      ]
     },
     "execution_count": 4,
     "metadata": {},
     "output_type": "execute_result"
    }
   ],
   "source": [
    "int(\"0111\")"
   ]
  },
  {
   "cell_type": "code",
   "execution_count": 5,
   "id": "41a01630",
   "metadata": {},
   "outputs": [
    {
     "data": {
      "text/plain": [
       "7"
      ]
     },
     "execution_count": 5,
     "metadata": {},
     "output_type": "execute_result"
    }
   ],
   "source": [
    "int(\"0111\", 2)"
   ]
  },
  {
   "cell_type": "code",
   "execution_count": 6,
   "id": "3b81e981",
   "metadata": {},
   "outputs": [
    {
     "data": {
      "text/plain": [
       "111"
      ]
     },
     "execution_count": 6,
     "metadata": {},
     "output_type": "execute_result"
    }
   ],
   "source": [
    "int(\"0111\", 10)"
   ]
  },
  {
   "cell_type": "code",
   "execution_count": 7,
   "id": "2902b86f",
   "metadata": {},
   "outputs": [],
   "source": [
    "z = np.array([0,1,1,1])"
   ]
  },
  {
   "cell_type": "code",
   "execution_count": 8,
   "id": "fb973531",
   "metadata": {},
   "outputs": [],
   "source": [
    "z = arr[0]"
   ]
  },
  {
   "cell_type": "code",
   "execution_count": 9,
   "id": "983395bb",
   "metadata": {},
   "outputs": [
    {
     "data": {
      "text/plain": [
       "array([0, 1, 1, 1])"
      ]
     },
     "execution_count": 9,
     "metadata": {},
     "output_type": "execute_result"
    }
   ],
   "source": [
    "z"
   ]
  },
  {
   "cell_type": "code",
   "execution_count": 10,
   "id": "37344ae3",
   "metadata": {},
   "outputs": [
    {
     "data": {
      "text/plain": [
       "[0, 1, 1, 1]"
      ]
     },
     "execution_count": 10,
     "metadata": {},
     "output_type": "execute_result"
    }
   ],
   "source": [
    "[x for x in z]"
   ]
  },
  {
   "cell_type": "code",
   "execution_count": 11,
   "id": "e23c1fb4",
   "metadata": {},
   "outputs": [
    {
     "data": {
      "text/plain": [
       "['0', '1', '1', '1']"
      ]
     },
     "execution_count": 11,
     "metadata": {},
     "output_type": "execute_result"
    }
   ],
   "source": [
    "[str(x) for x in z]"
   ]
  },
  {
   "cell_type": "code",
   "execution_count": 12,
   "id": "47203a81",
   "metadata": {},
   "outputs": [
    {
     "ename": "TypeError",
     "evalue": "unsupported operand type(s) for +: 'int' and 'str'",
     "output_type": "error",
     "traceback": [
      "\u001b[0;31m---------------------------------------------------------------------------\u001b[0m",
      "\u001b[0;31mTypeError\u001b[0m                                 Traceback (most recent call last)",
      "Input \u001b[0;32mIn [12]\u001b[0m, in \u001b[0;36m<cell line: 1>\u001b[0;34m()\u001b[0m\n\u001b[0;32m----> 1\u001b[0m \u001b[38;5;28;43msum\u001b[39;49m\u001b[43m(\u001b[49m\u001b[43m[\u001b[49m\u001b[38;5;28;43mstr\u001b[39;49m\u001b[43m(\u001b[49m\u001b[43mx\u001b[49m\u001b[43m)\u001b[49m\u001b[43m \u001b[49m\u001b[38;5;28;43;01mfor\u001b[39;49;00m\u001b[43m \u001b[49m\u001b[43mx\u001b[49m\u001b[43m \u001b[49m\u001b[38;5;129;43;01min\u001b[39;49;00m\u001b[43m \u001b[49m\u001b[43mz\u001b[49m\u001b[43m]\u001b[49m\u001b[43m)\u001b[49m\n",
      "\u001b[0;31mTypeError\u001b[0m: unsupported operand type(s) for +: 'int' and 'str'"
     ]
    }
   ],
   "source": [
    "sum([str(x) for x in z])"
   ]
  },
  {
   "cell_type": "code",
   "execution_count": 13,
   "id": "5222dd82",
   "metadata": {},
   "outputs": [
    {
     "data": {
      "text/plain": [
       "'0111'"
      ]
     },
     "execution_count": 13,
     "metadata": {},
     "output_type": "execute_result"
    }
   ],
   "source": [
    "''.join([str(x) for x in z])"
   ]
  },
  {
   "cell_type": "code",
   "execution_count": 14,
   "id": "156991c0",
   "metadata": {},
   "outputs": [],
   "source": [
    "def helper(z):\n",
    "    return ''.join([str(x) for x in z])"
   ]
  },
  {
   "cell_type": "code",
   "execution_count": 15,
   "id": "99302ebe",
   "metadata": {},
   "outputs": [
    {
     "data": {
      "text/plain": [
       "'1011'"
      ]
     },
     "execution_count": 15,
     "metadata": {},
     "output_type": "execute_result"
    }
   ],
   "source": [
    "helper(arr[3])"
   ]
  },
  {
   "cell_type": "code",
   "execution_count": 16,
   "id": "d11c7bc7",
   "metadata": {},
   "outputs": [
    {
     "data": {
      "text/plain": [
       "array([1, 0, 1, 1])"
      ]
     },
     "execution_count": 16,
     "metadata": {},
     "output_type": "execute_result"
    }
   ],
   "source": [
    "arr[3]"
   ]
  },
  {
   "cell_type": "code",
   "execution_count": 17,
   "id": "1a91ed67",
   "metadata": {},
   "outputs": [
    {
     "data": {
      "text/plain": [
       "array([[0, 1, 1, 1],\n",
       "       [0, 0, 1, 0],\n",
       "       [1, 0, 0, 1],\n",
       "       [1, 0, 1, 1],\n",
       "       [0, 1, 1, 1],\n",
       "       [1, 0, 0, 1],\n",
       "       [0, 1, 0, 1],\n",
       "       [0, 0, 1, 0],\n",
       "       [1, 1, 0, 0],\n",
       "       [0, 0, 1, 0]])"
      ]
     },
     "execution_count": 17,
     "metadata": {},
     "output_type": "execute_result"
    }
   ],
   "source": [
    "arr"
   ]
  },
  {
   "cell_type": "code",
   "execution_count": 18,
   "id": "ad97e360",
   "metadata": {},
   "outputs": [],
   "source": [
    "def helper2(z):\n",
    "    temp = ''.join([str(x) for x in z])\n",
    "    return int(temp, 2)"
   ]
  },
  {
   "cell_type": "code",
   "execution_count": 19,
   "id": "48528476",
   "metadata": {},
   "outputs": [
    {
     "data": {
      "text/plain": [
       "11"
      ]
     },
     "execution_count": 19,
     "metadata": {},
     "output_type": "execute_result"
    }
   ],
   "source": [
    "helper2(arr[3])"
   ]
  },
  {
   "cell_type": "code",
   "execution_count": 20,
   "id": "133ec871",
   "metadata": {},
   "outputs": [],
   "source": [
    "def to_bin2(A):\n",
    "    return np.apply_along_axis(helper2, axis=1, arr=A)"
   ]
  },
  {
   "cell_type": "code",
   "execution_count": 21,
   "id": "fe19273f",
   "metadata": {},
   "outputs": [
    {
     "ename": "NameError",
     "evalue": "name 'A' is not defined",
     "output_type": "error",
     "traceback": [
      "\u001b[0;31m---------------------------------------------------------------------------\u001b[0m",
      "\u001b[0;31mNameError\u001b[0m                                 Traceback (most recent call last)",
      "Input \u001b[0;32mIn [21]\u001b[0m, in \u001b[0;36m<cell line: 1>\u001b[0;34m()\u001b[0m\n\u001b[0;32m----> 1\u001b[0m to_bin2(\u001b[43mA\u001b[49m)\n",
      "\u001b[0;31mNameError\u001b[0m: name 'A' is not defined"
     ]
    }
   ],
   "source": [
    "to_bin2(A)"
   ]
  },
  {
   "cell_type": "code",
   "execution_count": 22,
   "id": "10d7fa45",
   "metadata": {},
   "outputs": [
    {
     "data": {
      "text/plain": [
       "array([[0, 1, 1, 1],\n",
       "       [0, 0, 1, 0],\n",
       "       [1, 0, 0, 1],\n",
       "       [1, 0, 1, 1],\n",
       "       [0, 1, 1, 1],\n",
       "       [1, 0, 0, 1],\n",
       "       [0, 1, 0, 1],\n",
       "       [0, 0, 1, 0],\n",
       "       [1, 1, 0, 0],\n",
       "       [0, 0, 1, 0]])"
      ]
     },
     "execution_count": 22,
     "metadata": {},
     "output_type": "execute_result"
    }
   ],
   "source": [
    "arr"
   ]
  },
  {
   "cell_type": "code",
   "execution_count": 23,
   "id": "20d16063",
   "metadata": {},
   "outputs": [
    {
     "data": {
      "text/plain": [
       "array([ 7,  2,  9, 11,  7,  9,  5,  2, 12,  2])"
      ]
     },
     "execution_count": 23,
     "metadata": {},
     "output_type": "execute_result"
    }
   ],
   "source": [
    "to_bin2(arr)"
   ]
  },
  {
   "cell_type": "markdown",
   "id": "68e2a84d",
   "metadata": {},
   "source": [
    "## Raising errors\n",
    "\n",
    "* Edit the `to_bin` function so that it raises an error if the input is not a NumPy array and it also raises an error if an entry is not 0 or 1."
   ]
  },
  {
   "cell_type": "code",
   "execution_count": 2,
   "id": "b19744a1",
   "metadata": {},
   "outputs": [],
   "source": [
    "rng = np.random.default_rng()\n",
    "arr = rng.integers(2, size=(10,4))"
   ]
  },
  {
   "cell_type": "code",
   "execution_count": 4,
   "id": "086efa9d",
   "metadata": {},
   "outputs": [
    {
     "data": {
      "text/plain": [
       "array([[1, 1, 1, 1],\n",
       "       [0, 0, 1, 1],\n",
       "       [1, 0, 1, 1],\n",
       "       [1, 1, 1, 0],\n",
       "       [0, 0, 1, 1],\n",
       "       [0, 1, 0, 1],\n",
       "       [1, 1, 0, 1],\n",
       "       [1, 1, 1, 1],\n",
       "       [1, 1, 0, 0],\n",
       "       [0, 0, 1, 1]])"
      ]
     },
     "execution_count": 4,
     "metadata": {},
     "output_type": "execute_result"
    }
   ],
   "source": [
    "arr"
   ]
  },
  {
   "cell_type": "code",
   "execution_count": 5,
   "id": "1be331eb",
   "metadata": {},
   "outputs": [
    {
     "data": {
      "text/plain": [
       "numpy.ndarray"
      ]
     },
     "execution_count": 5,
     "metadata": {},
     "output_type": "execute_result"
    }
   ],
   "source": [
    "type(arr)"
   ]
  },
  {
   "cell_type": "code",
   "execution_count": 6,
   "id": "ed213f8b",
   "metadata": {},
   "outputs": [
    {
     "data": {
      "text/plain": [
       "True"
      ]
     },
     "execution_count": 6,
     "metadata": {},
     "output_type": "execute_result"
    }
   ],
   "source": [
    "isinstance(arr, np.ndarray)"
   ]
  },
  {
   "cell_type": "code",
   "execution_count": 7,
   "id": "d5a3b2b8",
   "metadata": {},
   "outputs": [
    {
     "data": {
      "text/plain": [
       "False"
      ]
     },
     "execution_count": 7,
     "metadata": {},
     "output_type": "execute_result"
    }
   ],
   "source": [
    "isinstance(arr, list)"
   ]
  },
  {
   "cell_type": "code",
   "execution_count": 8,
   "id": "16fddd9a",
   "metadata": {},
   "outputs": [],
   "source": [
    "def to_bin(arr):\n",
    "    if not isinstance(arr, np.ndarray):\n",
    "        raise TypeError(\"Input should be a NumPy array\")\n",
    "    _,n = arr.shape\n",
    "    return (arr*(2**np.arange(n-1, -1, -1))).sum(axis=1)"
   ]
  },
  {
   "cell_type": "code",
   "execution_count": 9,
   "id": "940a7f94",
   "metadata": {},
   "outputs": [
    {
     "data": {
      "text/plain": [
       "array([15,  3, 11, 14,  3,  5, 13, 15, 12,  3])"
      ]
     },
     "execution_count": 9,
     "metadata": {},
     "output_type": "execute_result"
    }
   ],
   "source": [
    "to_bin(arr)"
   ]
  },
  {
   "cell_type": "code",
   "execution_count": 10,
   "id": "9cf247e7",
   "metadata": {},
   "outputs": [
    {
     "ename": "TypeError",
     "evalue": "Input should be a NumPy array",
     "output_type": "error",
     "traceback": [
      "\u001b[0;31m---------------------------------------------------------------------------\u001b[0m",
      "\u001b[0;31mTypeError\u001b[0m                                 Traceback (most recent call last)",
      "Input \u001b[0;32mIn [10]\u001b[0m, in \u001b[0;36m<cell line: 1>\u001b[0;34m()\u001b[0m\n\u001b[0;32m----> 1\u001b[0m \u001b[43mto_bin\u001b[49m\u001b[43m(\u001b[49m\u001b[38;5;28;43mlist\u001b[39;49m\u001b[43m(\u001b[49m\u001b[43marr\u001b[49m\u001b[43m)\u001b[49m\u001b[43m)\u001b[49m\n",
      "Input \u001b[0;32mIn [8]\u001b[0m, in \u001b[0;36mto_bin\u001b[0;34m(arr)\u001b[0m\n\u001b[1;32m      1\u001b[0m \u001b[38;5;28;01mdef\u001b[39;00m \u001b[38;5;21mto_bin\u001b[39m(arr):\n\u001b[1;32m      2\u001b[0m     \u001b[38;5;28;01mif\u001b[39;00m \u001b[38;5;129;01mnot\u001b[39;00m \u001b[38;5;28misinstance\u001b[39m(arr, np\u001b[38;5;241m.\u001b[39mndarray):\n\u001b[0;32m----> 3\u001b[0m         \u001b[38;5;28;01mraise\u001b[39;00m \u001b[38;5;167;01mTypeError\u001b[39;00m(\u001b[38;5;124m\"\u001b[39m\u001b[38;5;124mInput should be a NumPy array\u001b[39m\u001b[38;5;124m\"\u001b[39m)\n\u001b[1;32m      4\u001b[0m     _,n \u001b[38;5;241m=\u001b[39m arr\u001b[38;5;241m.\u001b[39mshape\n\u001b[1;32m      5\u001b[0m     \u001b[38;5;28;01mreturn\u001b[39;00m (arr\u001b[38;5;241m*\u001b[39m(\u001b[38;5;241m2\u001b[39m\u001b[38;5;241m*\u001b[39m\u001b[38;5;241m*\u001b[39mnp\u001b[38;5;241m.\u001b[39marange(n\u001b[38;5;241m-\u001b[39m\u001b[38;5;241m1\u001b[39m, \u001b[38;5;241m-\u001b[39m\u001b[38;5;241m1\u001b[39m, \u001b[38;5;241m-\u001b[39m\u001b[38;5;241m1\u001b[39m)))\u001b[38;5;241m.\u001b[39msum(axis\u001b[38;5;241m=\u001b[39m\u001b[38;5;241m1\u001b[39m)\n",
      "\u001b[0;31mTypeError\u001b[0m: Input should be a NumPy array"
     ]
    }
   ],
   "source": [
    "to_bin(list(arr))"
   ]
  },
  {
   "cell_type": "code",
   "execution_count": 11,
   "id": "231ef563",
   "metadata": {},
   "outputs": [
    {
     "data": {
      "text/plain": [
       "array([[False, False, False, False],\n",
       "       [ True,  True, False, False],\n",
       "       [False,  True, False, False],\n",
       "       [False, False, False,  True],\n",
       "       [ True,  True, False, False],\n",
       "       [ True, False,  True, False],\n",
       "       [False, False,  True, False],\n",
       "       [False, False, False, False],\n",
       "       [False, False,  True,  True],\n",
       "       [ True,  True, False, False]])"
      ]
     },
     "execution_count": 11,
     "metadata": {},
     "output_type": "execute_result"
    }
   ],
   "source": [
    "arr == 0"
   ]
  },
  {
   "cell_type": "code",
   "execution_count": 12,
   "id": "744a2d4d",
   "metadata": {},
   "outputs": [
    {
     "data": {
      "text/plain": [
       "array([[ True,  True,  True,  True],\n",
       "       [False, False,  True,  True],\n",
       "       [ True, False,  True,  True],\n",
       "       [ True,  True,  True, False],\n",
       "       [False, False,  True,  True],\n",
       "       [False,  True, False,  True],\n",
       "       [ True,  True, False,  True],\n",
       "       [ True,  True,  True,  True],\n",
       "       [ True,  True, False, False],\n",
       "       [False, False,  True,  True]])"
      ]
     },
     "execution_count": 12,
     "metadata": {},
     "output_type": "execute_result"
    }
   ],
   "source": [
    "arr == 1"
   ]
  },
  {
   "cell_type": "code",
   "execution_count": 13,
   "id": "fd45b8f8",
   "metadata": {},
   "outputs": [
    {
     "data": {
      "text/plain": [
       "array([[ True,  True,  True,  True],\n",
       "       [ True,  True,  True,  True],\n",
       "       [ True,  True,  True,  True],\n",
       "       [ True,  True,  True,  True],\n",
       "       [ True,  True,  True,  True],\n",
       "       [ True,  True,  True,  True],\n",
       "       [ True,  True,  True,  True],\n",
       "       [ True,  True,  True,  True],\n",
       "       [ True,  True,  True,  True],\n",
       "       [ True,  True,  True,  True]])"
      ]
     },
     "execution_count": 13,
     "metadata": {},
     "output_type": "execute_result"
    }
   ],
   "source": [
    "(arr == 0) | (arr == 1)"
   ]
  },
  {
   "cell_type": "code",
   "execution_count": 14,
   "id": "45753e84",
   "metadata": {},
   "outputs": [
    {
     "data": {
      "text/plain": [
       "True"
      ]
     },
     "execution_count": 14,
     "metadata": {},
     "output_type": "execute_result"
    }
   ],
   "source": [
    "((arr == 0) | (arr == 1)).all()"
   ]
  },
  {
   "cell_type": "code",
   "execution_count": 15,
   "id": "0336d296",
   "metadata": {},
   "outputs": [],
   "source": [
    "def to_bin(arr):\n",
    "    if not isinstance(arr, np.ndarray):\n",
    "        raise TypeError(\"Input should be a NumPy array\")\n",
    "    if not ((arr == 0) | (arr == 1)).all():\n",
    "        raise ValueError(\"All entries should be 0 or 1\")\n",
    "    _,n = arr.shape\n",
    "    return (arr*(2**np.arange(n-1, -1, -1))).sum(axis=1)"
   ]
  },
  {
   "cell_type": "code",
   "execution_count": 16,
   "id": "ce963a05",
   "metadata": {},
   "outputs": [
    {
     "data": {
      "text/plain": [
       "array([15,  3, 11, 14,  3,  5, 13, 15, 12,  3])"
      ]
     },
     "execution_count": 16,
     "metadata": {},
     "output_type": "execute_result"
    }
   ],
   "source": [
    "to_bin(arr)"
   ]
  },
  {
   "cell_type": "code",
   "execution_count": 17,
   "id": "d4919b24",
   "metadata": {},
   "outputs": [],
   "source": [
    "arr2 = arr"
   ]
  },
  {
   "cell_type": "code",
   "execution_count": 18,
   "id": "781d99ee",
   "metadata": {},
   "outputs": [],
   "source": [
    "arr2[5,2] = 6"
   ]
  },
  {
   "cell_type": "code",
   "execution_count": 19,
   "id": "35578676",
   "metadata": {},
   "outputs": [
    {
     "data": {
      "text/plain": [
       "array([[1, 1, 1, 1],\n",
       "       [0, 0, 1, 1],\n",
       "       [1, 0, 1, 1],\n",
       "       [1, 1, 1, 0],\n",
       "       [0, 0, 1, 1],\n",
       "       [0, 1, 6, 1],\n",
       "       [1, 1, 0, 1],\n",
       "       [1, 1, 1, 1],\n",
       "       [1, 1, 0, 0],\n",
       "       [0, 0, 1, 1]])"
      ]
     },
     "execution_count": 19,
     "metadata": {},
     "output_type": "execute_result"
    }
   ],
   "source": [
    "arr2"
   ]
  },
  {
   "cell_type": "code",
   "execution_count": 20,
   "id": "2e1f09d0",
   "metadata": {},
   "outputs": [
    {
     "ename": "ValueError",
     "evalue": "All entries should be 0 or 1",
     "output_type": "error",
     "traceback": [
      "\u001b[0;31m---------------------------------------------------------------------------\u001b[0m",
      "\u001b[0;31mValueError\u001b[0m                                Traceback (most recent call last)",
      "Input \u001b[0;32mIn [20]\u001b[0m, in \u001b[0;36m<cell line: 1>\u001b[0;34m()\u001b[0m\n\u001b[0;32m----> 1\u001b[0m \u001b[43mto_bin\u001b[49m\u001b[43m(\u001b[49m\u001b[43marr2\u001b[49m\u001b[43m)\u001b[49m\n",
      "Input \u001b[0;32mIn [15]\u001b[0m, in \u001b[0;36mto_bin\u001b[0;34m(arr)\u001b[0m\n\u001b[1;32m      3\u001b[0m     \u001b[38;5;28;01mraise\u001b[39;00m \u001b[38;5;167;01mTypeError\u001b[39;00m(\u001b[38;5;124m\"\u001b[39m\u001b[38;5;124mInput should be a NumPy array\u001b[39m\u001b[38;5;124m\"\u001b[39m)\n\u001b[1;32m      4\u001b[0m \u001b[38;5;28;01mif\u001b[39;00m \u001b[38;5;129;01mnot\u001b[39;00m ((arr \u001b[38;5;241m==\u001b[39m \u001b[38;5;241m0\u001b[39m) \u001b[38;5;241m|\u001b[39m (arr \u001b[38;5;241m==\u001b[39m \u001b[38;5;241m1\u001b[39m))\u001b[38;5;241m.\u001b[39mall():\n\u001b[0;32m----> 5\u001b[0m     \u001b[38;5;28;01mraise\u001b[39;00m \u001b[38;5;167;01mValueError\u001b[39;00m(\u001b[38;5;124m\"\u001b[39m\u001b[38;5;124mAll entries should be 0 or 1\u001b[39m\u001b[38;5;124m\"\u001b[39m)\n\u001b[1;32m      6\u001b[0m _,n \u001b[38;5;241m=\u001b[39m arr\u001b[38;5;241m.\u001b[39mshape\n\u001b[1;32m      7\u001b[0m \u001b[38;5;28;01mreturn\u001b[39;00m (arr\u001b[38;5;241m*\u001b[39m(\u001b[38;5;241m2\u001b[39m\u001b[38;5;241m*\u001b[39m\u001b[38;5;241m*\u001b[39mnp\u001b[38;5;241m.\u001b[39marange(n\u001b[38;5;241m-\u001b[39m\u001b[38;5;241m1\u001b[39m, \u001b[38;5;241m-\u001b[39m\u001b[38;5;241m1\u001b[39m, \u001b[38;5;241m-\u001b[39m\u001b[38;5;241m1\u001b[39m)))\u001b[38;5;241m.\u001b[39msum(axis\u001b[38;5;241m=\u001b[39m\u001b[38;5;241m1\u001b[39m)\n",
      "\u001b[0;31mValueError\u001b[0m: All entries should be 0 or 1"
     ]
    }
   ],
   "source": [
    "to_bin(arr2)"
   ]
  },
  {
   "cell_type": "code",
   "execution_count": 21,
   "id": "139c8f07",
   "metadata": {},
   "outputs": [
    {
     "ename": "ValueError",
     "evalue": "All entries should be 0 or 1",
     "output_type": "error",
     "traceback": [
      "\u001b[0;31m---------------------------------------------------------------------------\u001b[0m",
      "\u001b[0;31mValueError\u001b[0m                                Traceback (most recent call last)",
      "Input \u001b[0;32mIn [21]\u001b[0m, in \u001b[0;36m<cell line: 1>\u001b[0;34m()\u001b[0m\n\u001b[0;32m----> 1\u001b[0m \u001b[43mto_bin\u001b[49m\u001b[43m(\u001b[49m\u001b[43marr\u001b[49m\u001b[43m)\u001b[49m\n",
      "Input \u001b[0;32mIn [15]\u001b[0m, in \u001b[0;36mto_bin\u001b[0;34m(arr)\u001b[0m\n\u001b[1;32m      3\u001b[0m     \u001b[38;5;28;01mraise\u001b[39;00m \u001b[38;5;167;01mTypeError\u001b[39;00m(\u001b[38;5;124m\"\u001b[39m\u001b[38;5;124mInput should be a NumPy array\u001b[39m\u001b[38;5;124m\"\u001b[39m)\n\u001b[1;32m      4\u001b[0m \u001b[38;5;28;01mif\u001b[39;00m \u001b[38;5;129;01mnot\u001b[39;00m ((arr \u001b[38;5;241m==\u001b[39m \u001b[38;5;241m0\u001b[39m) \u001b[38;5;241m|\u001b[39m (arr \u001b[38;5;241m==\u001b[39m \u001b[38;5;241m1\u001b[39m))\u001b[38;5;241m.\u001b[39mall():\n\u001b[0;32m----> 5\u001b[0m     \u001b[38;5;28;01mraise\u001b[39;00m \u001b[38;5;167;01mValueError\u001b[39;00m(\u001b[38;5;124m\"\u001b[39m\u001b[38;5;124mAll entries should be 0 or 1\u001b[39m\u001b[38;5;124m\"\u001b[39m)\n\u001b[1;32m      6\u001b[0m _,n \u001b[38;5;241m=\u001b[39m arr\u001b[38;5;241m.\u001b[39mshape\n\u001b[1;32m      7\u001b[0m \u001b[38;5;28;01mreturn\u001b[39;00m (arr\u001b[38;5;241m*\u001b[39m(\u001b[38;5;241m2\u001b[39m\u001b[38;5;241m*\u001b[39m\u001b[38;5;241m*\u001b[39mnp\u001b[38;5;241m.\u001b[39marange(n\u001b[38;5;241m-\u001b[39m\u001b[38;5;241m1\u001b[39m, \u001b[38;5;241m-\u001b[39m\u001b[38;5;241m1\u001b[39m, \u001b[38;5;241m-\u001b[39m\u001b[38;5;241m1\u001b[39m)))\u001b[38;5;241m.\u001b[39msum(axis\u001b[38;5;241m=\u001b[39m\u001b[38;5;241m1\u001b[39m)\n",
      "\u001b[0;31mValueError\u001b[0m: All entries should be 0 or 1"
     ]
    }
   ],
   "source": [
    "to_bin(arr)"
   ]
  },
  {
   "cell_type": "code",
   "execution_count": 22,
   "id": "050a3ca9",
   "metadata": {},
   "outputs": [
    {
     "data": {
      "text/plain": [
       "array([[1, 1, 1, 1],\n",
       "       [0, 0, 1, 1],\n",
       "       [1, 0, 1, 1],\n",
       "       [1, 1, 1, 0],\n",
       "       [0, 0, 1, 1],\n",
       "       [0, 1, 6, 1],\n",
       "       [1, 1, 0, 1],\n",
       "       [1, 1, 1, 1],\n",
       "       [1, 1, 0, 0],\n",
       "       [0, 0, 1, 1]])"
      ]
     },
     "execution_count": 22,
     "metadata": {},
     "output_type": "execute_result"
    }
   ],
   "source": [
    "arr"
   ]
  },
  {
   "cell_type": "code",
   "execution_count": 23,
   "id": "f49223d1",
   "metadata": {},
   "outputs": [],
   "source": [
    "arr3 = arr.copy()"
   ]
  },
  {
   "cell_type": "code",
   "execution_count": 24,
   "id": "8165578e",
   "metadata": {},
   "outputs": [
    {
     "data": {
      "text/plain": [
       "array([[1, 1, 1, 1],\n",
       "       [0, 0, 1, 1],\n",
       "       [1, 0, 1, 1],\n",
       "       [1, 1, 1, 0],\n",
       "       [0, 0, 1, 1],\n",
       "       [0, 1, 6, 1],\n",
       "       [1, 1, 0, 1],\n",
       "       [1, 1, 1, 1],\n",
       "       [1, 1, 0, 0],\n",
       "       [0, 0, 1, 1]])"
      ]
     },
     "execution_count": 24,
     "metadata": {},
     "output_type": "execute_result"
    }
   ],
   "source": [
    "arr3"
   ]
  },
  {
   "cell_type": "code",
   "execution_count": 25,
   "id": "bbd81560",
   "metadata": {},
   "outputs": [],
   "source": [
    "arr3[6,::2] = 99"
   ]
  },
  {
   "cell_type": "code",
   "execution_count": 26,
   "id": "b3141fa8",
   "metadata": {},
   "outputs": [
    {
     "data": {
      "text/plain": [
       "array([[ 1,  1,  1,  1],\n",
       "       [ 0,  0,  1,  1],\n",
       "       [ 1,  0,  1,  1],\n",
       "       [ 1,  1,  1,  0],\n",
       "       [ 0,  0,  1,  1],\n",
       "       [ 0,  1,  6,  1],\n",
       "       [99,  1, 99,  1],\n",
       "       [ 1,  1,  1,  1],\n",
       "       [ 1,  1,  0,  0],\n",
       "       [ 0,  0,  1,  1]])"
      ]
     },
     "execution_count": 26,
     "metadata": {},
     "output_type": "execute_result"
    }
   ],
   "source": [
    "arr3"
   ]
  },
  {
   "cell_type": "code",
   "execution_count": 27,
   "id": "5e7005ec",
   "metadata": {},
   "outputs": [
    {
     "data": {
      "text/plain": [
       "array([[1, 1, 1, 1],\n",
       "       [0, 0, 1, 1],\n",
       "       [1, 0, 1, 1],\n",
       "       [1, 1, 1, 0],\n",
       "       [0, 0, 1, 1],\n",
       "       [0, 1, 6, 1],\n",
       "       [1, 1, 0, 1],\n",
       "       [1, 1, 1, 1],\n",
       "       [1, 1, 0, 0],\n",
       "       [0, 0, 1, 1]])"
      ]
     },
     "execution_count": 27,
     "metadata": {},
     "output_type": "execute_result"
    }
   ],
   "source": [
    "arr"
   ]
  },
  {
   "cell_type": "code",
   "execution_count": null,
   "id": "ec5cac34",
   "metadata": {},
   "outputs": [],
   "source": []
  }
 ],
 "metadata": {
  "kernelspec": {
   "display_name": "Python 3 (ipykernel)",
   "language": "python",
   "name": "python3"
  },
  "language_info": {
   "codemirror_mode": {
    "name": "ipython",
    "version": 3
   },
   "file_extension": ".py",
   "mimetype": "text/x-python",
   "name": "python",
   "nbconvert_exporter": "python",
   "pygments_lexer": "ipython3",
   "version": "3.10.5"
  }
 },
 "nbformat": 4,
 "nbformat_minor": 5
}
