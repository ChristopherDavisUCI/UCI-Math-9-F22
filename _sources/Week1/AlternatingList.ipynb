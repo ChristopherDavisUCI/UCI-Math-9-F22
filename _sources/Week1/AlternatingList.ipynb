{
 "cells": [
  {
   "cell_type": "markdown",
   "id": "fc0acb07",
   "metadata": {},
   "source": [
    "# Alternating list"
   ]
  },
  {
   "cell_type": "markdown",
   "id": "3cb01ef0",
   "metadata": {},
   "source": [
    "**Goal**: Write a function which takes input `n` and as output returns the length `n` list `[3,8,3,8,...]`."
   ]
  },
  {
   "cell_type": "markdown",
   "id": "24dae947",
   "metadata": {},
   "source": [
    "## Writing a function that returns a constant list\n",
    "\n",
    "**Preliminary Goal**: Write a function which takes input `n` and as output returns the length `n` list `[3,3,3,...]`."
   ]
  },
  {
   "cell_type": "code",
   "execution_count": 1,
   "id": "b3829614",
   "metadata": {},
   "outputs": [],
   "source": [
    "def f(n):\n",
    "    mylist = []\n",
    "    for i in range(n):\n",
    "        mylist.append(3)"
   ]
  },
  {
   "cell_type": "code",
   "execution_count": 2,
   "id": "da762221",
   "metadata": {},
   "outputs": [],
   "source": [
    "f(5)"
   ]
  },
  {
   "cell_type": "code",
   "execution_count": 3,
   "id": "3dd5d954",
   "metadata": {},
   "outputs": [],
   "source": [
    "def f(n):\n",
    "    mylist = []\n",
    "    for i in range(n):\n",
    "        mylist.append(3)\n",
    "        return mylist"
   ]
  },
  {
   "cell_type": "code",
   "execution_count": 4,
   "id": "339126c6",
   "metadata": {},
   "outputs": [
    {
     "data": {
      "text/plain": [
       "[3]"
      ]
     },
     "execution_count": 4,
     "metadata": {},
     "output_type": "execute_result"
    }
   ],
   "source": [
    "f(5)"
   ]
  },
  {
   "cell_type": "code",
   "execution_count": 5,
   "id": "60c7ea46",
   "metadata": {},
   "outputs": [],
   "source": [
    "def f(n):\n",
    "    mylist = []\n",
    "    for i in range(n):\n",
    "        mylist.append(3)\n",
    "    return mylist"
   ]
  },
  {
   "cell_type": "code",
   "execution_count": 6,
   "id": "474b4169",
   "metadata": {},
   "outputs": [
    {
     "data": {
      "text/plain": [
       "[3, 3, 3, 3, 3]"
      ]
     },
     "execution_count": 6,
     "metadata": {},
     "output_type": "execute_result"
    }
   ],
   "source": [
    "f(5)"
   ]
  },
  {
   "cell_type": "code",
   "execution_count": 7,
   "id": "8b5732d5",
   "metadata": {},
   "outputs": [
    {
     "data": {
      "text/plain": [
       "[3, 3, 3, 3, 3, 3]"
      ]
     },
     "execution_count": 7,
     "metadata": {},
     "output_type": "execute_result"
    }
   ],
   "source": [
    "f(6)"
   ]
  },
  {
   "cell_type": "code",
   "execution_count": 8,
   "id": "9bdfd141",
   "metadata": {},
   "outputs": [
    {
     "ename": "NameError",
     "evalue": "name 'n' is not defined",
     "output_type": "error",
     "traceback": [
      "\u001b[0;31m---------------------------------------------------------------------------\u001b[0m",
      "\u001b[0;31mNameError\u001b[0m                                 Traceback (most recent call last)",
      "\u001b[0;32m/var/folders/8j/gshrlmtn7dg4qtztj4d4t_w40000gn/T/ipykernel_54375/1249512285.py\u001b[0m in \u001b[0;36m<module>\u001b[0;34m\u001b[0m\n\u001b[0;32m----> 1\u001b[0;31m \u001b[0mn\u001b[0m\u001b[0;34m\u001b[0m\u001b[0;34m\u001b[0m\u001b[0m\n\u001b[0m",
      "\u001b[0;31mNameError\u001b[0m: name 'n' is not defined"
     ]
    }
   ],
   "source": [
    "n"
   ]
  },
  {
   "cell_type": "code",
   "execution_count": 9,
   "id": "a2c9b55e",
   "metadata": {},
   "outputs": [],
   "source": [
    "n = 100"
   ]
  },
  {
   "cell_type": "code",
   "execution_count": 10,
   "id": "79177973",
   "metadata": {},
   "outputs": [
    {
     "data": {
      "text/plain": [
       "[3, 3, 3, 3]"
      ]
     },
     "execution_count": 10,
     "metadata": {},
     "output_type": "execute_result"
    }
   ],
   "source": [
    "f(4)"
   ]
  },
  {
   "cell_type": "code",
   "execution_count": 11,
   "id": "cc9841a3",
   "metadata": {},
   "outputs": [
    {
     "data": {
      "text/plain": [
       "100"
      ]
     },
     "execution_count": 11,
     "metadata": {},
     "output_type": "execute_result"
    }
   ],
   "source": [
    "n"
   ]
  },
  {
   "cell_type": "markdown",
   "id": "57f5b9b4",
   "metadata": {},
   "source": [
    "## First version of the alternating function"
   ]
  },
  {
   "cell_type": "code",
   "execution_count": 1,
   "id": "b725cf7f",
   "metadata": {},
   "outputs": [],
   "source": [
    "def const(n):\n",
    "    mylist = []\n",
    "    for i in range(n):\n",
    "        mylist.append(3)\n",
    "    return mylist"
   ]
  },
  {
   "cell_type": "code",
   "execution_count": 2,
   "id": "16bbbdec",
   "metadata": {},
   "outputs": [
    {
     "data": {
      "text/plain": [
       "[3, 3, 3, 3, 3]"
      ]
     },
     "execution_count": 2,
     "metadata": {},
     "output_type": "execute_result"
    }
   ],
   "source": [
    "const(5)"
   ]
  },
  {
   "cell_type": "code",
   "execution_count": 3,
   "id": "d7b92663",
   "metadata": {},
   "outputs": [],
   "source": [
    "def alt1(n):\n",
    "    mylist = const(n)\n",
    "    return mylist"
   ]
  },
  {
   "cell_type": "code",
   "execution_count": 4,
   "id": "05715155",
   "metadata": {},
   "outputs": [
    {
     "data": {
      "text/plain": [
       "[3, 3, 3, 3]"
      ]
     },
     "execution_count": 4,
     "metadata": {},
     "output_type": "execute_result"
    }
   ],
   "source": [
    "alt1(4)"
   ]
  },
  {
   "cell_type": "code",
   "execution_count": 2,
   "id": "5a12e4b3",
   "metadata": {},
   "outputs": [],
   "source": [
    "def alt1(n):\n",
    "    mylist = const(n)\n",
    "    for i in range(1,n,2):\n",
    "        mylist[i] = 8\n",
    "    return mylist"
   ]
  },
  {
   "cell_type": "code",
   "execution_count": 3,
   "id": "6702370e",
   "metadata": {},
   "outputs": [
    {
     "data": {
      "text/plain": [
       "[3, 8, 3, 8, 3, 8, 3, 8, 3, 8]"
      ]
     },
     "execution_count": 3,
     "metadata": {},
     "output_type": "execute_result"
    }
   ],
   "source": [
    "alt1(10)"
   ]
  },
  {
   "cell_type": "code",
   "execution_count": 7,
   "id": "1d59e1a9",
   "metadata": {},
   "outputs": [
    {
     "data": {
      "text/plain": [
       "[3, 8, 3, 8, 3, 8, 3, 8, 3, 8, 3]"
      ]
     },
     "execution_count": 7,
     "metadata": {},
     "output_type": "execute_result"
    }
   ],
   "source": [
    "alt1(11)"
   ]
  },
  {
   "cell_type": "markdown",
   "id": "61547d06",
   "metadata": {},
   "source": [
    "## Checking if the index is even or odd"
   ]
  },
  {
   "cell_type": "code",
   "execution_count": 1,
   "id": "169b19d0",
   "metadata": {},
   "outputs": [],
   "source": [
    "i = 7"
   ]
  },
  {
   "cell_type": "code",
   "execution_count": 2,
   "id": "31afbd7b",
   "metadata": {},
   "outputs": [
    {
     "data": {
      "text/plain": [
       "1"
      ]
     },
     "execution_count": 2,
     "metadata": {},
     "output_type": "execute_result"
    }
   ],
   "source": [
    "i%2"
   ]
  },
  {
   "cell_type": "code",
   "execution_count": 3,
   "id": "3858e9ac",
   "metadata": {},
   "outputs": [
    {
     "data": {
      "text/plain": [
       "0"
      ]
     },
     "execution_count": 3,
     "metadata": {},
     "output_type": "execute_result"
    }
   ],
   "source": [
    "6%2"
   ]
  },
  {
   "cell_type": "code",
   "execution_count": 4,
   "id": "494a6d80",
   "metadata": {},
   "outputs": [],
   "source": [
    "def alt2(n):\n",
    "    mylist = []\n",
    "    for i in range(n):\n",
    "        if i%2 == 0:\n",
    "            mylist.append(3)\n",
    "        else:\n",
    "            mylist.append(8)\n",
    "    return mylist"
   ]
  },
  {
   "cell_type": "code",
   "execution_count": 5,
   "id": "f8a2750b",
   "metadata": {},
   "outputs": [
    {
     "data": {
      "text/plain": [
       "[3, 8, 3, 8, 3]"
      ]
     },
     "execution_count": 5,
     "metadata": {},
     "output_type": "execute_result"
    }
   ],
   "source": [
    "alt2(5)"
   ]
  },
  {
   "cell_type": "code",
   "execution_count": 6,
   "id": "15b77c18",
   "metadata": {},
   "outputs": [
    {
     "data": {
      "text/plain": [
       "[3, 8, 3, 8, 3, 8]"
      ]
     },
     "execution_count": 6,
     "metadata": {},
     "output_type": "execute_result"
    }
   ],
   "source": [
    "alt2(6)"
   ]
  },
  {
   "cell_type": "code",
   "execution_count": 4,
   "id": "11115879",
   "metadata": {},
   "outputs": [],
   "source": [
    "def alt2(n):\n",
    "    mylist = []\n",
    "    for i in range(n):\n",
    "        if i%2 == 0:\n",
    "            mylist.append(3)\n",
    "        elif i%2 == 1:\n",
    "            mylist.append(8)\n",
    "    return mylist"
   ]
  },
  {
   "cell_type": "code",
   "execution_count": 11,
   "id": "f17a1b8a",
   "metadata": {},
   "outputs": [
    {
     "data": {
      "text/plain": [
       "[3, 8, 3, 8, 3]"
      ]
     },
     "execution_count": 11,
     "metadata": {},
     "output_type": "execute_result"
    }
   ],
   "source": [
    "alt2(5)"
   ]
  },
  {
   "cell_type": "code",
   "execution_count": 12,
   "id": "0112e564",
   "metadata": {},
   "outputs": [
    {
     "data": {
      "text/plain": [
       "[3, 8, 3, 8, 3, 8]"
      ]
     },
     "execution_count": 12,
     "metadata": {},
     "output_type": "execute_result"
    }
   ],
   "source": [
    "alt2(6)"
   ]
  },
  {
   "cell_type": "markdown",
   "id": "fcc83f1c",
   "metadata": {},
   "source": [
    "## Using NumPy"
   ]
  },
  {
   "cell_type": "code",
   "execution_count": 8,
   "id": "8d7f2f4c",
   "metadata": {},
   "outputs": [],
   "source": [
    "import numpy as np"
   ]
  },
  {
   "cell_type": "code",
   "execution_count": 3,
   "id": "c5d57541",
   "metadata": {},
   "outputs": [],
   "source": [
    "A = np.zeros((3,5))"
   ]
  },
  {
   "cell_type": "code",
   "execution_count": 4,
   "id": "3b7042d0",
   "metadata": {},
   "outputs": [
    {
     "data": {
      "text/plain": [
       "numpy.ndarray"
      ]
     },
     "execution_count": 4,
     "metadata": {},
     "output_type": "execute_result"
    }
   ],
   "source": [
    "type(A)"
   ]
  },
  {
   "cell_type": "code",
   "execution_count": 5,
   "id": "394f110a",
   "metadata": {},
   "outputs": [
    {
     "data": {
      "text/plain": [
       "array([[0., 0., 0., 0., 0.],\n",
       "       [0., 0., 0., 0., 0.],\n",
       "       [0., 0., 0., 0., 0.]])"
      ]
     },
     "execution_count": 5,
     "metadata": {},
     "output_type": "execute_result"
    }
   ],
   "source": [
    "A"
   ]
  },
  {
   "cell_type": "code",
   "execution_count": 6,
   "id": "730e8a15",
   "metadata": {},
   "outputs": [
    {
     "data": {
      "text/plain": [
       "(3, 5)"
      ]
     },
     "execution_count": 6,
     "metadata": {},
     "output_type": "execute_result"
    }
   ],
   "source": [
    "A.shape"
   ]
  },
  {
   "cell_type": "code",
   "execution_count": 7,
   "id": "34c576e7",
   "metadata": {},
   "outputs": [],
   "source": [
    "def alt3(n):\n",
    "    A = np.zeros(n)\n",
    "    return A"
   ]
  },
  {
   "cell_type": "code",
   "execution_count": 9,
   "id": "08a4e8b8",
   "metadata": {},
   "outputs": [
    {
     "data": {
      "text/plain": [
       "array([0., 0., 0., 0., 0., 0., 0.])"
      ]
     },
     "execution_count": 9,
     "metadata": {},
     "output_type": "execute_result"
    }
   ],
   "source": [
    "alt3(7)"
   ]
  },
  {
   "cell_type": "code",
   "execution_count": 10,
   "id": "b7c821a3",
   "metadata": {},
   "outputs": [
    {
     "data": {
      "text/plain": [
       "0.0"
      ]
     },
     "execution_count": 10,
     "metadata": {},
     "output_type": "execute_result"
    }
   ],
   "source": [
    "alt3(7)[0]"
   ]
  },
  {
   "cell_type": "code",
   "execution_count": 11,
   "id": "49d9b877",
   "metadata": {},
   "outputs": [
    {
     "data": {
      "text/plain": [
       "numpy.float64"
      ]
     },
     "execution_count": 11,
     "metadata": {},
     "output_type": "execute_result"
    }
   ],
   "source": [
    "type(alt3(7)[0])"
   ]
  },
  {
   "cell_type": "code",
   "execution_count": 12,
   "id": "a54acfa2",
   "metadata": {},
   "outputs": [],
   "source": [
    "A = alt3(7)"
   ]
  },
  {
   "cell_type": "code",
   "execution_count": 13,
   "id": "56a92d15",
   "metadata": {},
   "outputs": [
    {
     "data": {
      "text/plain": [
       "dtype('float64')"
      ]
     },
     "execution_count": 13,
     "metadata": {},
     "output_type": "execute_result"
    }
   ],
   "source": [
    "A.dtype"
   ]
  },
  {
   "cell_type": "code",
   "execution_count": 15,
   "id": "2486faa7",
   "metadata": {},
   "outputs": [
    {
     "name": "stdout",
     "output_type": "stream",
     "text": [
      "Help on built-in function zeros in module numpy:\n",
      "\n",
      "zeros(...)\n",
      "    zeros(shape, dtype=float, order='C', *, like=None)\n",
      "    \n",
      "    Return a new array of given shape and type, filled with zeros.\n",
      "    \n",
      "    Parameters\n",
      "    ----------\n",
      "    shape : int or tuple of ints\n",
      "        Shape of the new array, e.g., ``(2, 3)`` or ``2``.\n",
      "    dtype : data-type, optional\n",
      "        The desired data-type for the array, e.g., `numpy.int8`.  Default is\n",
      "        `numpy.float64`.\n",
      "    order : {'C', 'F'}, optional, default: 'C'\n",
      "        Whether to store multi-dimensional data in row-major\n",
      "        (C-style) or column-major (Fortran-style) order in\n",
      "        memory.\n",
      "    like : array_like\n",
      "        Reference object to allow the creation of arrays which are not\n",
      "        NumPy arrays. If an array-like passed in as ``like`` supports\n",
      "        the ``__array_function__`` protocol, the result will be defined\n",
      "        by it. In this case, it ensures the creation of an array object\n",
      "        compatible with that passed in via this argument.\n",
      "    \n",
      "        .. versionadded:: 1.20.0\n",
      "    \n",
      "    Returns\n",
      "    -------\n",
      "    out : ndarray\n",
      "        Array of zeros with the given shape, dtype, and order.\n",
      "    \n",
      "    See Also\n",
      "    --------\n",
      "    zeros_like : Return an array of zeros with shape and type of input.\n",
      "    empty : Return a new uninitialized array.\n",
      "    ones : Return a new array setting values to one.\n",
      "    full : Return a new array of given shape filled with value.\n",
      "    \n",
      "    Examples\n",
      "    --------\n",
      "    >>> np.zeros(5)\n",
      "    array([ 0.,  0.,  0.,  0.,  0.])\n",
      "    \n",
      "    >>> np.zeros((5,), dtype=int)\n",
      "    array([0, 0, 0, 0, 0])\n",
      "    \n",
      "    >>> np.zeros((2, 1))\n",
      "    array([[ 0.],\n",
      "           [ 0.]])\n",
      "    \n",
      "    >>> s = (2,2)\n",
      "    >>> np.zeros(s)\n",
      "    array([[ 0.,  0.],\n",
      "           [ 0.,  0.]])\n",
      "    \n",
      "    >>> np.zeros((2,), dtype=[('x', 'i4'), ('y', 'i4')]) # custom dtype\n",
      "    array([(0, 0), (0, 0)],\n",
      "          dtype=[('x', '<i4'), ('y', '<i4')])\n",
      "\n"
     ]
    }
   ],
   "source": [
    "help(np.zeros)"
   ]
  },
  {
   "cell_type": "code",
   "execution_count": 16,
   "id": "f58034ff",
   "metadata": {},
   "outputs": [],
   "source": [
    "def alt3(n):\n",
    "    A = np.zeros(n, dtype=np.int64)\n",
    "    return A"
   ]
  },
  {
   "cell_type": "code",
   "execution_count": 17,
   "id": "794875a1",
   "metadata": {},
   "outputs": [
    {
     "data": {
      "text/plain": [
       "array([0, 0, 0, 0, 0, 0, 0, 0])"
      ]
     },
     "execution_count": 17,
     "metadata": {},
     "output_type": "execute_result"
    }
   ],
   "source": [
    "alt3(8)"
   ]
  },
  {
   "cell_type": "code",
   "execution_count": 19,
   "id": "bcbca656",
   "metadata": {},
   "outputs": [],
   "source": [
    "A = alt3(8)"
   ]
  },
  {
   "cell_type": "code",
   "execution_count": 20,
   "id": "2b244a5c",
   "metadata": {},
   "outputs": [
    {
     "data": {
      "text/plain": [
       "array([0, 0, 0, 0, 0, 0, 0, 0])"
      ]
     },
     "execution_count": 20,
     "metadata": {},
     "output_type": "execute_result"
    }
   ],
   "source": [
    "A"
   ]
  },
  {
   "cell_type": "code",
   "execution_count": 21,
   "id": "1d5fb22e",
   "metadata": {},
   "outputs": [
    {
     "data": {
      "text/plain": [
       "array([3, 3, 3, 3, 3, 3, 3, 3])"
      ]
     },
     "execution_count": 21,
     "metadata": {},
     "output_type": "execute_result"
    }
   ],
   "source": [
    "A+3"
   ]
  },
  {
   "cell_type": "code",
   "execution_count": 22,
   "id": "8f0d4a05",
   "metadata": {},
   "outputs": [],
   "source": [
    "mylist = [0,0,0]"
   ]
  },
  {
   "cell_type": "code",
   "execution_count": 23,
   "id": "937b0f7b",
   "metadata": {},
   "outputs": [
    {
     "ename": "TypeError",
     "evalue": "can only concatenate list (not \"int\") to list",
     "output_type": "error",
     "traceback": [
      "\u001b[0;31m---------------------------------------------------------------------------\u001b[0m",
      "\u001b[0;31mTypeError\u001b[0m                                 Traceback (most recent call last)",
      "\u001b[0;32m/var/folders/8j/gshrlmtn7dg4qtztj4d4t_w40000gn/T/ipykernel_54885/4015182290.py\u001b[0m in \u001b[0;36m<module>\u001b[0;34m\u001b[0m\n\u001b[0;32m----> 1\u001b[0;31m \u001b[0mmylist\u001b[0m\u001b[0;34m+\u001b[0m\u001b[0;36m3\u001b[0m\u001b[0;34m\u001b[0m\u001b[0;34m\u001b[0m\u001b[0m\n\u001b[0m",
      "\u001b[0;31mTypeError\u001b[0m: can only concatenate list (not \"int\") to list"
     ]
    }
   ],
   "source": [
    "mylist+3"
   ]
  },
  {
   "cell_type": "code",
   "execution_count": 24,
   "id": "61275d12",
   "metadata": {},
   "outputs": [],
   "source": [
    "def alt3(n):\n",
    "    A = np.zeros(n, dtype=np.int64)+3\n",
    "    return A"
   ]
  },
  {
   "cell_type": "code",
   "execution_count": 26,
   "id": "528cebb2",
   "metadata": {},
   "outputs": [],
   "source": [
    "A = alt3(5)"
   ]
  },
  {
   "cell_type": "code",
   "execution_count": 27,
   "id": "e1823438",
   "metadata": {},
   "outputs": [
    {
     "data": {
      "text/plain": [
       "array([3, 3, 3, 3, 3])"
      ]
     },
     "execution_count": 27,
     "metadata": {},
     "output_type": "execute_result"
    }
   ],
   "source": [
    "A"
   ]
  },
  {
   "cell_type": "code",
   "execution_count": 28,
   "id": "31889cc5",
   "metadata": {},
   "outputs": [
    {
     "data": {
      "text/plain": [
       "array([3, 3])"
      ]
     },
     "execution_count": 28,
     "metadata": {},
     "output_type": "execute_result"
    }
   ],
   "source": [
    "A[1::2]"
   ]
  },
  {
   "cell_type": "code",
   "execution_count": 29,
   "id": "13a6f4ad",
   "metadata": {},
   "outputs": [],
   "source": [
    "A[1::2] = 8"
   ]
  },
  {
   "cell_type": "code",
   "execution_count": 30,
   "id": "86c8b2db",
   "metadata": {},
   "outputs": [
    {
     "data": {
      "text/plain": [
       "array([3, 8, 3, 8, 3])"
      ]
     },
     "execution_count": 30,
     "metadata": {},
     "output_type": "execute_result"
    }
   ],
   "source": [
    "A"
   ]
  },
  {
   "cell_type": "code",
   "execution_count": 6,
   "id": "15aafa0a",
   "metadata": {},
   "outputs": [],
   "source": [
    "def alt3(n):\n",
    "    A = np.zeros(n, dtype=np.int64)+3\n",
    "    A[1::2] = 8\n",
    "    return A"
   ]
  },
  {
   "cell_type": "code",
   "execution_count": 32,
   "id": "e734ae46",
   "metadata": {},
   "outputs": [
    {
     "data": {
      "text/plain": [
       "array([3, 8, 3, 8, 3])"
      ]
     },
     "execution_count": 32,
     "metadata": {},
     "output_type": "execute_result"
    }
   ],
   "source": [
    "alt3(5)"
   ]
  },
  {
   "cell_type": "code",
   "execution_count": 33,
   "id": "e607d549",
   "metadata": {},
   "outputs": [
    {
     "data": {
      "text/plain": [
       "array([3, 8, 3, 8, 3, 8])"
      ]
     },
     "execution_count": 33,
     "metadata": {},
     "output_type": "execute_result"
    }
   ],
   "source": [
    "alt3(6)"
   ]
  },
  {
   "cell_type": "code",
   "execution_count": 34,
   "id": "5f328be2",
   "metadata": {},
   "outputs": [],
   "source": [
    "mylist = [3,1,4,1,5,9]"
   ]
  },
  {
   "cell_type": "code",
   "execution_count": 35,
   "id": "ec94e4f4",
   "metadata": {},
   "outputs": [
    {
     "data": {
      "text/plain": [
       "[3, 4, 5]"
      ]
     },
     "execution_count": 35,
     "metadata": {},
     "output_type": "execute_result"
    }
   ],
   "source": [
    "mylist[::2]"
   ]
  },
  {
   "cell_type": "code",
   "execution_count": 36,
   "id": "0a8ecdf1",
   "metadata": {},
   "outputs": [
    {
     "ename": "TypeError",
     "evalue": "must assign iterable to extended slice",
     "output_type": "error",
     "traceback": [
      "\u001b[0;31m---------------------------------------------------------------------------\u001b[0m",
      "\u001b[0;31mTypeError\u001b[0m                                 Traceback (most recent call last)",
      "\u001b[0;32m/var/folders/8j/gshrlmtn7dg4qtztj4d4t_w40000gn/T/ipykernel_54885/4194879934.py\u001b[0m in \u001b[0;36m<module>\u001b[0;34m\u001b[0m\n\u001b[0;32m----> 1\u001b[0;31m \u001b[0mmylist\u001b[0m\u001b[0;34m[\u001b[0m\u001b[0;34m:\u001b[0m\u001b[0;34m:\u001b[0m\u001b[0;36m2\u001b[0m\u001b[0;34m]\u001b[0m \u001b[0;34m=\u001b[0m \u001b[0;34m-\u001b[0m\u001b[0;36m17\u001b[0m\u001b[0;34m\u001b[0m\u001b[0;34m\u001b[0m\u001b[0m\n\u001b[0m",
      "\u001b[0;31mTypeError\u001b[0m: must assign iterable to extended slice"
     ]
    }
   ],
   "source": [
    "mylist[::2] = -17"
   ]
  },
  {
   "cell_type": "code",
   "execution_count": 37,
   "id": "fcaba40b",
   "metadata": {},
   "outputs": [],
   "source": [
    "myarray = np.array(mylist)"
   ]
  },
  {
   "cell_type": "code",
   "execution_count": 38,
   "id": "4b3cbe9f",
   "metadata": {},
   "outputs": [],
   "source": [
    "myarray[::2] = -17"
   ]
  },
  {
   "cell_type": "code",
   "execution_count": 39,
   "id": "f721fc4a",
   "metadata": {},
   "outputs": [
    {
     "data": {
      "text/plain": [
       "array([-17,   1, -17,   1, -17,   9])"
      ]
     },
     "execution_count": 39,
     "metadata": {},
     "output_type": "execute_result"
    }
   ],
   "source": [
    "myarray"
   ]
  },
  {
   "cell_type": "code",
   "execution_count": 40,
   "id": "bcd0abef",
   "metadata": {},
   "outputs": [],
   "source": [
    "mylist[::2] = [-17, -17, -17]"
   ]
  },
  {
   "cell_type": "code",
   "execution_count": 41,
   "id": "f9911fe7",
   "metadata": {},
   "outputs": [
    {
     "data": {
      "text/plain": [
       "[-17, 1, -17, 1, -17, 9]"
      ]
     },
     "execution_count": 41,
     "metadata": {},
     "output_type": "execute_result"
    }
   ],
   "source": [
    "mylist"
   ]
  },
  {
   "cell_type": "code",
   "execution_count": 42,
   "id": "d18da736",
   "metadata": {},
   "outputs": [
    {
     "ename": "ValueError",
     "evalue": "attempt to assign sequence of size 2 to extended slice of size 3",
     "output_type": "error",
     "traceback": [
      "\u001b[0;31m---------------------------------------------------------------------------\u001b[0m",
      "\u001b[0;31mValueError\u001b[0m                                Traceback (most recent call last)",
      "\u001b[0;32m/var/folders/8j/gshrlmtn7dg4qtztj4d4t_w40000gn/T/ipykernel_54885/777026901.py\u001b[0m in \u001b[0;36m<module>\u001b[0;34m\u001b[0m\n\u001b[0;32m----> 1\u001b[0;31m \u001b[0mmylist\u001b[0m\u001b[0;34m[\u001b[0m\u001b[0;34m:\u001b[0m\u001b[0;34m:\u001b[0m\u001b[0;36m2\u001b[0m\u001b[0;34m]\u001b[0m \u001b[0;34m=\u001b[0m \u001b[0;34m[\u001b[0m\u001b[0;34m-\u001b[0m\u001b[0;36m17\u001b[0m\u001b[0;34m,\u001b[0m \u001b[0;34m-\u001b[0m\u001b[0;36m17\u001b[0m\u001b[0;34m]\u001b[0m\u001b[0;34m\u001b[0m\u001b[0;34m\u001b[0m\u001b[0m\n\u001b[0m",
      "\u001b[0;31mValueError\u001b[0m: attempt to assign sequence of size 2 to extended slice of size 3"
     ]
    }
   ],
   "source": [
    "mylist[::2] = [-17, -17]"
   ]
  },
  {
   "cell_type": "code",
   "execution_count": 43,
   "id": "560007f2",
   "metadata": {},
   "outputs": [
    {
     "ename": "ValueError",
     "evalue": "attempt to assign sequence of size 4 to extended slice of size 3",
     "output_type": "error",
     "traceback": [
      "\u001b[0;31m---------------------------------------------------------------------------\u001b[0m",
      "\u001b[0;31mValueError\u001b[0m                                Traceback (most recent call last)",
      "\u001b[0;32m/var/folders/8j/gshrlmtn7dg4qtztj4d4t_w40000gn/T/ipykernel_54885/502164326.py\u001b[0m in \u001b[0;36m<module>\u001b[0;34m\u001b[0m\n\u001b[0;32m----> 1\u001b[0;31m \u001b[0mmylist\u001b[0m\u001b[0;34m[\u001b[0m\u001b[0;34m:\u001b[0m\u001b[0;34m:\u001b[0m\u001b[0;36m2\u001b[0m\u001b[0;34m]\u001b[0m \u001b[0;34m=\u001b[0m \u001b[0;34m[\u001b[0m\u001b[0;34m-\u001b[0m\u001b[0;36m17\u001b[0m\u001b[0;34m,\u001b[0m \u001b[0;34m-\u001b[0m\u001b[0;36m17\u001b[0m\u001b[0;34m,\u001b[0m \u001b[0;34m-\u001b[0m\u001b[0;36m17\u001b[0m\u001b[0;34m,\u001b[0m \u001b[0;34m-\u001b[0m\u001b[0;36m17\u001b[0m\u001b[0;34m]\u001b[0m\u001b[0;34m\u001b[0m\u001b[0;34m\u001b[0m\u001b[0m\n\u001b[0m",
      "\u001b[0;31mValueError\u001b[0m: attempt to assign sequence of size 4 to extended slice of size 3"
     ]
    }
   ],
   "source": [
    "mylist[::2] = [-17, -17, -17, -17]"
   ]
  },
  {
   "cell_type": "markdown",
   "id": "276e0678",
   "metadata": {},
   "source": [
    "## Timing different strategies"
   ]
  },
  {
   "cell_type": "code",
   "execution_count": 1,
   "id": "66cbb60d",
   "metadata": {},
   "outputs": [],
   "source": [
    "def alt3(n):\n",
    "    A = np.zeros(n, dtype=np.int64)+3\n",
    "    A[1::2] = 8\n",
    "    return A"
   ]
  },
  {
   "cell_type": "code",
   "execution_count": 2,
   "id": "e5543a2f",
   "metadata": {},
   "outputs": [
    {
     "ename": "NameError",
     "evalue": "name 'np' is not defined",
     "output_type": "error",
     "traceback": [
      "\u001b[0;31m---------------------------------------------------------------------------\u001b[0m",
      "\u001b[0;31mNameError\u001b[0m                                 Traceback (most recent call last)",
      "\u001b[0;32m/var/folders/8j/gshrlmtn7dg4qtztj4d4t_w40000gn/T/ipykernel_57482/3247321496.py\u001b[0m in \u001b[0;36m<module>\u001b[0;34m\u001b[0m\n\u001b[0;32m----> 1\u001b[0;31m \u001b[0malt3\u001b[0m\u001b[0;34m(\u001b[0m\u001b[0;36m10\u001b[0m\u001b[0;34m)\u001b[0m\u001b[0;34m\u001b[0m\u001b[0;34m\u001b[0m\u001b[0m\n\u001b[0m",
      "\u001b[0;32m/var/folders/8j/gshrlmtn7dg4qtztj4d4t_w40000gn/T/ipykernel_57482/3223429259.py\u001b[0m in \u001b[0;36malt3\u001b[0;34m(n)\u001b[0m\n\u001b[1;32m      1\u001b[0m \u001b[0;32mdef\u001b[0m \u001b[0malt3\u001b[0m\u001b[0;34m(\u001b[0m\u001b[0mn\u001b[0m\u001b[0;34m)\u001b[0m\u001b[0;34m:\u001b[0m\u001b[0;34m\u001b[0m\u001b[0;34m\u001b[0m\u001b[0m\n\u001b[0;32m----> 2\u001b[0;31m     \u001b[0mA\u001b[0m \u001b[0;34m=\u001b[0m \u001b[0mnp\u001b[0m\u001b[0;34m.\u001b[0m\u001b[0mzeros\u001b[0m\u001b[0;34m(\u001b[0m\u001b[0mn\u001b[0m\u001b[0;34m,\u001b[0m \u001b[0mdtype\u001b[0m\u001b[0;34m=\u001b[0m\u001b[0mnp\u001b[0m\u001b[0;34m.\u001b[0m\u001b[0mint64\u001b[0m\u001b[0;34m)\u001b[0m\u001b[0;34m+\u001b[0m\u001b[0;36m3\u001b[0m\u001b[0;34m\u001b[0m\u001b[0;34m\u001b[0m\u001b[0m\n\u001b[0m\u001b[1;32m      3\u001b[0m     \u001b[0mA\u001b[0m\u001b[0;34m[\u001b[0m\u001b[0;36m1\u001b[0m\u001b[0;34m:\u001b[0m\u001b[0;34m:\u001b[0m\u001b[0;36m2\u001b[0m\u001b[0;34m]\u001b[0m \u001b[0;34m=\u001b[0m \u001b[0;36m8\u001b[0m\u001b[0;34m\u001b[0m\u001b[0;34m\u001b[0m\u001b[0m\n\u001b[1;32m      4\u001b[0m     \u001b[0;32mreturn\u001b[0m \u001b[0mA\u001b[0m\u001b[0;34m\u001b[0m\u001b[0;34m\u001b[0m\u001b[0m\n",
      "\u001b[0;31mNameError\u001b[0m: name 'np' is not defined"
     ]
    }
   ],
   "source": [
    "alt3(10)"
   ]
  },
  {
   "cell_type": "code",
   "execution_count": 3,
   "id": "af18f7d5",
   "metadata": {},
   "outputs": [],
   "source": [
    "import numpy as np"
   ]
  },
  {
   "cell_type": "code",
   "execution_count": 4,
   "id": "ba410b83",
   "metadata": {},
   "outputs": [],
   "source": [
    "def alt3(n):\n",
    "    A = np.zeros(n, dtype=np.int64)+3\n",
    "    A[1::2] = 8\n",
    "    return A"
   ]
  },
  {
   "cell_type": "code",
   "execution_count": 5,
   "id": "a7ef5bbd",
   "metadata": {},
   "outputs": [
    {
     "data": {
      "text/plain": [
       "array([3, 8, 3, 8, 3, 8, 3, 8, 3, 8])"
      ]
     },
     "execution_count": 5,
     "metadata": {},
     "output_type": "execute_result"
    }
   ],
   "source": [
    "alt3(10)"
   ]
  },
  {
   "cell_type": "code",
   "execution_count": 6,
   "id": "661f2327",
   "metadata": {},
   "outputs": [],
   "source": [
    "def alt4(n):\n",
    "    mylist = []\n",
    "    for i in range(n):\n",
    "        mylist.append(3)\n",
    "    for i in range(1,n,2):\n",
    "        mylist[i] = 8\n",
    "    return mylist"
   ]
  },
  {
   "cell_type": "code",
   "execution_count": 7,
   "id": "5d1a4aaa",
   "metadata": {},
   "outputs": [
    {
     "data": {
      "text/plain": [
       "[3, 8, 3, 8, 3, 8, 3, 8, 3, 8]"
      ]
     },
     "execution_count": 7,
     "metadata": {},
     "output_type": "execute_result"
    }
   ],
   "source": [
    "alt4(10)"
   ]
  },
  {
   "cell_type": "code",
   "execution_count": 8,
   "id": "0eb390d3",
   "metadata": {},
   "outputs": [
    {
     "name": "stdout",
     "output_type": "stream",
     "text": [
      "1.18 µs ± 21.7 ns per loop (mean ± std. dev. of 7 runs, 1000000 loops each)\n"
     ]
    }
   ],
   "source": [
    "%%timeit\n",
    "alt4(10)"
   ]
  },
  {
   "cell_type": "code",
   "execution_count": 9,
   "id": "cf6a0db4",
   "metadata": {},
   "outputs": [],
   "source": [
    "import time"
   ]
  },
  {
   "cell_type": "code",
   "execution_count": 10,
   "id": "e16f18ae",
   "metadata": {},
   "outputs": [
    {
     "data": {
      "text/plain": [
       "1657444015.338846"
      ]
     },
     "execution_count": 10,
     "metadata": {},
     "output_type": "execute_result"
    }
   ],
   "source": [
    "time.time()"
   ]
  },
  {
   "cell_type": "code",
   "execution_count": 11,
   "id": "5efafc66",
   "metadata": {},
   "outputs": [
    {
     "data": {
      "text/plain": [
       "1657444029.606127"
      ]
     },
     "execution_count": 11,
     "metadata": {},
     "output_type": "execute_result"
    }
   ],
   "source": [
    "time.time()"
   ]
  },
  {
   "cell_type": "code",
   "execution_count": 12,
   "id": "b2d155eb",
   "metadata": {},
   "outputs": [],
   "source": [
    "start = time.time()\n",
    "alt4(10**3)\n",
    "end = time.time()\n",
    "t = end-start"
   ]
  },
  {
   "cell_type": "code",
   "execution_count": 13,
   "id": "5981d3ba",
   "metadata": {},
   "outputs": [
    {
     "data": {
      "text/plain": [
       "0.0003650188446044922"
      ]
     },
     "execution_count": 13,
     "metadata": {},
     "output_type": "execute_result"
    }
   ],
   "source": [
    "t"
   ]
  },
  {
   "cell_type": "code",
   "execution_count": 14,
   "id": "04d6fb91",
   "metadata": {},
   "outputs": [],
   "source": [
    "t = 0\n",
    "n = 100\n",
    "while t < 5:\n",
    "    n = n*2 # n *= 2\n",
    "    start = time.time()\n",
    "    alt4(n)\n",
    "    end = time.time()\n",
    "    t = end-start"
   ]
  },
  {
   "cell_type": "code",
   "execution_count": 15,
   "id": "be9e2871",
   "metadata": {},
   "outputs": [
    {
     "data": {
      "text/plain": [
       "5.250777959823608"
      ]
     },
     "execution_count": 15,
     "metadata": {},
     "output_type": "execute_result"
    }
   ],
   "source": [
    "t"
   ]
  },
  {
   "cell_type": "code",
   "execution_count": 16,
   "id": "19875655",
   "metadata": {},
   "outputs": [
    {
     "data": {
      "text/plain": [
       "52428800"
      ]
     },
     "execution_count": 16,
     "metadata": {},
     "output_type": "execute_result"
    }
   ],
   "source": [
    "n"
   ]
  },
  {
   "cell_type": "code",
   "execution_count": 17,
   "id": "6c7c0bec",
   "metadata": {},
   "outputs": [],
   "source": [
    "def alt3(n):\n",
    "    A = np.zeros(n, dtype=np.int64)+3\n",
    "    A[1::2] = 8\n",
    "    return A"
   ]
  },
  {
   "cell_type": "code",
   "execution_count": 18,
   "id": "e793532b",
   "metadata": {},
   "outputs": [
    {
     "name": "stdout",
     "output_type": "stream",
     "text": [
      "52428800\n",
      "0.26982712745666504\n"
     ]
    }
   ],
   "source": [
    "print(n)\n",
    "start = time.time()\n",
    "alt3(n)\n",
    "end = time.time()\n",
    "t = end-start\n",
    "print(t)"
   ]
  },
  {
   "cell_type": "code",
   "execution_count": 19,
   "id": "2afb1767",
   "metadata": {},
   "outputs": [],
   "source": [
    "def alt3b(n):\n",
    "    A = np.zeros(n, dtype=np.int64)+3\n",
    "    A[1::2] = 8\n",
    "    return list(A)"
   ]
  },
  {
   "cell_type": "code",
   "execution_count": 20,
   "id": "dd263db1",
   "metadata": {},
   "outputs": [
    {
     "data": {
      "text/plain": [
       "[3, 8, 3, 8, 3, 8, 3, 8, 3, 8]"
      ]
     },
     "execution_count": 20,
     "metadata": {},
     "output_type": "execute_result"
    }
   ],
   "source": [
    "alt3b(10)"
   ]
  },
  {
   "cell_type": "code",
   "execution_count": 21,
   "id": "7e3123f1",
   "metadata": {},
   "outputs": [
    {
     "name": "stdout",
     "output_type": "stream",
     "text": [
      "52428800\n",
      "4.124554872512817\n"
     ]
    }
   ],
   "source": [
    "print(n)\n",
    "start = time.time()\n",
    "alt3b(n)\n",
    "end = time.time()\n",
    "t = end-start\n",
    "print(t)"
   ]
  },
  {
   "cell_type": "code",
   "execution_count": 22,
   "id": "aab54ade",
   "metadata": {},
   "outputs": [],
   "source": [
    "def alt3c(n):\n",
    "    A = np.zeros(n, dtype=np.int64)+3\n",
    "    for i in range(1,n,2):\n",
    "        A[i] = 8\n",
    "    return A"
   ]
  },
  {
   "cell_type": "code",
   "execution_count": 23,
   "id": "5fead9e2",
   "metadata": {},
   "outputs": [
    {
     "name": "stdout",
     "output_type": "stream",
     "text": [
      "52428800\n",
      "2.886206865310669\n"
     ]
    }
   ],
   "source": [
    "print(n)\n",
    "start = time.time()\n",
    "alt3c(n)\n",
    "end = time.time()\n",
    "t = end-start\n",
    "print(t)"
   ]
  },
  {
   "cell_type": "code",
   "execution_count": null,
   "id": "fbd81167",
   "metadata": {},
   "outputs": [],
   "source": []
  }
 ],
 "metadata": {
  "kernelspec": {
   "display_name": "Python 3 (ipykernel)",
   "language": "python",
   "name": "python3"
  },
  "language_info": {
   "codemirror_mode": {
    "name": "ipython",
    "version": 3
   },
   "file_extension": ".py",
   "mimetype": "text/x-python",
   "name": "python",
   "nbconvert_exporter": "python",
   "pygments_lexer": "ipython3",
   "version": "3.7.12"
  }
 },
 "nbformat": 4,
 "nbformat_minor": 5
}
