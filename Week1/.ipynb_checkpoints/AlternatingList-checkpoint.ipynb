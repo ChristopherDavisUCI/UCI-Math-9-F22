{
 "cells": [
  {
   "cell_type": "markdown",
   "id": "fc0acb07",
   "metadata": {},
   "source": [
    "# Alternating list"
   ]
  },
  {
   "cell_type": "markdown",
   "id": "3cb01ef0",
   "metadata": {},
   "source": [
    "The two most important parts of this section are that we will see how to define a function in Python, and we will get our first introduction to NumPy (which is the most important Python library for Math 9).  We will also see how to use an `if` statement in Python.\n",
    "\n",
    "Our overall goal in this section is the following.\n",
    "\n",
    "**Goal**: Write a function which takes input `n` and as output returns the length `n` list `[3,8,3,8,...]`."
   ]
  },
  {
   "cell_type": "markdown",
   "id": "24dae947",
   "metadata": {},
   "source": [
    "## Writing a function that returns a constant list\n",
    "\n",
    "<iframe width=\"560\" height=\"315\" src=\"https://www.youtube.com/embed/0i8ZhAUQ6Ik\" title=\"YouTube video player\" frameborder=\"0\" allow=\"accelerometer; autoplay; clipboard-write; encrypted-media; gyroscope; picture-in-picture\" allowfullscreen></iframe>\n",
    "\n",
    "Before getting to our goal of defining a function that produces an alternating list, we will see how to define a function that returns a constant list of all 3s.  (Later in this course we will see a more elegant way to do this, using what is called \"list comprehension\", but here we will use a for loop.)\n",
    "\n",
    "**Preliminary Goal**: Write a function which takes input `n` and as output returns the length `n` list `[3,3,3,...]`."
   ]
  },
  {
   "cell_type": "markdown",
   "id": "41c08991-f397-40e7-94c9-9350e8c47ba0",
   "metadata": {},
   "source": [
    "Here is a first attempt to define a function `f`.  The overall syntax is correct (especially the indentations), but it does not return anything, as we can see by trying to call `f(5)`."
   ]
  },
  {
   "cell_type": "code",
   "execution_count": 1,
   "id": "b3829614",
   "metadata": {},
   "outputs": [],
   "source": [
    "def f(n):\n",
    "    mylist = []\n",
    "    for i in range(n):\n",
    "        mylist.append(3)"
   ]
  },
  {
   "cell_type": "code",
   "execution_count": 2,
   "id": "da762221",
   "metadata": {},
   "outputs": [],
   "source": [
    "f(5)"
   ]
  },
  {
   "cell_type": "markdown",
   "id": "be4ff2b4-6233-4c53-b7e1-bd290dbe0bfb",
   "metadata": {},
   "source": [
    "In the next definition we do correctly return something, but the indentation is wrong, the `return` statement should not be indented twice.  The second indentation is forcing the `return` statement to occur within the for loop, so we actually exit the function during the first step in the for loop."
   ]
  },
  {
   "cell_type": "code",
   "execution_count": 3,
   "id": "3dd5d954",
   "metadata": {},
   "outputs": [],
   "source": [
    "def f(n):\n",
    "    mylist = []\n",
    "    for i in range(n):\n",
    "        mylist.append(3)\n",
    "        return mylist"
   ]
  },
  {
   "cell_type": "code",
   "execution_count": 4,
   "id": "339126c6",
   "metadata": {},
   "outputs": [
    {
     "data": {
      "text/plain": [
       "[3]"
      ]
     },
     "execution_count": 4,
     "metadata": {},
     "output_type": "execute_result"
    }
   ],
   "source": [
    "f(5)"
   ]
  },
  {
   "cell_type": "markdown",
   "id": "23d0f4b6-628c-4ecb-bddb-39c1980d3d31",
   "metadata": {},
   "source": [
    "Here is a correct solution to our \"preliminary goal\" from above."
   ]
  },
  {
   "cell_type": "code",
   "execution_count": 5,
   "id": "60c7ea46",
   "metadata": {},
   "outputs": [],
   "source": [
    "def f(n):\n",
    "    mylist = []\n",
    "    for i in range(n):\n",
    "        mylist.append(3)\n",
    "    return mylist"
   ]
  },
  {
   "cell_type": "code",
   "execution_count": 6,
   "id": "474b4169",
   "metadata": {},
   "outputs": [
    {
     "data": {
      "text/plain": [
       "[3, 3, 3, 3, 3]"
      ]
     },
     "execution_count": 6,
     "metadata": {},
     "output_type": "execute_result"
    }
   ],
   "source": [
    "f(5)"
   ]
  },
  {
   "cell_type": "code",
   "execution_count": 7,
   "id": "8b5732d5",
   "metadata": {},
   "outputs": [
    {
     "data": {
      "text/plain": [
       "[3, 3, 3, 3, 3, 3]"
      ]
     },
     "execution_count": 7,
     "metadata": {},
     "output_type": "execute_result"
    }
   ],
   "source": [
    "f(6)"
   ]
  },
  {
   "cell_type": "markdown",
   "id": "75f7adc1-acfd-4de2-ac50-aeec941ae571",
   "metadata": {},
   "source": [
    "In the above, you should think of `n` as getting assigned to 5 or to 6, but that assignment is only happening locally within the function itself.  The value of `n` is not accessible to us outside of the function."
   ]
  },
  {
   "cell_type": "code",
   "execution_count": 8,
   "id": "9bdfd141",
   "metadata": {},
   "outputs": [
    {
     "ename": "NameError",
     "evalue": "name 'n' is not defined",
     "output_type": "error",
     "traceback": [
      "\u001b[0;31m---------------------------------------------------------------------------\u001b[0m",
      "\u001b[0;31mNameError\u001b[0m                                 Traceback (most recent call last)",
      "\u001b[0;32m/var/folders/8j/gshrlmtn7dg4qtztj4d4t_w40000gn/T/ipykernel_54375/1249512285.py\u001b[0m in \u001b[0;36m<module>\u001b[0;34m\u001b[0m\n\u001b[0;32m----> 1\u001b[0;31m \u001b[0mn\u001b[0m\u001b[0;34m\u001b[0m\u001b[0;34m\u001b[0m\u001b[0m\n\u001b[0m",
      "\u001b[0;31mNameError\u001b[0m: name 'n' is not defined"
     ]
    }
   ],
   "source": [
    "n"
   ]
  },
  {
   "cell_type": "markdown",
   "id": "d27f5e03-5fc5-4391-9646-b4fbfbbcb39d",
   "metadata": {},
   "source": [
    "Similarly, if we define `n` outside of the function (for example, `n = 100`), that does not have any influence on the `n` in the definition of the function.  Nor does the `n` inside of the function have any influence on the `n` that we have defined to be 100 outside of the function."
   ]
  },
  {
   "cell_type": "code",
   "execution_count": 9,
   "id": "a2c9b55e",
   "metadata": {},
   "outputs": [],
   "source": [
    "n = 100"
   ]
  },
  {
   "cell_type": "code",
   "execution_count": 10,
   "id": "79177973",
   "metadata": {},
   "outputs": [
    {
     "data": {
      "text/plain": [
       "[3, 3, 3, 3]"
      ]
     },
     "execution_count": 10,
     "metadata": {},
     "output_type": "execute_result"
    }
   ],
   "source": [
    "f(4)"
   ]
  },
  {
   "cell_type": "code",
   "execution_count": 11,
   "id": "cc9841a3",
   "metadata": {},
   "outputs": [
    {
     "data": {
      "text/plain": [
       "100"
      ]
     },
     "execution_count": 11,
     "metadata": {},
     "output_type": "execute_result"
    }
   ],
   "source": [
    "n"
   ]
  },
  {
   "cell_type": "markdown",
   "id": "57f5b9b4",
   "metadata": {},
   "source": [
    "## First version of the alternating function\n",
    "\n",
    "<iframe width=\"560\" height=\"315\" src=\"https://www.youtube.com/embed/38tGfF_wqIE\" title=\"YouTube video player\" frameborder=\"0\" allow=\"accelerometer; autoplay; clipboard-write; encrypted-media; gyroscope; picture-in-picture\" allowfullscreen></iframe>"
   ]
  },
  {
   "cell_type": "markdown",
   "id": "7112c42a-036c-4a4b-b071-61f1716a3b40",
   "metadata": {},
   "source": [
    "Now we will actually create the list that alternates between 3s and 8s.  Let's start by giving our function defined above a more descriptive name.  We will use `const` instead of `f`."
   ]
  },
  {
   "cell_type": "code",
   "execution_count": 1,
   "id": "b725cf7f",
   "metadata": {},
   "outputs": [],
   "source": [
    "def const(n):\n",
    "    mylist = []\n",
    "    for i in range(n):\n",
    "        mylist.append(3)\n",
    "    return mylist"
   ]
  },
  {
   "cell_type": "code",
   "execution_count": 2,
   "id": "16bbbdec",
   "metadata": {},
   "outputs": [
    {
     "data": {
      "text/plain": [
       "[3, 3, 3, 3, 3]"
      ]
     },
     "execution_count": 2,
     "metadata": {},
     "output_type": "execute_result"
    }
   ],
   "source": [
    "const(5)"
   ]
  },
  {
   "cell_type": "markdown",
   "id": "12a859dc-b050-4a61-99f5-1bfe8769846a",
   "metadata": {},
   "source": [
    "We're definitely not done yet, but let's just get started by using our `const` function above.  It is definitely better to use the name `const` in the code, rather than copying the code from above."
   ]
  },
  {
   "cell_type": "code",
   "execution_count": 3,
   "id": "d7b92663",
   "metadata": {},
   "outputs": [],
   "source": [
    "def alt1(n):\n",
    "    mylist = const(n)\n",
    "    return mylist"
   ]
  },
  {
   "cell_type": "code",
   "execution_count": 4,
   "id": "05715155",
   "metadata": {},
   "outputs": [
    {
     "data": {
      "text/plain": [
       "[3, 3, 3, 3]"
      ]
     },
     "execution_count": 4,
     "metadata": {},
     "output_type": "execute_result"
    }
   ],
   "source": [
    "alt1(4)"
   ]
  },
  {
   "cell_type": "markdown",
   "id": "be9e9386-70d2-4292-9796-bb3570749b83",
   "metadata": {},
   "source": [
    "Think of the next function as first making a constant list of all 3s, and then replacing all the odd-indexed elements by 8.  Using `range(1,n,2)` is a nice way to get access to those odd indices."
   ]
  },
  {
   "cell_type": "code",
   "execution_count": 2,
   "id": "5a12e4b3",
   "metadata": {},
   "outputs": [],
   "source": [
    "def alt1(n):\n",
    "    mylist = const(n)\n",
    "    for i in range(1,n,2):\n",
    "        mylist[i] = 8\n",
    "    return mylist"
   ]
  },
  {
   "cell_type": "markdown",
   "id": "8613a20a-94f2-4c37-96d6-d5c66f3d6bd4",
   "metadata": {},
   "source": [
    "Let's check that the code works for both an even input as well as for an odd input."
   ]
  },
  {
   "cell_type": "code",
   "execution_count": 3,
   "id": "6702370e",
   "metadata": {},
   "outputs": [
    {
     "data": {
      "text/plain": [
       "[3, 8, 3, 8, 3, 8, 3, 8, 3, 8]"
      ]
     },
     "execution_count": 3,
     "metadata": {},
     "output_type": "execute_result"
    }
   ],
   "source": [
    "alt1(10)"
   ]
  },
  {
   "cell_type": "code",
   "execution_count": 7,
   "id": "1d59e1a9",
   "metadata": {},
   "outputs": [
    {
     "data": {
      "text/plain": [
       "[3, 8, 3, 8, 3, 8, 3, 8, 3, 8, 3]"
      ]
     },
     "execution_count": 7,
     "metadata": {},
     "output_type": "execute_result"
    }
   ],
   "source": [
    "alt1(11)"
   ]
  },
  {
   "cell_type": "markdown",
   "id": "61547d06",
   "metadata": {},
   "source": [
    "## Checking if the index is even or odd\n",
    "\n",
    "<iframe width=\"560\" height=\"315\" src=\"https://www.youtube.com/embed/7iGgfOrsmRc\" title=\"YouTube video player\" frameborder=\"0\" allow=\"accelerometer; autoplay; clipboard-write; encrypted-media; gyroscope; picture-in-picture\" allowfullscreen></iframe>"
   ]
  },
  {
   "cell_type": "markdown",
   "id": "e39e7e53-be81-4e24-9857-e9f9f044c83a",
   "metadata": {},
   "source": [
    "Here we'll write a different version of the function, which will use an if statement to check if the index is even or odd.  Notice that the above `alt1` code is longer than it looks, since it is also using the `const` function that we wrote earlier.\n",
    "\n",
    "Let's first see how to check if an integer is even or odd.  We use the `%` operator.  If you've seen modular arithmetic (for example in Math 13), `i%2` is like reducing $i$ modulo 2.  Another way to think about it is that the result is the remainder obtained when dividing $i$ by 2."
   ]
  },
  {
   "cell_type": "code",
   "execution_count": 1,
   "id": "169b19d0",
   "metadata": {},
   "outputs": [],
   "source": [
    "i = 7"
   ]
  },
  {
   "cell_type": "code",
   "execution_count": 2,
   "id": "31afbd7b",
   "metadata": {},
   "outputs": [
    {
     "data": {
      "text/plain": [
       "1"
      ]
     },
     "execution_count": 2,
     "metadata": {},
     "output_type": "execute_result"
    }
   ],
   "source": [
    "i%2"
   ]
  },
  {
   "cell_type": "code",
   "execution_count": 3,
   "id": "3858e9ac",
   "metadata": {},
   "outputs": [
    {
     "data": {
      "text/plain": [
       "0"
      ]
     },
     "execution_count": 3,
     "metadata": {},
     "output_type": "execute_result"
    }
   ],
   "source": [
    "6%2"
   ]
  },
  {
   "cell_type": "markdown",
   "id": "36ff0833-741c-4311-b919-002286555e05",
   "metadata": {},
   "source": [
    "We can check if an integer `i` is even by checking `i%2 == 0`.  We use an `if` statement, which works very similarly to in Matlab."
   ]
  },
  {
   "cell_type": "code",
   "execution_count": 4,
   "id": "494a6d80",
   "metadata": {},
   "outputs": [],
   "source": [
    "def alt2(n):\n",
    "    mylist = []\n",
    "    for i in range(n):\n",
    "        if i%2 == 0:\n",
    "            mylist.append(3)\n",
    "        else:\n",
    "            mylist.append(8)\n",
    "    return mylist"
   ]
  },
  {
   "cell_type": "code",
   "execution_count": 5,
   "id": "f8a2750b",
   "metadata": {},
   "outputs": [
    {
     "data": {
      "text/plain": [
       "[3, 8, 3, 8, 3]"
      ]
     },
     "execution_count": 5,
     "metadata": {},
     "output_type": "execute_result"
    }
   ],
   "source": [
    "alt2(5)"
   ]
  },
  {
   "cell_type": "code",
   "execution_count": 6,
   "id": "15b77c18",
   "metadata": {},
   "outputs": [
    {
     "data": {
      "text/plain": [
       "[3, 8, 3, 8, 3, 8]"
      ]
     },
     "execution_count": 6,
     "metadata": {},
     "output_type": "execute_result"
    }
   ],
   "source": [
    "alt2(6)"
   ]
  },
  {
   "cell_type": "markdown",
   "id": "31b6f58a-1bc1-4254-935e-f3fda0e99c62",
   "metadata": {},
   "source": [
    "Here is a very similar version, where instead of `else` we use `elif`.  When using `elif`, you need to specify a condition.  These two versions do the same thing, because if the integer `i` is not even, it is always going to be odd.  You can have as many `elif` statements as you want, although in this case, `i%2 == 0` and `i%2 == 1` exhaust all the possibilities, so in this case, no later `elif` statements (nor `else` statements) would ever be reached."
   ]
  },
  {
   "cell_type": "code",
   "execution_count": 4,
   "id": "11115879",
   "metadata": {},
   "outputs": [],
   "source": [
    "def alt2(n):\n",
    "    mylist = []\n",
    "    for i in range(n):\n",
    "        if i%2 == 0:\n",
    "            mylist.append(3)\n",
    "        elif i%2 == 1:\n",
    "            mylist.append(8)\n",
    "    return mylist"
   ]
  },
  {
   "cell_type": "code",
   "execution_count": 11,
   "id": "f17a1b8a",
   "metadata": {},
   "outputs": [
    {
     "data": {
      "text/plain": [
       "[3, 8, 3, 8, 3]"
      ]
     },
     "execution_count": 11,
     "metadata": {},
     "output_type": "execute_result"
    }
   ],
   "source": [
    "alt2(5)"
   ]
  },
  {
   "cell_type": "code",
   "execution_count": 12,
   "id": "0112e564",
   "metadata": {},
   "outputs": [
    {
     "data": {
      "text/plain": [
       "[3, 8, 3, 8, 3, 8]"
      ]
     },
     "execution_count": 12,
     "metadata": {},
     "output_type": "execute_result"
    }
   ],
   "source": [
    "alt2(6)"
   ]
  },
  {
   "cell_type": "markdown",
   "id": "fcc83f1c",
   "metadata": {},
   "source": [
    "(Using-NumPy)=\n",
    "## Using NumPy\n",
    "\n",
    "<iframe width=\"560\" height=\"315\" src=\"https://www.youtube.com/embed/wz2mRdkVmcI\" title=\"YouTube video player\" frameborder=\"0\" allow=\"accelerometer; autoplay; clipboard-write; encrypted-media; gyroscope; picture-in-picture\" allowfullscreen></iframe>"
   ]
  },
  {
   "cell_type": "markdown",
   "id": "cde7a14b-fdf7-4cd1-a73c-c6cd4c2f570b",
   "metadata": {},
   "source": [
    "The most important Python library for Math 9 is NumPy.  Because this is an external library, it needs to be installed on your computer before it can be used.  Once it is installed, it can be imported as in the following cell.  The convention (which we will always follow) is to abbreviate the library by `np`."
   ]
  },
  {
   "cell_type": "code",
   "execution_count": 8,
   "id": "8d7f2f4c",
   "metadata": {},
   "outputs": [],
   "source": [
    "import numpy as np"
   ]
  },
  {
   "cell_type": "markdown",
   "id": "0c6f92d9-cd4b-4c43-a89a-5d8a85a32995",
   "metadata": {},
   "source": [
    "Many parts of NumPy are very similar to Matlab.  For example, NumPy has a `zeros` function, just like Matlab.  We write `np.zeros` rather than just `zeros`, so that Python knows this function is defined in the NumPy library."
   ]
  },
  {
   "cell_type": "code",
   "execution_count": 3,
   "id": "c5d57541",
   "metadata": {},
   "outputs": [],
   "source": [
    "A = np.zeros((3,5))"
   ]
  },
  {
   "cell_type": "markdown",
   "id": "8d524a05-2923-422a-8bcd-e3a93a858417",
   "metadata": {},
   "source": [
    "This `A` is yet another type of object in Python.  It is a type defined in the NumPy library, called `ndarray`.  The \"nd\" portion stands for \"n-dimensional\".  In this case, `A` is two dimensional (it has a dimension of rows and a dimension of columns)."
   ]
  },
  {
   "cell_type": "code",
   "execution_count": 4,
   "id": "3b7042d0",
   "metadata": {},
   "outputs": [
    {
     "data": {
      "text/plain": [
       "numpy.ndarray"
      ]
     },
     "execution_count": 4,
     "metadata": {},
     "output_type": "execute_result"
    }
   ],
   "source": [
    "type(A)"
   ]
  },
  {
   "cell_type": "code",
   "execution_count": 5,
   "id": "394f110a",
   "metadata": {},
   "outputs": [
    {
     "data": {
      "text/plain": [
       "array([[0., 0., 0., 0., 0.],\n",
       "       [0., 0., 0., 0., 0.],\n",
       "       [0., 0., 0., 0., 0.]])"
      ]
     },
     "execution_count": 5,
     "metadata": {},
     "output_type": "execute_result"
    }
   ],
   "source": [
    "A"
   ]
  },
  {
   "cell_type": "code",
   "execution_count": 6,
   "id": "730e8a15",
   "metadata": {},
   "outputs": [
    {
     "data": {
      "text/plain": [
       "(3, 5)"
      ]
     },
     "execution_count": 6,
     "metadata": {},
     "output_type": "execute_result"
    }
   ],
   "source": [
    "A.shape"
   ]
  },
  {
   "cell_type": "markdown",
   "id": "d68f6b88-3997-457c-885e-0789b31d2811",
   "metadata": {},
   "source": [
    "We are going to make a new version of our alternating function, this time using NumPy.  As a first step, here is a function that returns a length `n` NumPy array of all zeros."
   ]
  },
  {
   "cell_type": "code",
   "execution_count": 7,
   "id": "34c576e7",
   "metadata": {},
   "outputs": [],
   "source": [
    "def alt3(n):\n",
    "    A = np.zeros(n)\n",
    "    return A"
   ]
  },
  {
   "cell_type": "code",
   "execution_count": 9,
   "id": "08a4e8b8",
   "metadata": {},
   "outputs": [
    {
     "data": {
      "text/plain": [
       "array([0., 0., 0., 0., 0., 0., 0.])"
      ]
     },
     "execution_count": 9,
     "metadata": {},
     "output_type": "execute_result"
    }
   ],
   "source": [
    "alt3(7)"
   ]
  },
  {
   "cell_type": "code",
   "execution_count": 10,
   "id": "b7c821a3",
   "metadata": {},
   "outputs": [
    {
     "data": {
      "text/plain": [
       "0.0"
      ]
     },
     "execution_count": 10,
     "metadata": {},
     "output_type": "execute_result"
    }
   ],
   "source": [
    "alt3(7)[0]"
   ]
  },
  {
   "cell_type": "markdown",
   "id": "66d4cc2c-5a1e-4e4a-9402-d00b669e0ad0",
   "metadata": {},
   "source": [
    "The decimal points are a hint that these zeros are floats rather than integers.  Just for practice with data types, let's specify that `A` should hold integers, not floats."
   ]
  },
  {
   "cell_type": "code",
   "execution_count": 11,
   "id": "49d9b877",
   "metadata": {},
   "outputs": [
    {
     "data": {
      "text/plain": [
       "numpy.float64"
      ]
     },
     "execution_count": 11,
     "metadata": {},
     "output_type": "execute_result"
    }
   ],
   "source": [
    "type(alt3(7)[0])"
   ]
  },
  {
   "cell_type": "code",
   "execution_count": 12,
   "id": "a54acfa2",
   "metadata": {},
   "outputs": [],
   "source": [
    "A = alt3(7)"
   ]
  },
  {
   "cell_type": "code",
   "execution_count": 13,
   "id": "56a92d15",
   "metadata": {},
   "outputs": [
    {
     "data": {
      "text/plain": [
       "dtype('float64')"
      ]
     },
     "execution_count": 13,
     "metadata": {},
     "output_type": "execute_result"
    }
   ],
   "source": [
    "A.dtype"
   ]
  },
  {
   "cell_type": "markdown",
   "id": "59250fad-b956-4bda-9cb7-863df046511c",
   "metadata": {},
   "source": [
    "To change that data type from floats to integers, we will use the `dtype` argument."
   ]
  },
  {
   "cell_type": "code",
   "execution_count": 15,
   "id": "2486faa7",
   "metadata": {},
   "outputs": [
    {
     "name": "stdout",
     "output_type": "stream",
     "text": [
      "Help on built-in function zeros in module numpy:\n",
      "\n",
      "zeros(...)\n",
      "    zeros(shape, dtype=float, order='C', *, like=None)\n",
      "    \n",
      "    Return a new array of given shape and type, filled with zeros.\n",
      "    \n",
      "    Parameters\n",
      "    ----------\n",
      "    shape : int or tuple of ints\n",
      "        Shape of the new array, e.g., ``(2, 3)`` or ``2``.\n",
      "    dtype : data-type, optional\n",
      "        The desired data-type for the array, e.g., `numpy.int8`.  Default is\n",
      "        `numpy.float64`.\n",
      "    order : {'C', 'F'}, optional, default: 'C'\n",
      "        Whether to store multi-dimensional data in row-major\n",
      "        (C-style) or column-major (Fortran-style) order in\n",
      "        memory.\n",
      "    like : array_like\n",
      "        Reference object to allow the creation of arrays which are not\n",
      "        NumPy arrays. If an array-like passed in as ``like`` supports\n",
      "        the ``__array_function__`` protocol, the result will be defined\n",
      "        by it. In this case, it ensures the creation of an array object\n",
      "        compatible with that passed in via this argument.\n",
      "    \n",
      "        .. versionadded:: 1.20.0\n",
      "    \n",
      "    Returns\n",
      "    -------\n",
      "    out : ndarray\n",
      "        Array of zeros with the given shape, dtype, and order.\n",
      "    \n",
      "    See Also\n",
      "    --------\n",
      "    zeros_like : Return an array of zeros with shape and type of input.\n",
      "    empty : Return a new uninitialized array.\n",
      "    ones : Return a new array setting values to one.\n",
      "    full : Return a new array of given shape filled with value.\n",
      "    \n",
      "    Examples\n",
      "    --------\n",
      "    >>> np.zeros(5)\n",
      "    array([ 0.,  0.,  0.,  0.,  0.])\n",
      "    \n",
      "    >>> np.zeros((5,), dtype=int)\n",
      "    array([0, 0, 0, 0, 0])\n",
      "    \n",
      "    >>> np.zeros((2, 1))\n",
      "    array([[ 0.],\n",
      "           [ 0.]])\n",
      "    \n",
      "    >>> s = (2,2)\n",
      "    >>> np.zeros(s)\n",
      "    array([[ 0.,  0.],\n",
      "           [ 0.,  0.]])\n",
      "    \n",
      "    >>> np.zeros((2,), dtype=[('x', 'i4'), ('y', 'i4')]) # custom dtype\n",
      "    array([(0, 0), (0, 0)],\n",
      "          dtype=[('x', '<i4'), ('y', '<i4')])\n",
      "\n"
     ]
    }
   ],
   "source": [
    "help(np.zeros)"
   ]
  },
  {
   "cell_type": "markdown",
   "id": "2bef426d-6451-470c-a76f-cc2052dc4284",
   "metadata": {},
   "source": [
    "Here we specify that the `dtype` should be 64-bit integers."
   ]
  },
  {
   "cell_type": "code",
   "execution_count": 16,
   "id": "f58034ff",
   "metadata": {},
   "outputs": [],
   "source": [
    "def alt3(n):\n",
    "    A = np.zeros(n, dtype=np.int64)\n",
    "    return A"
   ]
  },
  {
   "cell_type": "code",
   "execution_count": 17,
   "id": "794875a1",
   "metadata": {},
   "outputs": [
    {
     "data": {
      "text/plain": [
       "array([0, 0, 0, 0, 0, 0, 0, 0])"
      ]
     },
     "execution_count": 17,
     "metadata": {},
     "output_type": "execute_result"
    }
   ],
   "source": [
    "alt3(8)"
   ]
  },
  {
   "cell_type": "code",
   "execution_count": 19,
   "id": "bcbca656",
   "metadata": {},
   "outputs": [],
   "source": [
    "A = alt3(8)"
   ]
  },
  {
   "cell_type": "code",
   "execution_count": 20,
   "id": "2b244a5c",
   "metadata": {},
   "outputs": [
    {
     "data": {
      "text/plain": [
       "array([0, 0, 0, 0, 0, 0, 0, 0])"
      ]
     },
     "execution_count": 20,
     "metadata": {},
     "output_type": "execute_result"
    }
   ],
   "source": [
    "A"
   ]
  },
  {
   "cell_type": "markdown",
   "id": "12c43362-ac69-4308-aa51-83ac413382f1",
   "metadata": {},
   "source": [
    "NumPy supports many types of elementwise operations, just like Matlab."
   ]
  },
  {
   "cell_type": "code",
   "execution_count": 21,
   "id": "1d5fb22e",
   "metadata": {},
   "outputs": [
    {
     "data": {
      "text/plain": [
       "array([3, 3, 3, 3, 3, 3, 3, 3])"
      ]
     },
     "execution_count": 21,
     "metadata": {},
     "output_type": "execute_result"
    }
   ],
   "source": [
    "A+3"
   ]
  },
  {
   "cell_type": "markdown",
   "id": "2b478ea4-7e06-4ecc-b548-59582fdfcd73",
   "metadata": {},
   "source": [
    "Most standard types defined in Python do not support this sort of elementwise operation.  For example, `list` does not."
   ]
  },
  {
   "cell_type": "code",
   "execution_count": 22,
   "id": "8f0d4a05",
   "metadata": {
    "tags": []
   },
   "outputs": [],
   "source": [
    "mylist = [0,0,0]"
   ]
  },
  {
   "cell_type": "code",
   "execution_count": 23,
   "id": "937b0f7b",
   "metadata": {},
   "outputs": [
    {
     "ename": "TypeError",
     "evalue": "can only concatenate list (not \"int\") to list",
     "output_type": "error",
     "traceback": [
      "\u001b[0;31m---------------------------------------------------------------------------\u001b[0m",
      "\u001b[0;31mTypeError\u001b[0m                                 Traceback (most recent call last)",
      "\u001b[0;32m/var/folders/8j/gshrlmtn7dg4qtztj4d4t_w40000gn/T/ipykernel_54885/4015182290.py\u001b[0m in \u001b[0;36m<module>\u001b[0;34m\u001b[0m\n\u001b[0;32m----> 1\u001b[0;31m \u001b[0mmylist\u001b[0m\u001b[0;34m+\u001b[0m\u001b[0;36m3\u001b[0m\u001b[0;34m\u001b[0m\u001b[0;34m\u001b[0m\u001b[0m\n\u001b[0m",
      "\u001b[0;31mTypeError\u001b[0m: can only concatenate list (not \"int\") to list"
     ]
    }
   ],
   "source": [
    "mylist+3"
   ]
  },
  {
   "cell_type": "code",
   "execution_count": 24,
   "id": "61275d12",
   "metadata": {},
   "outputs": [],
   "source": [
    "def alt3(n):\n",
    "    A = np.zeros(n, dtype=np.int64)+3\n",
    "    return A"
   ]
  },
  {
   "cell_type": "code",
   "execution_count": 26,
   "id": "528cebb2",
   "metadata": {},
   "outputs": [],
   "source": [
    "A = alt3(5)"
   ]
  },
  {
   "cell_type": "markdown",
   "id": "20a6a627-8c9a-4d7c-b4de-fe7499dadf71",
   "metadata": {
    "tags": []
   },
   "source": [
    "We now have a version of the alternating function that returns a NumPy array of all 3s."
   ]
  },
  {
   "cell_type": "code",
   "execution_count": 27,
   "id": "e1823438",
   "metadata": {},
   "outputs": [
    {
     "data": {
      "text/plain": [
       "array([3, 3, 3, 3, 3])"
      ]
     },
     "execution_count": 27,
     "metadata": {},
     "output_type": "execute_result"
    }
   ],
   "source": [
    "A"
   ]
  },
  {
   "cell_type": "code",
   "execution_count": 28,
   "id": "31889cc5",
   "metadata": {},
   "outputs": [
    {
     "data": {
      "text/plain": [
       "array([3, 3])"
      ]
     },
     "execution_count": 28,
     "metadata": {},
     "output_type": "execute_result"
    }
   ],
   "source": [
    "A[1::2]"
   ]
  },
  {
   "cell_type": "markdown",
   "id": "01edd763-bceb-4d1a-8c14-305c0d42d9f5",
   "metadata": {},
   "source": [
    "Here is a convenient syntax (again, it does not work for lists) for setting the odd-indexed elements of `A` to be 8."
   ]
  },
  {
   "cell_type": "code",
   "execution_count": null,
   "id": "13a6f4ad",
   "metadata": {},
   "outputs": [],
   "source": [
    "A[1::2] = 8"
   ]
  },
  {
   "cell_type": "code",
   "execution_count": 30,
   "id": "86c8b2db",
   "metadata": {},
   "outputs": [
    {
     "data": {
      "text/plain": [
       "array([3, 8, 3, 8, 3])"
      ]
     },
     "execution_count": 30,
     "metadata": {},
     "output_type": "execute_result"
    }
   ],
   "source": [
    "A"
   ]
  },
  {
   "cell_type": "code",
   "execution_count": 6,
   "id": "15aafa0a",
   "metadata": {},
   "outputs": [],
   "source": [
    "def alt3(n):\n",
    "    A = np.zeros(n, dtype=np.int64)+3\n",
    "    A[1::2] = 8\n",
    "    return A"
   ]
  },
  {
   "cell_type": "markdown",
   "id": "86971bcd-27ac-4701-890b-7f8f8d6728a0",
   "metadata": {},
   "source": [
    "It's always a good idea, when writing a function like this, to test it on both an even input and on an odd input."
   ]
  },
  {
   "cell_type": "code",
   "execution_count": 32,
   "id": "e734ae46",
   "metadata": {},
   "outputs": [
    {
     "data": {
      "text/plain": [
       "array([3, 8, 3, 8, 3])"
      ]
     },
     "execution_count": 32,
     "metadata": {},
     "output_type": "execute_result"
    }
   ],
   "source": [
    "alt3(5)"
   ]
  },
  {
   "cell_type": "code",
   "execution_count": 33,
   "id": "e607d549",
   "metadata": {},
   "outputs": [
    {
     "data": {
      "text/plain": [
       "array([3, 8, 3, 8, 3, 8])"
      ]
     },
     "execution_count": 33,
     "metadata": {},
     "output_type": "execute_result"
    }
   ],
   "source": [
    "alt3(6)"
   ]
  },
  {
   "cell_type": "code",
   "execution_count": 34,
   "id": "5f328be2",
   "metadata": {},
   "outputs": [],
   "source": [
    "mylist = [3,1,4,1,5,9]"
   ]
  },
  {
   "cell_type": "code",
   "execution_count": 35,
   "id": "ec94e4f4",
   "metadata": {},
   "outputs": [
    {
     "data": {
      "text/plain": [
       "[3, 4, 5]"
      ]
     },
     "execution_count": 35,
     "metadata": {},
     "output_type": "execute_result"
    }
   ],
   "source": [
    "mylist[::2]"
   ]
  },
  {
   "cell_type": "code",
   "execution_count": 36,
   "id": "0a8ecdf1",
   "metadata": {},
   "outputs": [
    {
     "ename": "TypeError",
     "evalue": "must assign iterable to extended slice",
     "output_type": "error",
     "traceback": [
      "\u001b[0;31m---------------------------------------------------------------------------\u001b[0m",
      "\u001b[0;31mTypeError\u001b[0m                                 Traceback (most recent call last)",
      "\u001b[0;32m/var/folders/8j/gshrlmtn7dg4qtztj4d4t_w40000gn/T/ipykernel_54885/4194879934.py\u001b[0m in \u001b[0;36m<module>\u001b[0;34m\u001b[0m\n\u001b[0;32m----> 1\u001b[0;31m \u001b[0mmylist\u001b[0m\u001b[0;34m[\u001b[0m\u001b[0;34m:\u001b[0m\u001b[0;34m:\u001b[0m\u001b[0;36m2\u001b[0m\u001b[0;34m]\u001b[0m \u001b[0;34m=\u001b[0m \u001b[0;34m-\u001b[0m\u001b[0;36m17\u001b[0m\u001b[0;34m\u001b[0m\u001b[0;34m\u001b[0m\u001b[0m\n\u001b[0m",
      "\u001b[0;31mTypeError\u001b[0m: must assign iterable to extended slice"
     ]
    }
   ],
   "source": [
    "mylist[::2] = -17"
   ]
  },
  {
   "cell_type": "markdown",
   "id": "33ea122e-00d9-478f-8e40-0264fc6701ab",
   "metadata": {},
   "source": [
    "Here we convert `mylist` to a NumPy array."
   ]
  },
  {
   "cell_type": "code",
   "execution_count": 37,
   "id": "fcaba40b",
   "metadata": {},
   "outputs": [],
   "source": [
    "myarray = np.array(mylist)"
   ]
  },
  {
   "cell_type": "markdown",
   "id": "399595fe-2349-4b70-b375-31cf0137dde7",
   "metadata": {},
   "source": [
    "Now, because `myarray` is a NumPy array, we can use the slice syntax to set the even-indexed entries to be equal to -17."
   ]
  },
  {
   "cell_type": "code",
   "execution_count": 38,
   "id": "4b3cbe9f",
   "metadata": {
    "tags": []
   },
   "outputs": [],
   "source": [
    "myarray[::2] = -17"
   ]
  },
  {
   "cell_type": "code",
   "execution_count": 39,
   "id": "f721fc4a",
   "metadata": {},
   "outputs": [
    {
     "data": {
      "text/plain": [
       "array([-17,   1, -17,   1, -17,   9])"
      ]
     },
     "execution_count": 39,
     "metadata": {},
     "output_type": "execute_result"
    }
   ],
   "source": [
    "myarray"
   ]
  },
  {
   "cell_type": "markdown",
   "id": "e3cff30b-fcb8-4858-8019-bd467006f5b5",
   "metadata": {},
   "source": [
    "If you really want to make this assignment using `mylist`, you need the right-hand side to be the same length as the number of slots you are trying to fill in.  (So the NumPy version is much easier to use.)"
   ]
  },
  {
   "cell_type": "code",
   "execution_count": 40,
   "id": "bcd0abef",
   "metadata": {},
   "outputs": [],
   "source": [
    "mylist[::2] = [-17, -17, -17]"
   ]
  },
  {
   "cell_type": "code",
   "execution_count": 41,
   "id": "f9911fe7",
   "metadata": {},
   "outputs": [
    {
     "data": {
      "text/plain": [
       "[-17, 1, -17, 1, -17, 9]"
      ]
     },
     "execution_count": 41,
     "metadata": {},
     "output_type": "execute_result"
    }
   ],
   "source": [
    "mylist"
   ]
  },
  {
   "cell_type": "markdown",
   "id": "c3754594-cb78-440c-b214-2670e71cf1ba",
   "metadata": {},
   "source": [
    "If you use the wrong number of terms on the right side, you will get an error."
   ]
  },
  {
   "cell_type": "code",
   "execution_count": 42,
   "id": "d18da736",
   "metadata": {
    "tags": []
   },
   "outputs": [
    {
     "ename": "ValueError",
     "evalue": "attempt to assign sequence of size 2 to extended slice of size 3",
     "output_type": "error",
     "traceback": [
      "\u001b[0;31m---------------------------------------------------------------------------\u001b[0m",
      "\u001b[0;31mValueError\u001b[0m                                Traceback (most recent call last)",
      "\u001b[0;32m/var/folders/8j/gshrlmtn7dg4qtztj4d4t_w40000gn/T/ipykernel_54885/777026901.py\u001b[0m in \u001b[0;36m<module>\u001b[0;34m\u001b[0m\n\u001b[0;32m----> 1\u001b[0;31m \u001b[0mmylist\u001b[0m\u001b[0;34m[\u001b[0m\u001b[0;34m:\u001b[0m\u001b[0;34m:\u001b[0m\u001b[0;36m2\u001b[0m\u001b[0;34m]\u001b[0m \u001b[0;34m=\u001b[0m \u001b[0;34m[\u001b[0m\u001b[0;34m-\u001b[0m\u001b[0;36m17\u001b[0m\u001b[0;34m,\u001b[0m \u001b[0;34m-\u001b[0m\u001b[0;36m17\u001b[0m\u001b[0;34m]\u001b[0m\u001b[0;34m\u001b[0m\u001b[0;34m\u001b[0m\u001b[0m\n\u001b[0m",
      "\u001b[0;31mValueError\u001b[0m: attempt to assign sequence of size 2 to extended slice of size 3"
     ]
    }
   ],
   "source": [
    "mylist[::2] = [-17, -17]"
   ]
  },
  {
   "cell_type": "code",
   "execution_count": 43,
   "id": "560007f2",
   "metadata": {},
   "outputs": [
    {
     "ename": "ValueError",
     "evalue": "attempt to assign sequence of size 4 to extended slice of size 3",
     "output_type": "error",
     "traceback": [
      "\u001b[0;31m---------------------------------------------------------------------------\u001b[0m",
      "\u001b[0;31mValueError\u001b[0m                                Traceback (most recent call last)",
      "\u001b[0;32m/var/folders/8j/gshrlmtn7dg4qtztj4d4t_w40000gn/T/ipykernel_54885/502164326.py\u001b[0m in \u001b[0;36m<module>\u001b[0;34m\u001b[0m\n\u001b[0;32m----> 1\u001b[0;31m \u001b[0mmylist\u001b[0m\u001b[0;34m[\u001b[0m\u001b[0;34m:\u001b[0m\u001b[0;34m:\u001b[0m\u001b[0;36m2\u001b[0m\u001b[0;34m]\u001b[0m \u001b[0;34m=\u001b[0m \u001b[0;34m[\u001b[0m\u001b[0;34m-\u001b[0m\u001b[0;36m17\u001b[0m\u001b[0;34m,\u001b[0m \u001b[0;34m-\u001b[0m\u001b[0;36m17\u001b[0m\u001b[0;34m,\u001b[0m \u001b[0;34m-\u001b[0m\u001b[0;36m17\u001b[0m\u001b[0;34m,\u001b[0m \u001b[0;34m-\u001b[0m\u001b[0;36m17\u001b[0m\u001b[0;34m]\u001b[0m\u001b[0;34m\u001b[0m\u001b[0;34m\u001b[0m\u001b[0m\n\u001b[0m",
      "\u001b[0;31mValueError\u001b[0m: attempt to assign sequence of size 4 to extended slice of size 3"
     ]
    }
   ],
   "source": [
    "mylist[::2] = [-17, -17, -17, -17]"
   ]
  },
  {
   "cell_type": "markdown",
   "id": "276e0678",
   "metadata": {},
   "source": [
    "## Timing different strategies\n",
    "\n",
    "<iframe width=\"560\" height=\"315\" src=\"https://www.youtube.com/embed/BM20r8_BcGQ\" title=\"YouTube video player\" frameborder=\"0\" allow=\"accelerometer; autoplay; clipboard-write; encrypted-media; gyroscope; picture-in-picture\" allowfullscreen></iframe>"
   ]
  },
  {
   "cell_type": "markdown",
   "id": "79d0bf36-9930-4bd3-8171-54458cada978",
   "metadata": {},
   "source": [
    "Here I have restarted this Jupyter notebook.  Let's compare some of the functions we have defined."
   ]
  },
  {
   "cell_type": "code",
   "execution_count": 1,
   "id": "66cbb60d",
   "metadata": {},
   "outputs": [],
   "source": [
    "def alt3(n):\n",
    "    A = np.zeros(n, dtype=np.int64)+3\n",
    "    A[1::2] = 8\n",
    "    return A"
   ]
  },
  {
   "cell_type": "markdown",
   "id": "0bb8e680-8c7a-4ea9-825a-174b5b69445b",
   "metadata": {},
   "source": [
    "We need to remember to re-import NumPy each time we restart the notebook, otherwise we'll get an error like in the following."
   ]
  },
  {
   "cell_type": "code",
   "execution_count": 2,
   "id": "e5543a2f",
   "metadata": {},
   "outputs": [
    {
     "ename": "NameError",
     "evalue": "name 'np' is not defined",
     "output_type": "error",
     "traceback": [
      "\u001b[0;31m---------------------------------------------------------------------------\u001b[0m",
      "\u001b[0;31mNameError\u001b[0m                                 Traceback (most recent call last)",
      "\u001b[0;32m/var/folders/8j/gshrlmtn7dg4qtztj4d4t_w40000gn/T/ipykernel_57482/3247321496.py\u001b[0m in \u001b[0;36m<module>\u001b[0;34m\u001b[0m\n\u001b[0;32m----> 1\u001b[0;31m \u001b[0malt3\u001b[0m\u001b[0;34m(\u001b[0m\u001b[0;36m10\u001b[0m\u001b[0;34m)\u001b[0m\u001b[0;34m\u001b[0m\u001b[0;34m\u001b[0m\u001b[0m\n\u001b[0m",
      "\u001b[0;32m/var/folders/8j/gshrlmtn7dg4qtztj4d4t_w40000gn/T/ipykernel_57482/3223429259.py\u001b[0m in \u001b[0;36malt3\u001b[0;34m(n)\u001b[0m\n\u001b[1;32m      1\u001b[0m \u001b[0;32mdef\u001b[0m \u001b[0malt3\u001b[0m\u001b[0;34m(\u001b[0m\u001b[0mn\u001b[0m\u001b[0;34m)\u001b[0m\u001b[0;34m:\u001b[0m\u001b[0;34m\u001b[0m\u001b[0;34m\u001b[0m\u001b[0m\n\u001b[0;32m----> 2\u001b[0;31m     \u001b[0mA\u001b[0m \u001b[0;34m=\u001b[0m \u001b[0mnp\u001b[0m\u001b[0;34m.\u001b[0m\u001b[0mzeros\u001b[0m\u001b[0;34m(\u001b[0m\u001b[0mn\u001b[0m\u001b[0;34m,\u001b[0m \u001b[0mdtype\u001b[0m\u001b[0;34m=\u001b[0m\u001b[0mnp\u001b[0m\u001b[0;34m.\u001b[0m\u001b[0mint64\u001b[0m\u001b[0;34m)\u001b[0m\u001b[0;34m+\u001b[0m\u001b[0;36m3\u001b[0m\u001b[0;34m\u001b[0m\u001b[0;34m\u001b[0m\u001b[0m\n\u001b[0m\u001b[1;32m      3\u001b[0m     \u001b[0mA\u001b[0m\u001b[0;34m[\u001b[0m\u001b[0;36m1\u001b[0m\u001b[0;34m:\u001b[0m\u001b[0;34m:\u001b[0m\u001b[0;36m2\u001b[0m\u001b[0;34m]\u001b[0m \u001b[0;34m=\u001b[0m \u001b[0;36m8\u001b[0m\u001b[0;34m\u001b[0m\u001b[0;34m\u001b[0m\u001b[0m\n\u001b[1;32m      4\u001b[0m     \u001b[0;32mreturn\u001b[0m \u001b[0mA\u001b[0m\u001b[0;34m\u001b[0m\u001b[0;34m\u001b[0m\u001b[0m\n",
      "\u001b[0;31mNameError\u001b[0m: name 'np' is not defined"
     ]
    }
   ],
   "source": [
    "alt3(10)"
   ]
  },
  {
   "cell_type": "code",
   "execution_count": 3,
   "id": "af18f7d5",
   "metadata": {},
   "outputs": [],
   "source": [
    "import numpy as np"
   ]
  },
  {
   "cell_type": "code",
   "execution_count": 4,
   "id": "ba410b83",
   "metadata": {},
   "outputs": [],
   "source": [
    "def alt3(n):\n",
    "    A = np.zeros(n, dtype=np.int64)+3\n",
    "    A[1::2] = 8\n",
    "    return A"
   ]
  },
  {
   "cell_type": "code",
   "execution_count": 5,
   "id": "a7ef5bbd",
   "metadata": {},
   "outputs": [
    {
     "data": {
      "text/plain": [
       "array([3, 8, 3, 8, 3, 8, 3, 8, 3, 8])"
      ]
     },
     "execution_count": 5,
     "metadata": {},
     "output_type": "execute_result"
    }
   ],
   "source": [
    "alt3(10)"
   ]
  },
  {
   "cell_type": "markdown",
   "id": "3554c670-bd47-4f6c-abe2-51e8158eb2fc",
   "metadata": {},
   "source": [
    "Here is another version, which is very similar to our original function from the top of this notebook (the only real difference is that I'm not using a separate `const` function in this case)."
   ]
  },
  {
   "cell_type": "code",
   "execution_count": 6,
   "id": "661f2327",
   "metadata": {},
   "outputs": [],
   "source": [
    "def alt4(n):\n",
    "    mylist = []\n",
    "    for i in range(n):\n",
    "        mylist.append(3)\n",
    "    for i in range(1,n,2):\n",
    "        mylist[i] = 8\n",
    "    return mylist"
   ]
  },
  {
   "cell_type": "code",
   "execution_count": 7,
   "id": "5d1a4aaa",
   "metadata": {},
   "outputs": [
    {
     "data": {
      "text/plain": [
       "[3, 8, 3, 8, 3, 8, 3, 8, 3, 8]"
      ]
     },
     "execution_count": 7,
     "metadata": {},
     "output_type": "execute_result"
    }
   ],
   "source": [
    "alt4(10)"
   ]
  },
  {
   "cell_type": "markdown",
   "id": "fc90cef0-a3bf-4ee1-940e-0c474804c37f",
   "metadata": {},
   "source": [
    "The functions `alt3` and `alt4` basically produce the same output, but `alt3` returns a NumPy array whereas `alt4` returns a list."
   ]
  },
  {
   "cell_type": "markdown",
   "id": "8c542e38-3690-4f73-b940-e3a9e9e8900e",
   "metadata": {},
   "source": [
    "Let's evaluate how long `alt4` takes in the case of input `10`.  Here is an example of the unit of time being µs, which stands for microsecond, which is $10^{-6}$ seconds."
   ]
  },
  {
   "cell_type": "code",
   "execution_count": 8,
   "id": "0eb390d3",
   "metadata": {},
   "outputs": [
    {
     "name": "stdout",
     "output_type": "stream",
     "text": [
      "1.18 µs ± 21.7 ns per loop (mean ± std. dev. of 7 runs, 1000000 loops each)\n"
     ]
    }
   ],
   "source": [
    "%%timeit\n",
    "alt4(10)"
   ]
  },
  {
   "cell_type": "markdown",
   "id": "4d3d25cd-d5dc-4979-894b-35a4dac3d8c5",
   "metadata": {},
   "source": [
    "We have already used for loops and if statements.  A third type of fundamental programming construction is a while loop.  Just for practice with while loops (this will be our first time seeing them), let's try to find a value of `n` such that `alt4(n)` takes over 5 seconds to complete.  I don't know how to do this using the `%%timeit` Jupyter magic function, so instead, let's use another Python library, the time library.  This is a standard library in Python, so you don't need to install it."
   ]
  },
  {
   "cell_type": "code",
   "execution_count": 9,
   "id": "cf6a0db4",
   "metadata": {},
   "outputs": [],
   "source": [
    "import time"
   ]
  },
  {
   "cell_type": "markdown",
   "id": "14140a44-be1e-41c6-9b60-5ec4f679a700",
   "metadata": {},
   "source": [
    "This number is not very meaningful by itself.  It becomes meaningful if we subtract another time from it, in which case we will get the number of seconds elapsed between the two calls."
   ]
  },
  {
   "cell_type": "code",
   "execution_count": 10,
   "id": "e16f18ae",
   "metadata": {},
   "outputs": [
    {
     "data": {
      "text/plain": [
       "1657444015.338846"
      ]
     },
     "execution_count": 10,
     "metadata": {},
     "output_type": "execute_result"
    }
   ],
   "source": [
    "time.time()"
   ]
  },
  {
   "cell_type": "code",
   "execution_count": 11,
   "id": "5efafc66",
   "metadata": {},
   "outputs": [
    {
     "data": {
      "text/plain": [
       "1657444029.606127"
      ]
     },
     "execution_count": 11,
     "metadata": {},
     "output_type": "execute_result"
    }
   ],
   "source": [
    "time.time()"
   ]
  },
  {
   "cell_type": "code",
   "execution_count": 12,
   "id": "b2d155eb",
   "metadata": {},
   "outputs": [],
   "source": [
    "start = time.time()\n",
    "alt4(10**3)\n",
    "end = time.time()\n",
    "t = end-start"
   ]
  },
  {
   "cell_type": "code",
   "execution_count": 13,
   "id": "5981d3ba",
   "metadata": {},
   "outputs": [
    {
     "data": {
      "text/plain": [
       "0.0003650188446044922"
      ]
     },
     "execution_count": 13,
     "metadata": {},
     "output_type": "execute_result"
    }
   ],
   "source": [
    "t"
   ]
  },
  {
   "cell_type": "markdown",
   "id": "b1381322-61d4-4642-9c9d-dbfc1fa6c0c2",
   "metadata": {},
   "source": [
    "Here we keep multiplying `n` by 2 and checking the new time.  We will exit the while loop once we have a value of `n` which takes over 5 seconds to complete.  Try going through the following code, step-by-step, to convince yourself that this really does produce the first value of `n` we've found for which `alt4(n)` takes over 5 seconds to complete."
   ]
  },
  {
   "cell_type": "code",
   "execution_count": 14,
   "id": "04d6fb91",
   "metadata": {},
   "outputs": [],
   "source": [
    "t = 0\n",
    "n = 100\n",
    "while t < 5:\n",
    "    n = n*2 # n *= 2\n",
    "    start = time.time()\n",
    "    alt4(n)\n",
    "    end = time.time()\n",
    "    t = end-start"
   ]
  },
  {
   "cell_type": "markdown",
   "id": "223d2b72-f496-496c-ad89-1f870498ab4f",
   "metadata": {},
   "source": [
    "Here we check that the time really is bigger than 5."
   ]
  },
  {
   "cell_type": "code",
   "execution_count": 15,
   "id": "be9e2871",
   "metadata": {},
   "outputs": [
    {
     "data": {
      "text/plain": [
       "5.250777959823608"
      ]
     },
     "execution_count": 15,
     "metadata": {},
     "output_type": "execute_result"
    }
   ],
   "source": [
    "t"
   ]
  },
  {
   "cell_type": "markdown",
   "id": "d4b2ec7d-6463-43a5-85fe-aec1afb6c22f",
   "metadata": {},
   "source": [
    "The following value of `n` is the length we were looking for.  So it took about 5.25 seconds to produce a length 52,428,800  list, alternating between 3s and 8s."
   ]
  },
  {
   "cell_type": "code",
   "execution_count": 16,
   "id": "19875655",
   "metadata": {},
   "outputs": [
    {
     "data": {
      "text/plain": [
       "52428800"
      ]
     },
     "execution_count": 16,
     "metadata": {},
     "output_type": "execute_result"
    }
   ],
   "source": [
    "n"
   ]
  },
  {
   "cell_type": "code",
   "execution_count": 17,
   "id": "6c7c0bec",
   "metadata": {},
   "outputs": [],
   "source": [
    "def alt3(n):\n",
    "    A = np.zeros(n, dtype=np.int64)+3\n",
    "    A[1::2] = 8\n",
    "    return A"
   ]
  },
  {
   "cell_type": "markdown",
   "id": "4302b1aa-9bc2-4ee1-9916-f668f95a3219",
   "metadata": {},
   "source": [
    "Notice how much faster it is using the NumPy version of our function.  For the same input `n`, the `alt3` function takes about a quarter of a second instead of over 5 seconds."
   ]
  },
  {
   "cell_type": "code",
   "execution_count": 18,
   "id": "e793532b",
   "metadata": {},
   "outputs": [
    {
     "name": "stdout",
     "output_type": "stream",
     "text": [
      "52428800\n",
      "0.26982712745666504\n"
     ]
    }
   ],
   "source": [
    "print(n)\n",
    "start = time.time()\n",
    "alt3(n)\n",
    "end = time.time()\n",
    "t = end-start\n",
    "print(t)"
   ]
  },
  {
   "cell_type": "markdown",
   "id": "96b61ccf-2349-4250-bb49-59d3f4b6b2a9",
   "metadata": {},
   "source": [
    "If you want the output to be a list instead of a NumPy array, you can convert to a list."
   ]
  },
  {
   "cell_type": "code",
   "execution_count": 19,
   "id": "2afb1767",
   "metadata": {},
   "outputs": [],
   "source": [
    "def alt3b(n):\n",
    "    A = np.zeros(n, dtype=np.int64)+3\n",
    "    A[1::2] = 8\n",
    "    return list(A)"
   ]
  },
  {
   "cell_type": "code",
   "execution_count": 20,
   "id": "dd263db1",
   "metadata": {},
   "outputs": [
    {
     "data": {
      "text/plain": [
       "[3, 8, 3, 8, 3, 8, 3, 8, 3, 8]"
      ]
     },
     "execution_count": 20,
     "metadata": {},
     "output_type": "execute_result"
    }
   ],
   "source": [
    "alt3b(10)"
   ]
  },
  {
   "cell_type": "markdown",
   "id": "57c91954-00a4-4fff-8ccb-0a8ea7b2d0f5",
   "metadata": {},
   "source": [
    "Surprisingly (to me), making this conversion to a list really slows down the function."
   ]
  },
  {
   "cell_type": "code",
   "execution_count": 21,
   "id": "7e3123f1",
   "metadata": {},
   "outputs": [
    {
     "name": "stdout",
     "output_type": "stream",
     "text": [
      "52428800\n",
      "4.124554872512817\n"
     ]
    }
   ],
   "source": [
    "print(n)\n",
    "start = time.time()\n",
    "alt3b(n)\n",
    "end = time.time()\n",
    "t = end-start\n",
    "print(t)"
   ]
  },
  {
   "cell_type": "markdown",
   "id": "0480df3e-689a-4bc2-b5bd-a02d605bc807",
   "metadata": {},
   "source": [
    "Here is a mix between the two methods.  It uses a for loop to assign the 8 values, instead of using the slicing syntax.  The main lesson is that, when possible, we should always try to avoid for loops.  The assignment using `A[1::2] = 8` was much faster, over 10 times faster, than in the following where we make the same assignment using a for loop.  "
   ]
  },
  {
   "cell_type": "code",
   "execution_count": 22,
   "id": "aab54ade",
   "metadata": {},
   "outputs": [],
   "source": [
    "def alt3c(n):\n",
    "    A = np.zeros(n, dtype=np.int64)+3\n",
    "    for i in range(1,n,2):\n",
    "        A[i] = 8\n",
    "    return A"
   ]
  },
  {
   "cell_type": "code",
   "execution_count": 23,
   "id": "5fead9e2",
   "metadata": {},
   "outputs": [
    {
     "name": "stdout",
     "output_type": "stream",
     "text": [
      "52428800\n",
      "2.886206865310669\n"
     ]
    }
   ],
   "source": [
    "print(n)\n",
    "start = time.time()\n",
    "alt3c(n)\n",
    "end = time.time()\n",
    "t = end-start\n",
    "print(t)"
   ]
  }
 ],
 "metadata": {
  "kernelspec": {
   "display_name": "Python 3 (ipykernel)",
   "language": "python",
   "name": "python3"
  },
  "language_info": {
   "codemirror_mode": {
    "name": "ipython",
    "version": 3
   },
   "file_extension": ".py",
   "mimetype": "text/x-python",
   "name": "python",
   "nbconvert_exporter": "python",
   "pygments_lexer": "ipython3",
   "version": "3.10.5"
  }
 },
 "nbformat": 4,
 "nbformat_minor": 5
}
